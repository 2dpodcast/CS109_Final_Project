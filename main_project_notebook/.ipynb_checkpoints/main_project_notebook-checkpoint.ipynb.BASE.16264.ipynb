{
 "metadata": {
  "name": ""
 },
 "nbformat": 3,
 "nbformat_minor": 0,
 "worksheets": [
  {
   "cells": [
    {
     "cell_type": "markdown",
     "metadata": {},
     "source": [
      "#Catchy Title?\n",
      "\n",
      "*\u201cThe journey is the destination.\u201d \u2015 Dan Eldon*\n",
      "\n",
      "\n",
      "<img src=\"files/taj.jpg\">\n",
      "\n",
      "Image source: 500px"
     ]
    },
    {
     "cell_type": "heading",
     "level": 2,
     "metadata": {},
     "source": [
      "Introduction and Project Description"
     ]
    },
    {
     "cell_type": "markdown",
     "metadata": {},
     "source": [
      "Throughout the course we have reiterated time and again the increasing amount of data being generated about the world around us. Insights about such data can lead to further understanding of the dynamics of various industries. \n",
      "\n",
      "Increasingly, geo-tagged social media data allow us to perform quantitative studies of different industries. In Hawelka et al, Geo-located Twitter as the proxy for global mobility patterns, a comprehensive study of global tourist mobility patterns was performed usign tweets over the period of a year leading to interesting insights about the global tourism industry. \n",
      "\n",
      "For this project, we aim to take such analysis to the next level through a comprehensive analysis of travel 'foot-prints' within a particular region. In this case, we choose the United States of America. We are interested in using social media data obtained through travel sites like Travel Blog to analyze the mobility patterns of tourists. \n",
      "\n",
      "In several regions across the world like Greece, Japan, Hawaii, tourism is a critical component of the local economy. Insights obtained from tourist mobility patterns and the development of a geo-spatial network of destinations can provide various stakeholders with useful knowledge regardingthe overall tourism industry in a region. \n",
      "\n",
      "Increasingly, countries like Japan are looking to 'big-data' techniques to discover behavioral patterns as potential means of optimizing outreach,  increasing the overall volume of incoming tourists, and enhancing the tourist experience. \n",
      "\n",
      "On a technical note, we aim to develop a city-by-city network of tourist flows in the US. Given such a network, different metrics can be computed which would help in the classification of various cities and regions as well as revealing different intricacies to travel in such a region. \n",
      "\n",
      "In addition to the city-by-city network, a critical part of this project is a study of traveller foot-prints/mobility traces in a given region. The mobility trace of a tourist describes the set of locations and corresponding times associated with a tourist's movement in a particular region. Through data about such traces, we can provide personalized descriptors as well as infrer probabilities of the path that a particular tourist would follow. We can also understand and potentially classify travellers based on their mobility profiles. \n",
      "\n",
      "Mobility Inference (next step prediction) and a classification of travellers is important because it can provide the host region with insights with which contextualized services can cater to different tourists. For example, if the city of New York knows that 200k people would visit between Jan - Feb and through a traveller trace classification knows the location visitation patterns of such tourists, the city can prepare adequately and work on providing relevant services to these travellers. "
     ]
    },
    {
     "cell_type": "heading",
     "level": 2,
     "metadata": {},
     "source": [
      "Process description"
     ]
    },
    {
     "cell_type": "markdown",
     "metadata": {},
     "source": [
      "Initially, we worked individually on our own notebooks.  During the exploration phase, we started\n",
      "to migrate our work into the main process notebook.  We decided from the beginning to follow the\n",
      "data science process outlined at the beginning of class.\n",
      "\n",
      "Project communication was over email with weekly conference calls.\n",
      "\n",
      "*Structure with interleaved/iterative approach.*  In keeping with the Data Science process, our\n",
      "approach is iterative.  Although we established a general project framework with stages, we also\n",
      "include considerations from different phases as they naturally arise in the process.  We did not\n",
      "seek to enforce artificial firewalls between phases.  For example, we include discussion about\n",
      "our thought process about things like modeling in the phases that such discussion actually occurred\n",
      "(for example, scraping).  We feel this gives a more natural and real presentation of our process."
     ]
    },
    {
     "cell_type": "heading",
     "level": 2,
     "metadata": {},
     "source": [
      "Note on notebook outputs"
     ]
    },
    {
     "cell_type": "markdown",
     "metadata": {},
     "source": [
      "In order to reduce the probability of merge conflicts as 4 team members collaborate on a single\n",
      "shared notebook, we run \"cell->all output->clear\" before committing.  This means that in order to\n",
      "view graphs, you need to run all cells.\n",
      "\n",
      "The notebook is intended to be able to run all cells fairly easily.  If certain cells take a long\n",
      "time to recompute, we will develop caches to be able to recover the output more quickly."
     ]
    },
    {
     "cell_type": "heading",
     "level": 2,
     "metadata": {},
     "source": [
      "Boilerplate initialization and module imports"
     ]
    },
    {
     "cell_type": "markdown",
     "metadata": {},
     "source": [
      "The following standard top code sets up our familiar defaults from the homeworks."
     ]
    },
    {
     "cell_type": "code",
     "collapsed": false,
     "input": [
      "#This is from the class homeworks. It is really good for formatting graphs\n",
      "#No need to reinvent the wheel\n",
      "\n",
      "%matplotlib inline\n",
      "\n",
      "import json\n",
      "import sys\n",
      "import os\n",
      "import csv \n",
      "\n",
      "import numpy as np\n",
      "import networkx as nx\n",
      "import requests\n",
      "from pattern import web\n",
      "import matplotlib.pyplot as plt\n",
      "from BeautifulSoup import BeautifulSoup\n",
      "import itertools\n",
      "import operator\n",
      "import pandas as pd\n",
      "import datetime\n",
      "from datetime import date, time\n",
      "\n",
      "import random\n",
      "import time\n",
      "\n",
      "# set some nicer defaults for matplotlib\n",
      "from matplotlib import rcParams\n",
      "\n",
      "#these colors come from colorbrewer2.org. Each is an RGB triplet\n",
      "dark2_colors = [(0.10588235294117647, 0.6196078431372549, 0.4666666666666667),\n",
      "                (0.8509803921568627, 0.37254901960784315, 0.00784313725490196),\n",
      "                (0.4588235294117647, 0.4392156862745098, 0.7019607843137254),\n",
      "                (0.9058823529411765, 0.1607843137254902, 0.5411764705882353),\n",
      "                (0.4, 0.6509803921568628, 0.11764705882352941),\n",
      "                (0.9019607843137255, 0.6705882352941176, 0.00784313725490196),\n",
      "                (0.6509803921568628, 0.4627450980392157, 0.11372549019607843),\n",
      "                (0.4, 0.4, 0.4)]\n",
      "\n",
      "rcParams['figure.figsize'] = (10, 6)\n",
      "rcParams['figure.dpi'] = 150\n",
      "rcParams['axes.color_cycle'] = dark2_colors\n",
      "rcParams['lines.linewidth'] = 2\n",
      "# We set axes.grid to True because we don't want to require the viewer to put a ruler up\n",
      "# against their monitor just to be able to get a precise quantity estimate.\n",
      "rcParams['axes.grid'] = True\n",
      "rcParams['axes.facecolor'] = 'white'\n",
      "rcParams['font.size'] = 14\n",
      "rcParams['patch.edgecolor'] = 'none'\n",
      "\n",
      "def remove_border(axes=None, top=False, right=False, left=True, bottom=True):\n",
      "    \"\"\"\n",
      "    Minimize chartjunk by stripping out unnecessary plot borders and axis ticks\n",
      "    \n",
      "    The top/right/left/bottom keywords toggle whether the corresponding plot border is drawn\n",
      "    \"\"\"\n",
      "    ax = axes or plt.gca()\n",
      "    ax.spines['top'].set_visible(top)\n",
      "    ax.spines['right'].set_visible(right)\n",
      "    ax.spines['left'].set_visible(left)\n",
      "    ax.spines['bottom'].set_visible(bottom)\n",
      "    \n",
      "    #turn off all ticks\n",
      "    ax.yaxis.set_ticks_position('none')\n",
      "    ax.xaxis.set_ticks_position('none')\n",
      "    \n",
      "    #now re-enable visibles\n",
      "    if top:\n",
      "        ax.xaxis.tick_top()\n",
      "    if bottom:\n",
      "        ax.xaxis.tick_bottom()\n",
      "    if left:\n",
      "        ax.yaxis.tick_left()\n",
      "    if right:\n",
      "        ax.yaxis.tick_right()"
     ],
     "language": "python",
     "metadata": {},
     "outputs": [],
     "prompt_number": 20
    },
    {
     "cell_type": "heading",
     "level": 1,
     "metadata": {},
     "source": [
      "1. Data Procurement"
     ]
    },
    {
     "cell_type": "markdown",
     "metadata": {},
     "source": [
      "We chose initially to investigate procuring data from TravelBlog, Twitter, and tripadvisor."
     ]
    },
    {
     "cell_type": "heading",
     "level": 2,
     "metadata": {},
     "source": [
      "1.1 Description of TravelBlog and plan for scraping footprints"
     ]
    },
    {
     "cell_type": "markdown",
     "metadata": {},
     "source": [
      "TravelBlog is a website that hosts blogs of travelers describing their trips.  Each blogger has a name (\"Dirtdwellers\", for example), and posts blog entries about their travels.  Each blog entry has the following data:\n",
      "\n",
      "* Publish date\n",
      "* Title\n",
      "* Location path (\"Travel Blog \u00bb Europe \u00bb France \u00bb \u00cele-de-France \u00bb Acheres\", for example)\n",
      "* blogger name\n",
      "* blog text\n",
      "\n",
      "It would be difficult to extract regular, structured information from the blog texts.  However, because we know the location path of any blog, as well as the date and the blogger, we observed that we could crawl the site, recording rows with the date, location path, and blogger name.\n",
      "\n",
      "We could then correlate each location path with a geolocation.  This would be enough information to build per-blogger travel paths.  See the discussion below on maps for more information about\n",
      "geolocation.\n",
      "\n",
      "Potential problems include not being able to get enough data, and the risk that bloggers on travelblog.org may not be representative of all or even most travelers -- what about tourists and business travelers who don't blog on travelblog.org?\n",
      "\n",
      "Each blogger has a Maps page that gives geolocations of the blog postings.  More research needs to be done to confirm, but these appear to be attempts to automatically geolocate the blogger by IP, which may not be reliable -- even assuming the blogger is not using Tor.\n",
      "\n",
      "* Are the geolocations in the maps page generated from the IP address of the blogger?\n",
      "* Is the location path generated from the geolocation?\n",
      "\n",
      "*Julius confirmed later that the latitude and longitude values are standard entries for the location blogged about. That is to say, travelblogs.org appears to look up the latitude and longitude in a table using the location as a key.  Therefore the answers to these two questions are no and no.*\n",
      "\n",
      "For the moment we can say that this is information that we want, and we could converge to the following first scraping algorithm:\n",
      "\n",
      "    for each blogger:\n",
      "        for each (geolocation, blog id) pair:\n",
      "            scrape and store publish date, title, location path, and text along with blogger, geolocation, blog id\n",
      "\n",
      "Having identified a rough scraping plan, we look in more detail at the geolocation information\n",
      "available on a blogger's map page.  As an example, the user jdkinley's map page is here:\n",
      "\n",
      "http://www.travelblog.org/Bloggers/jdkinley/map.html\n",
      "\n",
      "Within this page is a bit of javascript with parallel arrays:\n",
      "\n",
      "    <script type='text/javascript'>\n",
      "\n",
      "    var placemarkers = '(37.7186,-77.3438),(32.2192,-80.6706), [...] ';\n",
      "    var placedata = '(264512,Getting started on the dream), [...] ';\n",
      "    var line = '';\n",
      "\n",
      "    </script>\n",
      "\n",
      "This data does not need to be collected on the first pass.  As long as first pass data has the username and the blog id, a second pass could look like the following:\n",
      "\n",
      "    for each user in the first pass collection,\n",
      "        scrape the placemarkers and placedata from that user's map page\n",
      "        join each resulting (latitude, longitude, blogid, blogtitle, userid) to existing data\n",
      "        \n",
      "This would almost certainly result in some \"holes\" (entries in original data without this additional data), but without trying this, we won't know.\n"
     ]
    },
    {
     "cell_type": "heading",
     "level": 2,
     "metadata": {},
     "source": [
      "1.2 First scrape from TravelBlog"
     ]
    },
    {
     "cell_type": "markdown",
     "metadata": {},
     "source": [
      "As mentioned above, TravelBlog.com offers data from traveler traces within a region through their\n",
      "blogs.  The following exploratory code scrapes core data regarding traveler traces for ~53k blogs (footprints) in the USA from the last 10 years."
     ]
    },
    {
     "cell_type": "code",
     "collapsed": false,
     "input": [
      "#receives a blog summary (DOM of its html code) and returns a dict with the blog's core data\n",
      "\n",
      "def get_data_from_blog_summary(blogSummaryDom):\n",
      "    \n",
      "    blogData = {}\n",
      "    \n",
      "    for part in blogSummaryDom.by_tag('div'): # blog summaries' html parts: header, body, footer\n",
      "        if 'class' in part.attributes:\n",
      "            classAttr = str(part.attributes['class'])\n",
      "            \n",
      "            if classAttr == \"blog_header\":\n",
      "                url = part.by_tag('a')[0].attributes['href']\n",
      "                blogData['number'] = url.split('blog-')[1].split('.')[0] #Get number\n",
      "                locationPath = url.split('blog-')[0]\n",
      "                blogData['location_path'] = locationPath[1:-1].split('/') #Get location_path\n",
      "                blogData['publication_date'] = part.by_tag('span')[0].content.split(': ')[1] #Get publication_date\n",
      "            \n",
      "            if (classAttr == \"blog_body left\") or (classAttr == \"blog_body right\"):\n",
      "                for span in part.by_tag('span'):\n",
      "                    if span.attributes['class']== 'author':\n",
      "                        blogData['blogger'] = span.by_tag('a')[0].attributes['href'].split('/')[-2] # get blogger\n",
      "                    if span.attributes['class']== 'blog_date': \n",
      "                        blogData['blog_date'] = span.content # get blog_date\n",
      "                    #not currently getting the blog content summary\n",
      "\n",
      "    return blogData\n"
     ],
     "language": "python",
     "metadata": {},
     "outputs": [],
     "prompt_number": 21
    },
    {
     "cell_type": "markdown",
     "metadata": {},
     "source": [
      "The code below performs the actual scrape.  We set the pages variable to the empty array to prevent doing another scrape from within the notebook.  This code is for historical/demonstration purposes only."
     ]
    },
    {
     "cell_type": "code",
     "collapsed": false,
     "input": [
      "# Get all USA footprints/blogs\n",
      "\n",
      "blogsData = []\n",
      "pages = range(1,5)  # 5461 max; modify the range for scraping any subset\n",
      "\n",
      "pages = []\n",
      "\n",
      "for i, page in enumerate(pages):\n",
      "    \n",
      "    time.sleep(random.uniform(0,3))\n",
      "    urlPage = 'http://www.travelblog.org/North-America/United-States/blogs-page-' + str(page) + '.html'\n",
      "    pageHtml = requests.get(urlPage).text\n",
      "    domPage = web.Element(pageHtml)\n",
      "    \n",
      "    for blogSummary in domPage.by_tag('div'):\n",
      "        \n",
      "        #screen the html to get the blogs' summaries\n",
      "        if 'class' in blogSummary.attributes:\n",
      "            classAttr = str(blogSummary.attributes['class'])\n",
      "            if (classAttr == \"blog_panel summary_left \") or (classAttr == \"blog_panel summary_right \"):\n",
      "                blogsData.append( get_data_from_blog_summary(blogSummary) )\n",
      "    print i, page\n"
     ],
     "language": "python",
     "metadata": {},
     "outputs": [],
     "prompt_number": 22
    },
    {
     "cell_type": "markdown",
     "metadata": {},
     "source": [
      "The quoted code below shows is for historical interest only; it was used to create the initial\n",
      "'Travel_Blogs_USA_all.csv' file."
     ]
    },
    {
     "cell_type": "code",
     "collapsed": false,
     "input": [
      "# writes and reads the data to/from csv file\n",
      "# be careful, the first part overwrites the csv data file\n",
      "\n",
      "'''\n",
      "blog = blogsData\n",
      "with open('Travel_Blogs_USA_all.csv', 'wb+') as csvFile:\n",
      "    dict_writer = csv.DictWriter(csvFile, fieldnames=['location_path', 'publication_date', 'number', 'blog_date', 'blogger'])\n",
      "    dict_writer.writeheader()\n",
      "    dict_writer.writerows(blog)\n",
      "'''\n",
      "\n",
      "'''\n",
      "with open( 'Travel_Blogs_USA_all.csv', 'r') as csvFile:\n",
      "    #this reads the first line as the keys; we can add specific keys with: csv.DictReader( csvFile, fieldnames=<LIST HERE>, restkey=None, restval=None, )\n",
      "    csvDict = csv.DictReader( csvFile, restkey=None, restval=None, )\n",
      "    blogsDataFromCSV = [obj for obj in csvDict]\n",
      "'''"
     ],
     "language": "python",
     "metadata": {},
     "outputs": [
      {
       "metadata": {},
       "output_type": "pyout",
       "prompt_number": 4,
       "text": [
        "\"\\nwith open( 'Travel_Blogs_USA_all.csv', 'r') as csvFile:\\n    #this reads the first line as the keys; we can add specific keys with: csv.DictReader( csvFile, fieldnames=<LIST HERE>, restkey=None, restval=None, )\\n    csvDict = csv.DictReader( csvFile, restkey=None, restval=None, )\\n    blogsDataFromCSV = [obj for obj in csvDict]\\n\""
       ]
      }
     ],
     "prompt_number": 4
    },
    {
     "cell_type": "heading",
     "level": 2,
     "metadata": {},
     "source": [
      "1.3 Second scrape from TravelBlog (geolocations of traveler's footprints)"
     ]
    },
    {
     "cell_type": "markdown",
     "metadata": {},
     "source": [
      "We seek the geolocation data for the blogs collected in the initial scrape.  We do this by first loading the csv into a Pandas file:"
     ]
    },
    {
     "cell_type": "code",
     "collapsed": false,
     "input": [
      "df=pd.read_csv(\"Travel_Blogs_USA_all.csv\")\n",
      "\n",
      "df.describe()"
     ],
     "language": "python",
     "metadata": {},
     "outputs": [
      {
       "html": [
        "<div style=\"max-height:1000px;max-width:1500px;overflow:auto;\">\n",
        "<table border=\"1\" class=\"dataframe\">\n",
        "  <thead>\n",
        "    <tr style=\"text-align: right;\">\n",
        "      <th></th>\n",
        "      <th>number</th>\n",
        "    </tr>\n",
        "  </thead>\n",
        "  <tbody>\n",
        "    <tr>\n",
        "      <th>count</th>\n",
        "      <td>  53217.000000</td>\n",
        "    </tr>\n",
        "    <tr>\n",
        "      <th>mean</th>\n",
        "      <td> 410267.953831</td>\n",
        "    </tr>\n",
        "    <tr>\n",
        "      <th>std</th>\n",
        "      <td> 230144.632876</td>\n",
        "    </tr>\n",
        "    <tr>\n",
        "      <th>min</th>\n",
        "      <td>      9.000000</td>\n",
        "    </tr>\n",
        "    <tr>\n",
        "      <th>25%</th>\n",
        "      <td> 220401.000000</td>\n",
        "    </tr>\n",
        "    <tr>\n",
        "      <th>50%</th>\n",
        "      <td> 408279.000000</td>\n",
        "    </tr>\n",
        "    <tr>\n",
        "      <th>75%</th>\n",
        "      <td> 609322.000000</td>\n",
        "    </tr>\n",
        "    <tr>\n",
        "      <th>max</th>\n",
        "      <td> 816499.000000</td>\n",
        "    </tr>\n",
        "  </tbody>\n",
        "</table>\n",
        "</div>"
       ],
       "metadata": {},
       "output_type": "pyout",
       "prompt_number": 23,
       "text": [
        "              number\n",
        "count   53217.000000\n",
        "mean   410267.953831\n",
        "std    230144.632876\n",
        "min         9.000000\n",
        "25%    220401.000000\n",
        "50%    408279.000000\n",
        "75%    609322.000000\n",
        "max    816499.000000"
       ]
      }
     ],
     "prompt_number": 23
    },
    {
     "cell_type": "markdown",
     "metadata": {},
     "source": [
      "We then iterate through all bloggers, and for each blogger, we scrape and dump the geolocation information from their maps page into its own csv file.  We do this for several reasons, mainly if we crash or get interrupted, we don't want to have to go through the whole process again.\n",
      "\n",
      "We also cache requests for similar reasons.\n",
      "\n",
      "In the code below (disabled to prevent starting another scrape), the main loop iterates through each\n",
      "blogger, writing the geolocations of each user's blog into a csv file for that blogger.  In a later\n",
      "stage, we write a script to assemble the per-user blogs into a single .csv file.  See \"Iterative\n",
      "exploration, cleaning and generalization of the data\" below."
     ]
    },
    {
     "cell_type": "markdown",
     "metadata": {},
     "source": [
      "TODO: put John's library code in the notebook folder? so that the code is demonstrable"
     ]
    },
    {
     "cell_type": "code",
     "collapsed": false,
     "input": [
      "import jabj.scrapers.travelblog as tb\n",
      "import os\n",
      "import pandas as pd\n",
      "import random\n",
      "import time\n",
      "\n",
      "bloggers = set(df['blogger'])\n",
      "\n",
      "# This scrape is of historical interest only.  We prevent doing another scrape by setting\n",
      "# bloggers to the empty set.\n",
      "bloggers = set()\n",
      "\n",
      "for blogger in bloggers:\n",
      "    blogger_csv_fnam = 'travelblog_per_user_maps/{}.csv'.format(blogger)\n",
      "    if os.path.exists(blogger_csv_fnam):\n",
      "        continue\n",
      "    blogger_df = tb.get_blogger_blog_coords(blogger)\n",
      "    if blogger_df:\n",
      "        blogger_df.to_csv(blogger_csv_fnam)\n",
      "    else:\n",
      "        print \"{} not found\".format(blogger)\n",
      "        \n",
      "    time.sleep(random.uniform(0,2))\n"
     ],
     "language": "python",
     "metadata": {},
     "outputs": [
      {
       "ename": "ImportError",
       "evalue": "No module named jabj.scrapers.travelblog",
       "output_type": "pyerr",
       "traceback": [
        "\u001b[1;31m---------------------------------------------------------------------------\u001b[0m\n\u001b[1;31mImportError\u001b[0m                               Traceback (most recent call last)",
        "\u001b[1;32m<ipython-input-6-94e3c22a9ad6>\u001b[0m in \u001b[0;36m<module>\u001b[1;34m()\u001b[0m\n\u001b[1;32m----> 1\u001b[1;33m \u001b[1;32mimport\u001b[0m \u001b[0mjabj\u001b[0m\u001b[1;33m.\u001b[0m\u001b[0mscrapers\u001b[0m\u001b[1;33m.\u001b[0m\u001b[0mtravelblog\u001b[0m \u001b[1;32mas\u001b[0m \u001b[0mtb\u001b[0m\u001b[1;33m\u001b[0m\u001b[0m\n\u001b[0m\u001b[0;32m      2\u001b[0m \u001b[1;32mimport\u001b[0m \u001b[0mos\u001b[0m\u001b[1;33m\u001b[0m\u001b[0m\n\u001b[0;32m      3\u001b[0m \u001b[1;32mimport\u001b[0m \u001b[0mpandas\u001b[0m \u001b[1;32mas\u001b[0m \u001b[0mpd\u001b[0m\u001b[1;33m\u001b[0m\u001b[0m\n\u001b[0;32m      4\u001b[0m \u001b[1;32mimport\u001b[0m \u001b[0mrandom\u001b[0m\u001b[1;33m\u001b[0m\u001b[0m\n\u001b[0;32m      5\u001b[0m \u001b[1;32mimport\u001b[0m \u001b[0mtime\u001b[0m\u001b[1;33m\u001b[0m\u001b[0m\n",
        "\u001b[1;31mImportError\u001b[0m: No module named jabj.scrapers.travelblog"
       ]
      }
     ],
     "prompt_number": 6
    },
    {
     "cell_type": "heading",
     "level": 2,
     "metadata": {},
     "source": [
      "1.4 Wrangling tourist data from tripadvisor.com"
     ]
    },
    {
     "cell_type": "markdown",
     "metadata": {},
     "source": [
      "TODO: explain that we were exploring this possibility and why we decided to concentrate in TravelBlogs"
     ]
    },
    {
     "cell_type": "markdown",
     "metadata": {},
     "source": [
      "Tripadvisor.com has forums and reviews where people post data about particular cities.  Each user has a user id (for example, gatdaddy3), and a user's profile page has a map page.  The map page contains a bit of embedded javascript with geographic data.\n",
      "\n",
      "http://www.tripadvisor.com/TravelMap-a_uid.3BC5290E6AF16D4F1248DAE15634620F\n",
      "\n",
      "Users make per-location *contributions*, which can be either forum posts or reviews.  The user's map page has a list of locations for which the user has made contributions.  In order to get information about these contributions require another request.\n",
      "\n",
      "Stage 1 scrape:\n",
      "\n",
      "    for each user (within a certain range):\n",
      "        for each city that the user has made contributions to:\n",
      "            create a table entry (userid, cityid, cityname, longitude, latitude, members_citypage_url)\n",
      "            \n",
      "Getting dates associated with contributions would require a second request for each such entry to the members citypage url.  This would be done in a stage 2 scrape:\n",
      "\n",
      "    for each entry in tripadvisor_user_contributions table:\n",
      "        request member citypage\n",
      "        extract dates of contributions\n",
      "        \n",
      "Depending on the number of users we get, this scrape could take a lot more time, but it will provide us with the geolocation *and* the date.\n",
      "\n",
      "After initial scraping and exploration, we decided not to go with tripadvisor, and to focus on TravelBlogs."
     ]
    },
    {
     "cell_type": "heading",
     "level": 2,
     "metadata": {},
     "source": [
      "1.5 Creation of a library"
     ]
    },
    {
     "cell_type": "markdown",
     "metadata": {},
     "source": [
      "In order to make scraping easier and more regular, we created a Python library for our project.  A scraper is a function that takes text input and returns and output.  The pattern becomes\n",
      "\n",
      "1.  Identify a new type of page you want to be able to scrape.\n",
      "2.  Get a sample page and put it in the test directory jabj/test/scrapers/XXXX, where XXXX is the next available number.\n",
      "3.  Update jabj/test/scrapers/db with a mapping of the number XXXX to the url.\n",
      "4.  Write a test script t_XXXX.py that contains two variables:  scraper and expected.  The top level test script will feed the input data to the scraper, and check that the output is correct.  This prevents the need to write repetitive boilerplate.\n",
      "\n",
      "In this way, we can build up a library of scrapers that will help us do higher level things like have multiple people scraping, and write functions that use scrapers in predictable and regular ways.\n",
      "\n",
      "The library is in the jabj subdirectory of the top-level project on github.  It has scrapers and\n",
      "tests for both tripadvisor and TravelBlogs.\n",
      "\n",
      "In the section \"Impediments to Collaboration\" of the paper by Kandel, Paepcke, Hellerstein, and\n",
      "Heer, the authors discuss a number of poor coding habits of data scientists.  The library reflects a\n",
      "conscious decision to follow some of the author's recommendations.\n"
     ]
    },
    {
     "cell_type": "heading",
     "level": 3,
     "metadata": {},
     "source": [
      "Use of requests_cache"
     ]
    },
    {
     "cell_type": "markdown",
     "metadata": {},
     "source": [
      "There is a Python module requests_cache that is useful for situations such as making it halfway through a scraping sequence and having your program crash for whatever reason.  The next time you run it, it runs much faster because you aren't re-requesting data you already have.  It is also much friendlier to the web servers."
     ]
    },
    {
     "cell_type": "heading",
     "level": 1,
     "metadata": {},
     "source": [
      "2. Data Structuring"
     ]
    },
    {
     "cell_type": "heading",
     "level": 2,
     "metadata": {},
     "source": [
      "Thinking about data storage and representation"
     ]
    },
    {
     "cell_type": "markdown",
     "metadata": {},
     "source": [
      "Do we need an actual database for the data we collect?\n",
      "\n",
      "If our data becomes too large and unwieldy, then we should consider a database.  Until then, we should probably focus on the data collection and exploration itself, and see how far the IPython notebook + Pandas approach takes us.  It is after all what we have been using for the whole semester, so we know the tools.\n",
      "\n",
      "In order to be safe, we set up a database in the event that it becomes useful or necessary for\n",
      "later stages such as unsupervised learning."
     ]
    },
    {
     "cell_type": "heading",
     "level": 3,
     "metadata": {},
     "source": [
      "Questions about the data"
     ]
    },
    {
     "cell_type": "markdown",
     "metadata": {},
     "source": [
      "In order to help inform the structuring of the data, we consider some of the questions we are\n",
      "seeking to answer.\n",
      "\n",
      "* What is $P(A|X)$ where $X$ a current location (or path), and $A$ is a following destination?\n",
      "* Can we predict a traveler's next stop based on where they are and have been?\n",
      "* Can we predict how long they will remain in a location given their previous itinerary?\n",
      "* Should we **not** confuse travel blogging with traveling, and instead make our questions about blogging:  \"Given that a blogger blogs about destination $X$, what is the probability they will blog about destination $Y$?\"  We could always say that based on what travel bloggers say, we think that travelers may be doing $X$, instead of conflating travel bloggers with travelers."
     ]
    },
    {
     "cell_type": "heading",
     "level": 3,
     "metadata": {},
     "source": [
      "Data structure is the Pandas data frame"
     ]
    },
    {
     "cell_type": "markdown",
     "metadata": {},
     "source": [
      "We settle on our current method of scraping data into Python data structures of some type, possibly\n",
      "Pandas, storing in .csv files which serve the function of tables in a relational framework, and\n",
      "reading the data in using ad-hoc scripts."
     ]
    },
    {
     "cell_type": "heading",
     "level": 2,
     "metadata": {},
     "source": [
      "2.1 Integrating and Reading the Data"
     ]
    },
    {
     "cell_type": "markdown",
     "metadata": {},
     "source": [
      "After collecting all .csv files to gather geolocation data, we joined the new .csv files with `Travel_Blogs_USA_all.csv` to create a new combined `.csv` file using a script (`assemble_maps_to_stage1.py`).  This script reads all csvs into Pandas dataframes, concatenates them, and then joins them using `pd.merge()` with the original dataframe to create the combined dataframe `Travel_Blogs_USA_combined.csv`."
     ]
    },
    {
     "cell_type": "code",
     "collapsed": false,
     "input": [
      "df=pd.read_csv(\"Travel_Blogs_USA_combined.csv\")\n",
      "\n",
      "df.describe()\n",
      "\n",
      "print df.head()"
     ],
     "language": "python",
     "metadata": {},
     "outputs": [
      {
       "output_type": "stream",
       "stream": "stdout",
       "text": [
        "   Unnamed: 0                                      location_path  \\\n",
        "0           0  [u'North-America', u'United-States', u'Arizona...   \n",
        "1           1  [u'North-America', u'United-States', u'Arizona...   \n",
        "2           2  [u'North-America', u'United-States', u'Califor...   \n",
        "3           3  [u'North-America', u'United-States', u'Califor...   \n",
        "4           4  [u'North-America', u'United-States', u'Alabama...   \n",
        "\n",
        "     publication_date  blog_number           blog_date   bloggername  \\\n",
        "0   November 3rd 2013       814203  November 22nd 2013      jdkinley   \n",
        "1   November 3rd 2013       814203  November 22nd 2013      jdkinley   \n",
        "2  November 21st 2013       816432  November 21st 2013  travelicious   \n",
        "3  November 21st 2013       816432  November 21st 2013  travelicious   \n",
        "4  November 21st 2013       816499  November 21st 2013   GregandJoan   \n",
        "\n",
        "   latitude  longitude  \n",
        "0   32.2217  -110.9260  \n",
        "1   32.2217  -110.9260  \n",
        "2   37.7750  -122.4180  \n",
        "3   37.7750  -122.4180  \n",
        "4   30.6942   -88.0431  \n"
       ]
      }
     ],
     "prompt_number": 24
    },
    {
     "cell_type": "markdown",
     "metadata": {},
     "source": [
      "**Adding Some Indexes and Abstract Data Representations**\n",
      "\n",
      "We first perform some cleaning operations so that we can inspect some basic properties of this new dataset, and start to look at it in an abstract structural way.  Using the script `generalize-combined-csv.py`, we convert dates to datetime objects (`publication_date` and `blog_date`),\n",
      "reduce dates to timestamps (integers), and map locations and bloggernames both to integers, giving all of these mapped indices their own columns.  This allows us to temporarily strip away some information in order to view the problem in the abstract.\n",
      "\n",
      "We store the augmented data file in `Travel_Blogs_USA_combined_general.csv`.  The date now has a shape like the following."
     ]
    },
    {
     "cell_type": "code",
     "collapsed": false,
     "input": [
      "\n",
      "general_csv_fnam = 'Travel_Blogs_USA_combined_general.csv'\n",
      "general_df = pd.read_csv(general_csv_fnam)\n",
      "\n",
      "def print_properties(df):\n",
      "    properties = {}\n",
      "\n",
      "    display_cols = ['loc_id', 'pub_ts', 'blog_ts', 'blogger_id']\n",
      "    print df[display_cols].head()\n",
      "    from collections import defaultdict\n",
      "\n",
      "    print '-' * 78\n",
      "    properties[\"Number of unique locations: {}\"] = len(set(df.loc_id))\n",
      "    for k,v in properties.iteritems():\n",
      "        print k.format(v)\n",
      "\n",
      "print_properties(general_df)"
     ],
     "language": "python",
     "metadata": {},
     "outputs": [
      {
       "output_type": "stream",
       "stream": "stdout",
       "text": [
        "   loc_id      pub_ts     blog_ts  blogger_id\n",
        "0     164  1383436800  1385078400        7273\n",
        "1     164  1383436800  1385078400        7273\n",
        "2     481  1384992000  1384992000        8697\n",
        "3     481  1384992000  1384992000        8697\n",
        "4      17  1384992000  1384992000        2058\n",
        "------------------------------------------------------------------------------\n",
        "Number of unique locations: 3219\n"
       ]
      }
     ],
     "prompt_number": 25
    },
    {
     "cell_type": "heading",
     "level": 2,
     "metadata": {},
     "source": [
      "2.2 Framework for Accessing and Cleaning the CSV Data"
     ]
    },
    {
     "cell_type": "markdown",
     "metadata": {},
     "source": [
      "(TODO: overall explanation of what and why did we built this framework)"
     ]
    },
    {
     "cell_type": "code",
     "collapsed": false,
     "input": [
      "# First we re-convert the datetimes from strings back to datetimes, so that we may\n",
      "# retrieve the year.  \n",
      "# We make a general \"thaw\" to recover our df from csv.  We will wrap this \"thaw\" function with a filtering \n",
      "# and cleaning function.\n",
      "\n",
      "def thaw_general_csv():\n",
      "    general_csv_fnam = 'Travel_Blogs_USA_combined_general.csv'\n",
      "    df = pd.read_csv(general_csv_fnam)\n",
      "    for k in ['publication_date', 'blog_date']:\n",
      "        df[k] = pd.to_datetime(df[k])\n",
      "    return df\n",
      "\n",
      "\n",
      "# Just a format converting function\n",
      "#import datetime\n",
      "def datetime_to_ts(dt):\n",
      "    \"\"\"Python has useful datetime objects that for some philosophical reason refuse \n",
      "    to offer a conversion utility to unix timestamps.  This function does that.\"\"\"\n",
      "    import calendar\n",
      "    return calendar.timegm(dt.utctimetuple())\n",
      "\n",
      "# The cleaning function. Clean-up features will be added here as we go further into the project.\n",
      "def general_df_clean(df):\n",
      "    \"\"\"A second processing stage to the thaw.\"\"\"\n",
      "    # Get rid of years before 2005.\n",
      "    ts_2005 = datetime_to_ts(datetime.datetime(2005,1,1))\n",
      "    \n",
      "    # Get rid of redundant or unneeded columns.\n",
      "    redundant_columns = ['Unnamed: 0', 'Unnamed: 0.1']\n",
      "    df = df.drop(redundant_columns, axis=1)\n",
      "    \n",
      "    return df[df.apply(lambda x: x['pub_ts'] >= ts_2005, axis=1)]\n",
      "\n",
      "def get_combined_raw_data():\n",
      "    \"\"\"Return the authoritative, agreed upon raw data.\"\"\"\n",
      "    return general_df_clean(thaw_general_csv())\n"
     ],
     "language": "python",
     "metadata": {},
     "outputs": [],
     "prompt_number": 26
    },
    {
     "cell_type": "markdown",
     "metadata": {},
     "source": [
      "Now that we have our standardized framework for accessing and cleaning-up the CSV data, lets take a look at how our DataFrame looks."
     ]
    },
    {
     "cell_type": "code",
     "collapsed": false,
     "input": [
      "get_combined_raw_data().head(3)"
     ],
     "language": "python",
     "metadata": {},
     "outputs": [
      {
       "html": [
        "<div style=\"max-height:1000px;max-width:1500px;overflow:auto;\">\n",
        "<table border=\"1\" class=\"dataframe\">\n",
        "  <thead>\n",
        "    <tr style=\"text-align: right;\">\n",
        "      <th></th>\n",
        "      <th>location_path</th>\n",
        "      <th>publication_date</th>\n",
        "      <th>blog_number</th>\n",
        "      <th>blog_date</th>\n",
        "      <th>bloggername</th>\n",
        "      <th>latitude</th>\n",
        "      <th>longitude</th>\n",
        "      <th>pub_ts</th>\n",
        "      <th>blog_ts</th>\n",
        "      <th>loc_id</th>\n",
        "      <th>blogger_id</th>\n",
        "      <th>publication_date_id</th>\n",
        "      <th>blog_date_id</th>\n",
        "    </tr>\n",
        "  </thead>\n",
        "  <tbody>\n",
        "    <tr>\n",
        "      <th>0</th>\n",
        "      <td> [u'North-America', u'United-States', u'Arizona...</td>\n",
        "      <td>2013-11-03 00:00:00</td>\n",
        "      <td> 814203</td>\n",
        "      <td>2013-11-22 00:00:00</td>\n",
        "      <td>     jdkinley</td>\n",
        "      <td> 32.2217</td>\n",
        "      <td>-110.926</td>\n",
        "      <td> 1383436800</td>\n",
        "      <td> 1385078400</td>\n",
        "      <td> 164</td>\n",
        "      <td> 7273</td>\n",
        "      <td> 3446</td>\n",
        "      <td> 3724</td>\n",
        "    </tr>\n",
        "    <tr>\n",
        "      <th>1</th>\n",
        "      <td> [u'North-America', u'United-States', u'Arizona...</td>\n",
        "      <td>2013-11-03 00:00:00</td>\n",
        "      <td> 814203</td>\n",
        "      <td>2013-11-22 00:00:00</td>\n",
        "      <td>     jdkinley</td>\n",
        "      <td> 32.2217</td>\n",
        "      <td>-110.926</td>\n",
        "      <td> 1383436800</td>\n",
        "      <td> 1385078400</td>\n",
        "      <td> 164</td>\n",
        "      <td> 7273</td>\n",
        "      <td> 3446</td>\n",
        "      <td> 3724</td>\n",
        "    </tr>\n",
        "    <tr>\n",
        "      <th>2</th>\n",
        "      <td> [u'North-America', u'United-States', u'Califor...</td>\n",
        "      <td>2013-11-21 00:00:00</td>\n",
        "      <td> 816432</td>\n",
        "      <td>2013-11-21 00:00:00</td>\n",
        "      <td> travelicious</td>\n",
        "      <td> 37.7750</td>\n",
        "      <td>-122.418</td>\n",
        "      <td> 1384992000</td>\n",
        "      <td> 1384992000</td>\n",
        "      <td> 481</td>\n",
        "      <td> 8697</td>\n",
        "      <td> 3464</td>\n",
        "      <td> 3723</td>\n",
        "    </tr>\n",
        "  </tbody>\n",
        "</table>\n",
        "</div>"
       ],
       "metadata": {},
       "output_type": "pyout",
       "prompt_number": 27,
       "text": [
        "                                       location_path    publication_date  \\\n",
        "0  [u'North-America', u'United-States', u'Arizona... 2013-11-03 00:00:00   \n",
        "1  [u'North-America', u'United-States', u'Arizona... 2013-11-03 00:00:00   \n",
        "2  [u'North-America', u'United-States', u'Califor... 2013-11-21 00:00:00   \n",
        "\n",
        "   blog_number           blog_date   bloggername  latitude  longitude  \\\n",
        "0       814203 2013-11-22 00:00:00      jdkinley   32.2217   -110.926   \n",
        "1       814203 2013-11-22 00:00:00      jdkinley   32.2217   -110.926   \n",
        "2       816432 2013-11-21 00:00:00  travelicious   37.7750   -122.418   \n",
        "\n",
        "       pub_ts     blog_ts  loc_id  blogger_id  publication_date_id  \\\n",
        "0  1383436800  1385078400     164        7273                 3446   \n",
        "1  1383436800  1385078400     164        7273                 3446   \n",
        "2  1384992000  1384992000     481        8697                 3464   \n",
        "\n",
        "   blog_date_id  \n",
        "0          3724  \n",
        "1          3724  \n",
        "2          3723  "
       ]
      }
     ],
     "prompt_number": 27
    },
    {
     "cell_type": "heading",
     "level": 2,
     "metadata": {},
     "source": [
      "2.3 Thinking About Data Representation for our Supervised Learning (*section 5*)"
     ]
    },
    {
     "cell_type": "markdown",
     "metadata": {},
     "source": [
      "(TODOs:\n",
      "\n",
      "   - 1)check and edit this (following) two sub-sections for the final deliverable, e.g.: are there redundancies between the thoughts in the two sections?\n",
      "   - 2) add any missing parts of the text (I believe a cell was lost and couldn't recover it)."
     ]
    },
    {
     "cell_type": "heading",
     "level": 3,
     "metadata": {},
     "source": [
      "Modeling considerations"
     ]
    },
    {
     "cell_type": "markdown",
     "metadata": {},
     "source": [
      "As we start to look at this data, we recall that our goal is to try to predict where people are going to go next.  Perhaps we can transform the data into Markov chains in a few different ways.\n",
      "\n",
      "Option 1:  one to one correspondence between states and locations\n",
      "\n",
      "In this view, our transition matrix is from location to location.  We generate transition probabilities directly from the dataset.  For each current state $c$ and next state $s$,\n",
      "\n",
      "$$P(s|c) = \\frac{\\text{# entries where $s$ follows $c$}}{\\text{total # of entries where $c$ is current state}}$$\n",
      "\n",
      "Option 2:  one to one correspondence between prefixes and locations\n",
      "\n",
      "Under this view, the Markov states are not just locations, they are prefixes.  If we think of locations as letters and the set of all trails as a set of words, we can construct a Markov chain where the set of states is the set of all prefixes represented in the dataset.  A prefix is some first portion of a trail.  so abc representing Austin -> Boston -> Chicago is a trail with 3\n",
      "prefixes {a, ab, abc}.\n",
      "\n",
      "To be clear, we define a trail as a sequence of blog postings (which hopefully represent an actual sequence of a person's travel), but we speak here of prefixes temporarily as a thought tool to\n",
      "think of our data a little differently, to consider a possible transform into a more traditional\n",
      "Markov or automata-theoretic form.\n",
      "\n",
      "Each blogger has a sequence of posts tied to a location, and they are separated by some time period.  We could specify a time period threshold over which a trail gets broken in two, so that if someone blogs about a trip to the Grand Canyon one summer, then does nothing for 11 months, then blogs about a trip to Yellowstone, those would be considered two separate trails.\n",
      "\n",
      "This is not the only way we could view it.  We could also view each blogger as a single trail.\n"
     ]
    },
    {
     "cell_type": "heading",
     "level": 3,
     "metadata": {},
     "source": [
      "Modeling for Supervised Learning"
     ]
    },
    {
     "cell_type": "markdown",
     "metadata": {},
     "source": [
      "The data consists of (person, place, date) tuples.  The date forms a natural ordering on the data, so that if a date of one tuple precedes the date of another tuple for the same traveler, the second tuple will be \"reachable\" in some way from the first.\n",
      "\n",
      "From the data, we would be able to know several things:\n",
      "\n",
      "1.  The set of all places represented in a given person's blogs.\n",
      "2.  The sequence of locations represented in a given person's blogs.\n",
      "\n",
      "One second-level representation would be people as rows, place columns as boolean features.  The set of all places blogged about by all people would be the column set, and for each person/column combination, the value would be True if the person had been at that place, False otherwise.\n",
      "\n",
      "From this simple model, we would be able to train a classifier for each location pair A, B, $P(A|X)$, the probability that a person will have blogged about location A given the set of features X.  We could then do a similar machine learning application to the movies database, the most likely predictors of fresh or rotten, but with cities, the most likely locations to predict visiting city A or not visiting city A.\n",
      "\n",
      "This does not yet account for the time sequencing aspect desired, but starting to think in this way may help us build a set of modeling building blocks from which we may be able to construct such an estimator."
     ]
    },
    {
     "cell_type": "heading",
     "level": 3,
     "metadata": {},
     "source": [
      "Inference model 2:  travel paths as sequences, Markov chains"
     ]
    },
    {
     "cell_type": "markdown",
     "metadata": {},
     "source": [
      "If we think of the set of all possible destinations as an alphabet $\\Sigma$, and as individual travel paths as strings over that alphabet, we can think of our problem as predicting letter $a_m$ of a word given the prefix $a_1,\\ldots,a_{m-1}$ of previous letters.\n",
      "\n",
      "We could use the input data to generate a Markov matrix of transition probabilities.  Markov chains depend only on the previous step to calculate the next step, but they are surprisingly effective in many cases.\n",
      "\n",
      "Two Markov approaches come to mind.  We could break our input data into a set of rows with two columns each, current step and next step.  We could then break that into training set, validation set and cross-validation set, and perform the normal supervised learning process to generate a classifier for next step given current step.  The result would basically be directly translatable into a Markov matrix giving transition probabilities from destination to destination.\n",
      "\n",
      "Alternatively, we could view the transition matrix as proceeding from word to word, rather than from letter to letter.  Under this view, our set of nodes in the transition matrix is the set of every prefix from our word corpus.\n",
      "\n",
      "It may be interesting to run both of these models and compare results."
     ]
    },
    {
     "cell_type": "heading",
     "level": 3,
     "metadata": {},
     "source": [
      "How to break up travel paths, and a couple other problems"
     ]
    },
    {
     "cell_type": "markdown",
     "metadata": {},
     "source": [
      "One problem we face is the fact that many of our travelers will almost certainly be taking multiple trips.  How do we identify their distinct trips, as opposed to viewing their sequence of blog posts as one long trip?\n",
      "\n",
      "We can configure a time threshold $T_{\\text{thresh}}$ such that if the time between blog posts exceeds $T_{\\text{thresh}}$, then the second blog post constitutes a new trail.\n",
      "\n",
      "Another problem is how do we know a traveler's original geolocation (home)?\n",
      "\n",
      "A third problem is how do we know that there aren't \"phantom\" destinations in trails -- destinations a blogger hasn't blogged about but that they visited?\n",
      "\n",
      "We should highlight both of these problems in our writeup as known consequences of our model, and state that we are modeling blog postings, not actual travel, and the two are not the same."
     ]
    },
    {
     "cell_type": "heading",
     "level": 3,
     "metadata": {},
     "source": [
      "Trails from travelblogs.org are not the set of all travel trails, and may not even be representative"
     ]
    },
    {
     "cell_type": "markdown",
     "metadata": {},
     "source": [
      "As we proceed further into our model, it is important to recall that this data is not a comprehensive record of travel flows.  We know that the set of trails established by bloggers on travelblogs.org is a subset of all travel flows, and almost certainly a very small subset that may not even be representative of \"real\" travel flows.  Consider the travelblogs.org dataset versus a credit card company's records of customer card swipes.  But we use this as a starting point to develop our inference model."
     ]
    },
    {
     "cell_type": "heading",
     "level": 2,
     "metadata": {},
     "source": [
      "The Big Table, Part I"
<<<<<<< HEAD
     ]
    },
    {
     "cell_type": "markdown",
     "metadata": {},
     "source": [
      "For a variety of reasons there emerged the concept of a single table to contain all data, which\n",
      "came to be known as \"The Big Table.\"  The Big Table meant something different to the individual\n",
      "project members, but one of the root causes of the desire for a big table was a sense that our data had become disparate, and there were not well-known ways to access the data.  We describe here the\n",
      "organization of our data.\n",
      "\n",
      "The combined raw is obtained from an *interface*, the function thaw_general_csv().\n",
      "The cleaned version of this data is obtained by passing the combined raw data to an *interface*, the\n",
      "function general_df_clean().\n",
      "\n",
      "If we think in terms of *interfaces*, we are not tied to a particular way of generating that data.\n",
      "Also, by thinking in terms of *interfaces* instead of *variables*, we help reduce the problem of\n",
      "global variables, which may change state through the notebook, leading to difficulty to reason\n",
      "about behavior.  By thinking in terms of *interfaces* rather than variables and immediate\n",
      "short-term tactical needs, we can ameliorate some of the general confusion that contribute to\n",
      "the desire for the Big Table.  These are basic software engineering concepts.\n",
      "\n",
      "In anticipation of the evolution of our concept of the Big Table, we define an *interface*, the\n",
      "function get_combined_raw_data, that can be used to return the current cleaned version of the raw\n",
      "data.  The raw data is the list of all posts, with the postprocessing to create ids for locations and dates.  We require that any changes to the combined raw data not break dependent code, and where\n",
      "it does, it will be fixed at the time of the change.\n",
      "\n",
      "It is anticipated that the Big Table will grow to include more synthetically created data, but it\n",
      "will start from the combined raw data.\n",
      "\n",
      "The function get_combined_raw_data is defined as follows."
=======
>>>>>>> 44364df2074fbb28dc7227ff3da273440b0714c2
     ]
    },
    {
     "cell_type": "code",
     "collapsed": false,
     "input": [
      "\"\"\"\n",
      "Already defined on top:\n",
      "(TODO: edit the descriptions in this sections to tell a followable story, e.g.: \n",
      "include the relevant story about the interfaces from here to the appropriate section above)\n",
      "\"\"\""
     ],
     "language": "python",
     "metadata": {},
     "outputs": []
    },
    {
     "cell_type": "markdown",
     "metadata": {},
     "source": [
<<<<<<< HEAD
      "Our resolution to think in terms of *interfaces* only addresses one part of the Big Table problem.\n",
      "Having defined an *interface* for the raw data, get_combined_raw_data(), we face the crucial and\n",
      "more difficult question, what, exactly, does the Big Table look like?\n",
      "\n",
      "As a first step, we make explicit the assumption that a single Big Table will suffice, and reject\n",
      "it.  Instead, we focus on what *a* Big Table might look like, and define such a table, leaving open\n",
      "the possibility that we may find that there may be more than one Big Table that suits our needs.\n",
      "\n",
      "Before we decided we needed a Big Table, we should have asked, \"What do we need a Big Table for?  What problem are we trying to solve?\"  There is not a single problem, but several:\n",
      "\n",
      "* How are we supposed to be accessing data?  This problem has been addressed above.  We use *interfaces* that return Pandas data frames.  Users of those frames don't need to worry about\n",
      "where they come from.  They only need to know what they are getting.\n",
      "\n",
=======
      "For a variety of reasons there emerged the concept of a single table to contain all data, which\n",
      "came to be known as \"The Big Table.\"  The Big Table meant something different to the individual\n",
      "project members, but one of the root causes of the desire for a big table was a sense that our data had become disparate, and there were not well-known ways to access the data.  We describe here the\n",
      "organization of our data.\n",
      "\n",
      "The combined raw is obtained from an *interface*, the function thaw_general_csv().\n",
      "The cleaned version of this data is obtained by passing the combined raw data to an *interface*, the\n",
      "function general_df_clean().\n",
      "\n",
      "If we think in terms of *interfaces*, we are not tied to a particular way of generating that data.\n",
      "Also, by thinking in terms of *interfaces* instead of *variables*, we help reduce the problem of\n",
      "global variables, which may change state through the notebook, leading to difficulty to reason\n",
      "about behavior.  By thinking in terms of *interfaces* rather than variables and immediate\n",
      "short-term tactical needs, we can ameliorate some of the general confusion that contribute to\n",
      "the desire for the Big Table.  These are basic software engineering concepts.\n",
      "\n",
      "In anticipation of the evolution of our concept of the Big Table, we define an *interface*, the\n",
      "function get_combined_raw_data, that can be used to return the current cleaned version of the raw\n",
      "data.  The raw data is the list of all posts, with the postprocessing to create ids for locations and dates.  We require that any changes to the combined raw data not break dependent code, and where\n",
      "it does, it will be fixed at the time of the change.\n",
      "\n",
      "It is anticipated that the Big Table will grow to include more synthetically created data, but it\n",
      "will start from the combined raw data.\n",
      "\n",
      "The function get_combined_raw_data is defined as follows."
     ]
    },
    {
     "cell_type": "code",
     "collapsed": false,
     "input": [
      "\"\"\"\n",
      "Already defined on top:\n",
      "(TODO: edit the descriptions in this sections to tell a followable story, e.g.: \n",
      "include the relevant story about the interfaces from here to the appropriate section above)\n",
      "\"\"\""
     ],
     "language": "python",
     "metadata": {},
     "outputs": []
    },
    {
     "cell_type": "markdown",
     "metadata": {},
     "source": [
      "Our resolution to think in terms of *interfaces* only addresses one part of the Big Table problem.\n",
      "Having defined an *interface* for the raw data, get_combined_raw_data(), we face the crucial and\n",
      "more difficult question, what, exactly, does the Big Table look like?\n",
      "\n",
      "As a first step, we make explicit the assumption that a single Big Table will suffice, and reject\n",
      "it.  Instead, we focus on what *a* Big Table might look like, and define such a table, leaving open\n",
      "the possibility that we may find that there may be more than one Big Table that suits our needs.\n",
      "\n",
      "Before we decided we needed a Big Table, we should have asked, \"What do we need a Big Table for?  What problem are we trying to solve?\"  There is not a single problem, but several:\n",
      "\n",
      "* How are we supposed to be accessing data?  This problem has been addressed above.  We use *interfaces* that return Pandas data frames.  Users of those frames don't need to worry about\n",
      "where they come from.  They only need to know what they are getting.\n",
      "\n",
>>>>>>> 44364df2074fbb28dc7227ff3da273440b0714c2
      "* How are we going to use the data for unsupervised learning?  This is a different question, and\n",
      "we have agreed as a team that this has no single answer.  We will try more than one table structure\n",
      "below, but we think they will all have users or trails as rows, and features as columns.\n",
      "\n",
      "* How are we going to track our data in an organized way?  This issue is also addressed by\n",
      "programming to well-defined and well-known interfaces, and practicing good communication.\n",
      "\n",
      "In The Big Table, Part II, we will look at potential Big Tables for the purposes of supervised\n",
      "learning.  But first, we look at some other explorations and visualizations of the raw data."
     ]
    },
    {
     "cell_type": "code",
     "collapsed": false,
     "input": [],
     "language": "python",
     "metadata": {},
     "outputs": []
    },
    {
     "cell_type": "heading",
     "level": 1,
     "metadata": {},
     "source": [
      "3. Exploratory Analysis and Data Clean-Up"
     ]
    },
    {
     "cell_type": "markdown",
     "metadata": {},
     "source": [
<<<<<<< HEAD
      "Here "
=======
      "TODO: brief overall description of the section"
>>>>>>> 44364df2074fbb28dc7227ff3da273440b0714c2
     ]
    },
    {
     "cell_type": "heading",
     "level": 2,
     "metadata": {},
     "source": [
      "3.1 Some Data Clean-Up "
     ]
    },
    {
     "cell_type": "markdown",
     "metadata": {},
     "source": [
      "First we get the data from the CSV file into a Data Frame."
     ]
    },
    {
     "cell_type": "code",
     "collapsed": false,
     "input": [
      "general_df = thaw_general_csv()"
     ],
     "language": "python",
     "metadata": {},
<<<<<<< HEAD
     "outputs": []
=======
     "outputs": [],
     "prompt_number": 28
>>>>>>> 44364df2074fbb28dc7227ff3da273440b0714c2
    },
    {
     "cell_type": "heading",
     "level": 2,
     "metadata": {},
     "source": [
      "How Old is our Data?"
     ]
    },
    {
     "cell_type": "markdown",
     "metadata": {},
     "source": [
      "We first want to find the lowest and highest timestamps, i.e., the oldest and most recent blogposts; and sort our DataFrame in terms of the blog dates."
     ]
    },
    {
     "cell_type": "code",
     "collapsed": false,
     "input": [
      "min_ts = min(general_df.pub_ts)\n",
      "max_ts = max(general_df.pub_ts)\n",
      "\n",
      "print \"min_ts: {}, max_ts: {}\".format(min_ts, max_ts)"
     ],
     "language": "python",
     "metadata": {},
     "outputs": [
      {
       "output_type": "stream",
       "stream": "stdout",
       "text": [
        "min_ts: 0, max_ts: 1384992000\n"
       ]
      }
     ],
     "prompt_number": 29
    },
    {
     "cell_type": "code",
     "collapsed": false,
     "input": [
      "general_df.sort_index(by='pub_ts', ascending=True).head(3)"
     ],
     "language": "python",
     "metadata": {},
     "outputs": [
      {
       "html": [
        "<div style=\"max-height:1000px;max-width:1500px;overflow:auto;\">\n",
        "<table border=\"1\" class=\"dataframe\">\n",
        "  <thead>\n",
        "    <tr style=\"text-align: right;\">\n",
        "      <th></th>\n",
        "      <th>Unnamed: 0</th>\n",
        "      <th>Unnamed: 0.1</th>\n",
        "      <th>location_path</th>\n",
        "      <th>publication_date</th>\n",
        "      <th>blog_number</th>\n",
        "      <th>blog_date</th>\n",
        "      <th>bloggername</th>\n",
        "      <th>latitude</th>\n",
        "      <th>longitude</th>\n",
        "      <th>pub_ts</th>\n",
        "      <th>blog_ts</th>\n",
        "      <th>loc_id</th>\n",
        "      <th>blogger_id</th>\n",
        "      <th>publication_date_id</th>\n",
        "      <th>blog_date_id</th>\n",
        "    </tr>\n",
        "  </thead>\n",
        "  <tbody>\n",
        "    <tr>\n",
        "      <th>16777</th>\n",
        "      <td> 16777</td>\n",
        "      <td> 16777</td>\n",
        "      <td> [u'North-America', u'United-States', u'Pennsyl...</td>\n",
        "      <td>1970-01-01 00:00:00</td>\n",
        "      <td> 526823</td>\n",
        "      <td>2010-08-27 00:00:00</td>\n",
        "      <td> AliOntheGo</td>\n",
        "      <td> 40.0276</td>\n",
        "      <td>-76.0473</td>\n",
        "      <td> 0</td>\n",
        "      <td> 1282867200</td>\n",
        "      <td> 2496</td>\n",
        "      <td>  209</td>\n",
        "      <td> 1</td>\n",
        "      <td> 2545</td>\n",
        "    </tr>\n",
        "    <tr>\n",
        "      <th>16094</th>\n",
        "      <td> 16094</td>\n",
        "      <td> 16094</td>\n",
        "      <td> [u'North-America', u'United-States', u'New-Yor...</td>\n",
        "      <td>1970-01-01 00:00:00</td>\n",
        "      <td> 535766</td>\n",
        "      <td>2010-10-02 00:00:00</td>\n",
        "      <td>    Keontor</td>\n",
        "      <td> 39.1836</td>\n",
        "      <td>-96.5714</td>\n",
        "      <td> 0</td>\n",
        "      <td> 1285977600</td>\n",
        "      <td> 2044</td>\n",
        "      <td> 2962</td>\n",
        "      <td> 1</td>\n",
        "      <td> 2581</td>\n",
        "    </tr>\n",
        "    <tr>\n",
        "      <th>16079</th>\n",
        "      <td> 16079</td>\n",
        "      <td> 16079</td>\n",
        "      <td> [u'North-America', u'United-States', u'Califor...</td>\n",
        "      <td>1970-01-01 00:00:00</td>\n",
        "      <td> 535945</td>\n",
        "      <td>2010-10-03 00:00:00</td>\n",
        "      <td>  Grummitts</td>\n",
        "      <td> 31.4731</td>\n",
        "      <td>-83.1217</td>\n",
        "      <td> 0</td>\n",
        "      <td> 1286064000</td>\n",
        "      <td>  353</td>\n",
        "      <td> 2073</td>\n",
        "      <td> 1</td>\n",
        "      <td> 2582</td>\n",
        "    </tr>\n",
        "  </tbody>\n",
        "</table>\n",
        "</div>"
       ],
       "metadata": {},
       "output_type": "pyout",
       "prompt_number": 30,
       "text": [
        "       Unnamed: 0  Unnamed: 0.1  \\\n",
        "16777       16777         16777   \n",
        "16094       16094         16094   \n",
        "16079       16079         16079   \n",
        "\n",
        "                                           location_path    publication_date  \\\n",
        "16777  [u'North-America', u'United-States', u'Pennsyl... 1970-01-01 00:00:00   \n",
        "16094  [u'North-America', u'United-States', u'New-Yor... 1970-01-01 00:00:00   \n",
        "16079  [u'North-America', u'United-States', u'Califor... 1970-01-01 00:00:00   \n",
        "\n",
        "       blog_number           blog_date bloggername  latitude  longitude  \\\n",
        "16777       526823 2010-08-27 00:00:00  AliOntheGo   40.0276   -76.0473   \n",
        "16094       535766 2010-10-02 00:00:00     Keontor   39.1836   -96.5714   \n",
        "16079       535945 2010-10-03 00:00:00   Grummitts   31.4731   -83.1217   \n",
        "\n",
        "       pub_ts     blog_ts  loc_id  blogger_id  publication_date_id  \\\n",
        "16777       0  1282867200    2496         209                    1   \n",
        "16094       0  1285977600    2044        2962                    1   \n",
        "16079       0  1286064000     353        2073                    1   \n",
        "\n",
        "       blog_date_id  \n",
        "16777          2545  \n",
        "16094          2581  \n",
        "16079          2582  "
       ]
      }
     ],
     "prompt_number": 30
    },
    {
     "cell_type": "markdown",
     "metadata": {},
     "source": [
      "We can see that some timestamps are from 1970 due to absent data.  This suggests exploring the years a little more thoroughly.  Some initial inspection shows that it is probably best to throw out entries from years earlier than 2005."
     ]
    },
    {
     "cell_type": "code",
     "collapsed": false,
     "input": [
      "# Formatting function\n",
      "import matplotlib as mpl\n",
      "class Formatter(mpl.ticker.Formatter):\n",
      "    \"\"\"Matplotlib's \"design\" has a default behavior of representing everything in\n",
      "    scientific notation, for example the year 2006 on the x-axis would be represented\n",
      "    1+2.005e3.  This formatter works around that behavior.\n",
      "    \"\"\"\n",
      "    def __call__(self, x, pos=None):\n",
      "        return '%d' % x\n",
      "\n",
      "# histogram plot function\n",
      "def year_hist(df):\n",
      "    \"\"\"Create a year histogram of publication dates.\"\"\"\n",
      "    years=map(lambda x: x.year, df['publication_date'])\n",
      "    num_years = max(years) - min(years)\n",
      "    \n",
      "    plt.gca().xaxis.set_major_formatter(Formatter())\n",
      "\n",
      "    plt.xlabel('footprint year')\n",
      "    plt.ylabel('number of footprints')\n",
      "    plt.title('Histogram of the number of footprints per year')\n",
      "    \n",
      "    plt.hist(years, num_years)\n",
      "    \n",
      "year_hist(general_df)\n"
     ],
     "language": "python",
     "metadata": {},
     "outputs": [
      {
       "metadata": {},
       "output_type": "display_data",
       "png": "iVBORw0KGgoAAAANSUhEUgAAAo0AAAGVCAYAAACbwMsmAAAABHNCSVQICAgIfAhkiAAAAAlwSFlz\nAAALEgAACxIB0t1+/AAAIABJREFUeJzs3XlcVOX+B/DPGZAdRYGBBAW3FAmXXDJcwBRCQ8m8amK4\nZEppoJlpaiZ2XfK6JmihXXfJFm03t66UCt2fW4slWiqaGrghLgkqPL8/fM25jgzMWHOYgefzfr14\n1Zx5mHm+Mwf8cs7nPKMIIQSIiIiIiCqgs/UEiIiIiMj+sWkkIiIiIrPYNBIRERGRWWwaiYiIiMgs\nNo1EREREZBabRiIiIiIyi00j2bXg4GAMGzbM1tOo9i5cuIABAwbAx8cHOp0Oixcvvu/HWLVqFXQ6\nHf7v//5PgxnaP51OhxdeeMHW07DY119/jYcffhhubm7Q6XS4cuVKuWNPnDiBHj16wMvLCzqdDp99\n9lklztR6+PuE6O9h00iVxlxTERsbiwYNGhhtUxQFiqLc1/NkZWVh+vTpKCws/Mtzlc2rr76KL774\nAhMnTsS6desQExNT7thZs2bh008/rcTZVR33u6/aytWrV9GvXz84OjpiyZIlWLduHdzc3ModP2LE\nCBw4cAAzZszAunXr0KZNG6vP6ezZs0hJScEPP/xg9cc2+Cu/TwwyMjLw1ltvWXlGRFWLo60nQHS3\ne3+hHz16FDrd/f1tY2gahw0bhlq1allzetVWZmYmYmJi8Morr5gdO2vWLPTv3x9xcXGVMDPSwg8/\n/IDLly9j6tSp6NWrV4VjS0tL8e233yIpKQkvvviiZnM6e/Ys3njjDTRs2BAtW7bU5Dn+yu8Tg4yM\nDPz8888YM2aMlWdFVHXwSCPZtRo1asDBweEvfa+tPuzo5s2bKCkpsclz/1Xnzp1DzZo1LRqrKIrN\nXlvZlZSU4ObNm3/7cc6dOwcAFr3nly9fxu3bty3eP/4ua+9bQggUFRUB+Hu/T4CqcyT5btbaZyrD\n9evXbT0FMoNNI9k1UxmkpUuXIiwsDB4eHvDy8kLr1q2xbNkyAEBKSgomTJgAAGjQoAF0Oh10Oh2+\n/fZb9fvfeecdPPTQQ3B1dcUDDzyA559/HgUFBWWee8mSJWjYsCHc3NzwyCOP4Ntvv0VkZCS6du2q\njsnMzIROp0NGRgZSUlJQv359uLm54cyZM7h16xamTZuGdu3aoU6dOurjmDq1a8jDffTRRwgNDYWb\nmxs6dOignqp755130LhxY7i6uiIyMhInTpyw6PXLzc3FgAED4O3tDTc3N7Rv397o+Q2RgWvXrmH1\n6tXq61UenU6H69evG429+/UAgKKiIowbNw6+vr7w8PDAU089hQsXLpR5rG3btiEiIgKenp7w9PRE\njx49LDo1aXjNN2zYgFmzZiEwMBCurq7o3r07jh07ZjS2vAxbee/je++9h+nTpyMgIACenp7o27cv\nLl++jOLiYowdOxZ6vR6enp4YOnSo2ojc6/3330fz5s3h6uqKVq1aYevWrWXGFBYWYty4cahfvz6c\nnZ3RqFEjzJgxA6WlpeqY3Nxc6HQ6zJkzB2lpaWjSpAlcXFzw3XffVfj6bNy4EW3btoWbmxt8fHwQ\nHx+P33//3aj2f/zjHwCArl27QqfTlZvzS0lJgY+PDwBg+vTp0Ol0RhGSH374AT179kStWrXg4eGB\nrl27Yvfu3WUex9x+mJmZifbt2wMAhg0bpu5bb7zxBgBg6NChcHV1xalTp/DEE0/A09MT/v7+mDRp\nUpk/0Aw/S++//z7CwsLg4uKCDz74AEDZ/cHSfSkyMhKbN29W35N7f04++OADtGvXDrVq1ULNmjXR\nvHlzzJgxo6K3qcxcbbHPTJkyBU5OTjh//nyZ+8aNGwdXV1ejrKslP7M//vgjhg0bhkaNGsHV1RW+\nvr4YOHCg0T4I/O93z86dO5GcnAw/Pz94enqafc3IxgRRJVm5cqVQFEVs3bpVnD9/vsxXdHS0aNCg\ngdH3BAcHi2HDhqm33333XaEoiujfv79YtmyZWLJkiXjhhRfE0KFDhRBC/PjjjyI+Pl4oiiLeeust\nsX79erF+/XqRn58vhBDin//8p1AURXTv3l2kpaWJsWPHiho1aohWrVqJ4uJi9XmWLl0qFEURXbp0\nEWlpaWL8+PGiTp06onHjxqJr167quJ07dwpFUURoaKho0aKFWLBggZg/f764cOGCOH/+vPD39xcv\nvfSSePvtt8WCBQtE27ZthaIo4quvvjKqU1EU0aJFC1GvXj0xZ84cMWfOHOHl5SXq1asnFi5cKJo3\nby4WLlwoXn/9deHs7Cy6dOli9vXOz88XDzzwgKhZs6Z47bXXxFtvvSXatm0rdDqdeO+994QQQhw/\nflysW7dOuLi4iIiICPX1Ko+psTt27DB6f1u3bi26d+8ulixZIsaPHy8cHR3FgAEDjB5n/fr1QqfT\niZiYGJGWlibmzZsnHnzwQeHp6SlycnIqrMvwmrdu3Vq0a9dOvPXWW2L69OnC3d1dPPLII0Zj791/\nDCIjI02+j61atRKPPvqoSEtLE2PGjBE6nU70799f9O/fX/To0UO8/fbbYsiQIUJRFPH6668bPaai\nKCIsLEzUqVNHTJ8+XcyfP180bdpU1KhRQ+zevVsd9+eff4rWrVsLb29vMWXKFLF8+XLx3HPPCQcH\nB/Hcc8+p406cOKHuW8HBwWL27NkiLS1NHDlypNzXZu3atUJRFPV1mTJlivD09BT16tUTFy5cEEII\nsX37djFmzBihKIp47bXXxPr168V3331n8vF+/PFH8c477whFUUTfvn3F+vXrxaeffiqEEOKXX34R\nnp6eom7dumLGjBli7ty54sEHHxTOzs7i22+/VR/Dkv0wPz9f/dl8/vnn1X3rp59+EkIIMWTIEOHk\n5CRCQkJEfHy8WLp0qejXr59QFEW88MILZd6H5s2bCx8fHzF9+nSRnp4u/vvf/5rcHyzdl7Zv3y5a\nt24tfH191bkZfk62b98uFEURUVFRYunSpSI9PV289NJLIiYmptz36e652nKfOXr0qFAURSxevNho\n++3bt8UDDzwg+vfvr26z9Gd2/vz5Ijw8XLzxxhvi3XffFa+++qrw8vISDRs2FH/++ac6zvD7IjQ0\nVHTu3FmkpqaKGTNmmH3NyLbYNFKlMfySqOjLXNP45JNPirCwsAqfZ+7cuUJRFHHy5Emj7efOnRNO\nTk4iKipKlJaWqttXrVolFEURaWlpQgghiouLhbe3t2jTpo24ffu2Om716tVCURSTzUZQUJDRL0Qh\nhCgpKRE3b9402nbz5k3x0EMPie7duxttVxRFODs7i+PHj6vbli1bJhRFEX5+fuLKlSvq9smTJwtF\nUcSxY8cqfB1eeukloSiK+Oabb9RtN27cEM2bNxcPPPCAuHXrlrrdw8PDZHNlSnljDe9vVFSU0fZx\n48YJR0dHtYZr166J2rVri+HDhxuNKygoEHq9XsTHx1f4/IbXvHnz5kY1LF68WCiKIg4dOqRuK69p\njIiIKLf5v/sxDX+APP7440bfHx4eLgIDA422KYoidDqdUQN28eJFUadOHdGpUyd128yZM4Wbm1uZ\nf8hnzpwpFEVRtxsaAE9PT5GXl1fhayLEnX3Lz89PhIaGiqKiInV7ZmamUBRFjB8/Xt324Ycfltk3\nynP+/HmhKIqYPn260fY+ffoIZ2dn8dtvv6nbLly4IHx8fETbtm3VbZbuh3v37hWKoojVq1eXmYOh\nUX/++eeNtg8ePFjodDpx9OhRdZuiKMLBwUH88MMPZR6nvKbRkn3piSeeKPP7SQghxo4dK7y8vIx+\np1jK1vuMEEJ06NBBtG/f3mjb1q1bhaIo4vPPPxdC3N/P7L2/B4UQIisrSyiKItatW6duM/y+6NCh\ngygpKbFormR7PD1NlS41NRU7duww+tq+fTseeeQRs9/r5eWF33//Hfv27bvv592xYwdu3bqFMWPG\nGGWTEhIS4Ofnhy+//BIAsG/fPly6dAkjRowwyj8NGjQItWvXNvnYgwcPhqurq9E2nU6HGjVqALiT\nc7x06RIKCwvRuXNn7N+/v8xjdO3a1ejUn+F03VNPPWV02saw/fjx4xXW++WXX6JNmzbo0qWLus3F\nxQWjRo1CXl4eDhw4UOH3/1XDhw83ut2pUyeUlJTg5MmTAIDt27fj8uXLGDhwIC5cuKB+3b59G506\ndcLOnTstep7BgwfD0fF/1/J16tQJACw+dW9KQkKC0WMaXutnn33WaFz79u1x9uxZ3Lp1y2h727Zt\njfbjOnXqID4+Hnv27FGv5v/ggw/QuXNneHt7G9XfrVs3AHdOmd7tySefhJ+fn9m579u3D+fOncML\nL7wAZ2dndXtERATatGmj7t/WUFJSgq1bt6JXr15o1KiRut3b2xtDhw7F/v371VOe5vbDgwcPWvy8\nycnJZW4LIbB582aj7eHh4WjRooXFj/t39iUvLy9cu3bN5CllS9hynwGAIUOGYO/evTh69Ki6bd26\ndfDx8UGPHj0A3N/P7N2/B69du4aLFy+iSZMm8PLyMvk7Z8SIEX/54iSqfLx6mipdu3bt1H+M77Zw\n4ULk5+dX+L0TJ07E119/jfbt26Nhw4aIiorCgAEDEBkZafZ5DU1L06ZNjbbrdDo0btxYvd/w38aN\nGxuNc3BwQHBwsMnHvvsfzru9++67WLhwIXJycowC/qZ+SdavX9/otuHK73r16pncbiqHebeTJ0+q\n2bW7NWvWTL3f1Pvwd91bh6HRNszX8I9TVFSUye+39EIFc8/zV9zPeyCEwOXLl+Hr66tub9KkSZnH\nNGw7efIkWrRogaNHj+LHH380+j4DRVHK5MvK27fuVd7+Ddx5zzdu3GjR41ji/PnzuHHjRrnPBdzJ\n1/n6+prdD3Nzc9GuXTuzz6koSpmfybtf27tZ+poZ/J19adSoUfjwww/Rs2dP1K1bF927d0ffvn3N\nXpVuYMt9BgCefvppvPTSS1i3bh3eeOMN/Pnnn/j4448xbNgw9Wfxfn5mCwoK8Oqrr+Kjjz4q8/qZ\nWgbtft8rsi02jVSlNGvWDEeOHMHmzZuxdetWfPHFF0hPT8eoUaOQlpam+fOLcq7svPcoIwCsX78e\nI0eORO/evTFp0iTo9Xo4OjpixYoVyMjIKDO+vGapvO3lzcXAVld6mpuvIbi/evVqBAQEaPY8QPmv\nQUlJicnG3drvQXnf061bN0yaNMnk/feuVWpq3/orbLU/2OJ57/c1+zvvr6+vLw4ePIgdO3bgq6++\nwpYtW7BmzRrExsZabRF0LfcZLy8vxMbGYv369XjjjTfwySef4Pr160hISFDH3M/PbP/+/ZGVlYXx\n48ejdevW6lmSp59+2uiinb8yV7I9No1U5bi6uqJv377o27cvSkpKMHToUCxduhRTpkzBAw88UO4/\nUkFBQQCAnJwcoyMWpaWl+PXXX9UFiw3jfv31V/X0DwDcvn0bubm5aNWqlUXz/PDDD9GoUSN88skn\nRtv//e9/V8o/pEFBQcjJySmz3bCtvKOm5vzduRuOLPj4+OCxxx77W49lTu3atU0eLTp58mSZo1bW\n8Ouvv5bZZjhKY9ivGjVqhCtXrli99rv37+7duxvdl5OT85ffb1N8fX3h5uZm0f5l6X5obr8SQuDX\nX39F8+bN1W2G19aatZWnovnVqFEDPXr0UE/nTpo0CXPmzEFWVhbCw8MrfFxb7jMGQ4YMwcaNG7Fn\nzx6sW7cOTZs2NTr6a/hZMfczW1BQgK+//hrTp0/H1KlT1e1FRUW4dOmSJnOnysUgAVUpFy9eNLrt\n4OCAhx56CMCd9eQAwN3dHQDK/JKKjo6Gk5MTFi9ebHQEYf369Th37hxiY2MB3MkYeXt7Y/ny5bh9\n+7bROMNzWMLR0RHizsVm6rbjx4/j448/tvgx/o7Y2FgcOHDAaAmUoqIivP3223jggQf+8qd6uLu7\n/61/AGJiYuDl5YVZs2aVyQQCMLk8z1/VqFEjfPfdd0bP88UXX+D06dNWe4677du3z2h5k4sXLyIj\nIwMdO3ZUT3UPGDAAe/fuxVdffVXm+69evfqX19Rr164d/Pz8kJ6ejuLiYnX7rl27sH//fnX/tgYH\nBwfExMTg888/N8rWXrp0CatXr0a7du3UU6mW7ofl/dze7d6Pt0xNTYVOp0PPnj2tVlt53N3dTf4B\nYmq+hj8sLflUKlvuMwY9evSAXq/HggULsGPHDqOjjADw+OOPV/gzazg9bjhie+8RxYULF3Jt12qC\nRxrJrtz7i+Xe29HR0fDz80PHjh3h7++P3377DWlpaWjZsiVCQkIAQP0LedKkSRg4cCCcnJzQrVs3\n+Pr6YurUqZg6dSqio6MRFxeH48ePY8mSJWjVqhWee+45AICTkxNSUlKQlJSExx57DP369cPJkyex\natUqNGrUyOIjbb1798amTZvQu3dv9OrVC2fOnMHbb7+NZs2a4fvvv/+7L5VZEydOxHvvvYcnnngC\nycnJ8PHxwbp165CTk4P169cbnZ69n1/obdu2xY4dOzB//nwEBATAz8+vzFqNFfH09MQ777yDQYMG\noXXr1hg4cCD0ej1OnTqFLVu24KGHHsLKlSvvq9byPPfcc/joo48QExODfv364dixY1i/fj0aNWqk\nyT9ioaGhiI2NRVJSEjw8PLBs2TJcv34ds2fPVse88sor+PzzzxEXF4chQ4bg4Ycfxo0bN3Do0CF8\n9NFHOHToUJmMnSUcHR0xd+5cDB48GJ07d8agQYNw/vx5LF68GIGBgZg4caI1S8WMGTOwbds2dOrU\nCaNHj4azszOWL1+OK1euYP78+eo4S/fDRo0aoXbt2nj77bfh7u4OT09PhIWFITQ0FMCdo3m7du3C\noEGD0LFjR+zcuRMbN25EYmKixUeN/8573q5dO3zwwQcYO3Ys2rdvDwcHBwwYMADDhw/HxYsX0a1b\nNwQGBuLMmTNIS0tD3bp1jS7+KY8t9xkDBwcHDBw4EG+99RZ0Oh2eeeYZo/st/ZmtWbMmIiMj8a9/\n/Qs3b95E/fr1sXv3bnz77bfw9vZm41gdVNZl2t98843o1auXCAgIEIqiiFWrVpUZM23aNFG3bl3h\n6uoqIiMjxc8//2x0f1FRkXjxxReFj4+PcHd3F7179xanT582GnPp0iXxzDPPiFq1aolatWqJhIQE\ncfnyZaMxJ0+eFLGxscLd3V34+PiI5OTkMkujkPWtXLlS6HQ6dc20e8XGxppdcmfZsmUiMjJS+Pr6\nCmdnZ9GwYUMxZswYcf78eaPve/PNN0X9+vWFg4OD0Ol0Rst9vPPOOyI0NFQ4OzsLf39/kZiYKC5d\nulRmPqmpqSI4OFi4uLiI9u3bi927d4s2bdqInj17qmN27twpdDqdeP/9903WNHfuXNGwYUPh4uIi\nwsLCxPr160VKSorQ6XRG40ytN2dYPmPOnDlG2809572P0b9/f1GnTh3h4uIi2rVrJz755JMy4+5n\nyZ1ff/1VPPbYY8LDw8NoCaLy3l/DfO9d3mXXrl2iR48eonbt2sLV1VU0btxYDBkypNw1A+99vHvr\nN7xe9y7ZsmDBAhEYGChcXFxE586dxYEDB0yu02jqMcuryfAeGtb/FOJ/7+H7778vQkJChLOzs2jZ\nsqXYvHlzmRquX78uXnvtNXVdQx8fHxEeHi7mzp2rLpdT3vtvzsaNG0Xbtm2Fi4uL8Pb2FgMHDhSn\nTp0yGvPhhx+afE9MKW/JHSGE+OGHH0TPnj2Fp6encHd3F5GRkWLXrl1lxlm6H3755ZeiRYsWwsnJ\nSeh0OvU5hwwZIlxdXcWpU6dEz549hbu7u/Dz8xMTJ040WhZLCNM/SwamltyxdF/6888/xZAhQ4S3\nt7fQ6XTqz/DGjRtFjx49hL+/v3B2dhZBQUFi2LBhIjc3t7yXtMxcbb3PCCHEwYMHhaIoIiIiotwx\nlvzM/vHHH6J///7C29tb1KxZU/Tq1Uv89ttvZV57c/8ekH2qtKZx8+bNYsqUKeKjjz4Sbm5uZX6x\nv/nmm8LT01Ns2rRJHDp0SPTv31/UrVtXXL16VR3z/PPPi7p164odO3aov/hbtWpltMZTTEyMeOih\nh8R3330nsrOzRWhoqOjVq5d6/+3bt8VDDz0kunbtKg4ePCi2b98u6tatK5KSkrR/EahKKykpEXXq\n1BEjR4609VSIpDJkyBDh4uJi62lYXUUNbmU7dOiQUBRFvPvuu7aeCtkxmyzu7eHhYdQ0lpaWCn9/\nfzFr1ix1240bN4Snp6dIT08XQghx+fJl4eTkJDIyMtQxv//+u9DpdGLr1q1CiDufUKAoisjKylLH\n7N69WyiKoi7+unnzZqHT6YyOUBo+5eLuBpXkVlRUVGaxXsNitHfvg0SkPcORxurGnprGMWPGCHd3\nd6MPEiC6l11cCHPixAnk5+cjOjpa3ebi4oIuXbogKysLALB//37cunXLaExgYCBCQkKQnZ0NAMjO\nzoaHhwceffRRdUx4eDjc3d3Vx8nOzkbz5s2Nlg2Ijo5GcXGxyQWXSU7Z2dl4+OGHMXv2bKSnpyMx\nMREjRoxAWFgY+vXrZ+vpEUlHMA+nic8//xz/+te/8M4772D48OH8/GeqkF1cCJOXlwcAZVaw1+v1\nOHv2rDrGwcEB3t7eRmP8/PzU78/Lyyuz+KmiKNDr9UZj7n0eHx8fODg4qGOIGjRogPr162Px4sW4\ndOkSvL29MWTIELz55ptGnxxBRNpTFMVm60xWd8nJycjPz0dMTAxmzJhh6+mQnbP7f/0sWbvrfvEv\nVjInKCgIn376qa2nQUQAVq5cabUr6u2JqcWuK9vf+dhNko9dNI3+/v4AgPz8fAQGBqrb8/Pz1fv8\n/f1RUlKCixcvGh1tzM/PR0REhDrm3o9TEkLg3LlzRo9jOFVtcOHCBZSUlKhj7hYQEKAe7SQiIiKy\nZ40aNcJvv/2myWPbRaaxQYMG8Pf3x7Zt29RtRUVF2L17t7qafps2bVCjRg2jMadPn0ZOTo465tFH\nH8W1a9fUjCNwJ5t2/fp1dUx4eDgOHz6MM2fOqGO2b98OZ2dnk4sdnz17Vl2gWaavadOm2XwOrJt1\ns27WzbpZN+u+v69jx45Zt0m7S6Udabx+/br6cUmlpaU4efIkvv/+e3h7e6NevXoYO3YsZs2ahWbN\nmqFJkyaYMWMGPD09ER8fDwCoVasWhg8fjgkTJkCv16NOnToYN24cWrZsqX5kVkhICGJiYpCYmIhl\ny5ZBCIHExET06tVL/QD46OhohIaGYvDgwZg/fz4uXLiACRMmYOTIkfDw8Kisl8Pu5ebm2noKNsG6\n5cK65cK65SJr3VqqtKZx79696mdWKoqCadOmYdq0aRg6dChWrFiBCRMm4MaNGxg9ejQKCgrQoUMH\nbNu2Tf1oKQBYtGgRHB0dMWDAANy4cQPdu3fHunXrjHKPGRkZSEpKwuOPPw4AiIuLQ1pamnq/TqfD\nl19+iVGjRqFjx45wdXXFM888g7lz51bSK0FERERU9ShCCF4VUgFFUSDjS5SZmYnIyEhbT6PSsW65\nsG65sG65yFq3ln0Lm0YzZG0aiYiIqOrRsm+xiwthyP5kZmbaego2wbrlwrrlwrrlImvdWmLTSERE\nRERm8fS0GTw9TURERFUFT08TERERkU2xaSSTZM2CsG65sG65sG65yFq3ltg0EhEREZFZzDSawUwj\nERERVRXMNBIRERGRTbFpJJNkzYKwbrmwbrmwbrnIWreW2DQSERERkVnMNJrBTCMRERFVFcw0EhER\nEZFNsWkkk2TNgrBuubBuubBuuchat5bYNBIRERGRWcw0msFMIxEREVUVzDQSERERkU2xaSSTZM2C\nsG65sG65sG65yFq3lhxtPQEiIiKiqihw5av3Nf70sDc1mknlYKbRDGYaiYiIyBR7bBqZaSQiIiIi\nm+LpaTIpMzMTkZGRtp5GpWPdcmHdcmHd9uN+j9AB93+Uzh7rrup4pJGIiIiIzGKm0QxmGomIiKyr\nMo40VgZmGomIiIiI7sGmkUySdX0r1i0X1i0X1i0XWevWEptGIiIiIjKLmUYzmGkkIiKyLmYatcNM\nIxERERHZFJtGMknWLAjrlgvrlgvrlousdWuJTSMRERERmcVMoxnMNBIREVkXM43aYaaRiIiIiGyK\nTSOZJGsWhHXLhXXLhXXLRda6tcSmkYiIiIjMYqbRDGYaiYiIrIuZRu0w00hERERENsWmkUySNQvC\nuuXCuuXCuuUia91aYtNIRERERGYx02gGM41ERETWxUyjdphpJCIiIiKbYtNIJsmaBWHdcmHdcmHd\ncpG1bi2xaSQiIiIis5hpNIOZRiIiIutiplE7zDQSERERkU2xaSSTZM2CsG65sG65sG65yFq3ltg0\nEhEREZFZzDSawUwjERGRdTHTqB1mGomIiIjIptg0kkmyZkFYt1xYt1xYt1xkrVtLbBqJiIiIyCxm\nGs1gppGIiMi6mGnUDjONRERERGRTbBrJJFmzIKxbLqxbLqxbLrLWrSU2jURERERkFjONZjDTSERE\nZF3MNGpHmkzj7du3MXnyZDRs2BCurq5o2LAhpk6dipKSEqNxKSkpCAgIgJubG7p27YpffvnF6P7i\n4mIkJSXB19cXHh4eiIuLw5kzZ4zGFBQUICEhAV5eXvDy8sLgwYNRWFioeY1EREREVZFdNY2zZs1C\neno6UlNTceTIEbz11ltYunQpZs+erY6ZM2cOFixYgLS0NOzduxd6vR5RUVG4du2aOmbs2LHYtGkT\nNmzYgF27duHKlSuIjY1FaWmpOiY+Ph7ff/89tm7dii1btuDAgQNISEio1HrtmaxZENYtF9YtF9Yt\nF1nr1pKjrSdwt71796J379544oknAAD169dHbGws/vvf/wIAhBBYtGgRJk2ahD59+gAAVq9eDb1e\nj4yMDIwcORKFhYVYsWIFVq1ahW7dugEA1q5di6CgIOzYsQPR0dE4fPgwtm7dij179uCRRx4BAKSn\np6Nz5844evQoHnzwQRtUT0RERGS/7Kpp7NGjB+bMmYMjR46gadOm+OWXX7Bz505MnjwZAHDixAnk\n5+cjOjqI2L5UAAAgAElEQVRa/R4XFxd06dIFWVlZGDlyJPbv349bt24ZjQkMDERISAiys7MRHR2N\n7OxseHh44NFHH1XHhIeHw93dHdnZ2WwaAURGRtp6CjbBuuXCuuXCuqs2e8wPysaumsZRo0bh9OnT\nCAkJgaOjI27fvo3XXnsNzz//PAAgLy8PAODn52f0fXq9HmfPnlXHODg4wNvb22iMn5+f+v15eXnw\n9fU1ul9RFOj1enUMEREREf2PXWUaFy9ejJUrV2LDhg04ePAg1qxZgyVLlmDFihVmv1dRlArv5xXQ\n90fWLAjrlgvrlgvrlousdWvJro40zpw5E6+99hr69+8PAAgNDcXJkycxe/ZsPPvss/D39wcA5Ofn\nIzAwUP2+/Px89T5/f3+UlJTg4sWLRkcb8/PzERERoY45f/680XMLIXDu3Dn1ce42dOhQBAcHAwC8\nvLzQqlUr9XC/YaesbrcN7GU+lXX7+++/t6v58P3W9jbfb/uYD99vbW8b2Mt8DLeLc04BAJyb1dfk\ndmW838U5p+5rfpmZmZq8v5mZmcjNzYXW7GqdRr1ej2nTpmH06NHqttmzZ+Pf//43fvvtNwghEBAQ\ngKSkJEyaNAkAUFRUBD8/P8ybNw8jRoxAYWEh9Ho9Vq1ahYEDBwIATp8+jaCgIGzZsgVRUVE4fPgw\nQkNDsWfPHjXXmJWVhU6dOuHIkSNo0qSJ+vxcp5GIiMi6/so6jferMjKN9piz1LJvsasjjU8++STe\nfPNNNGjQAM2bN8fBgwexcOFCDBkyBMCdF2Ls2LGYNWsWmjVrhiZNmmDGjBnw9PREfHw8AKBWrVoY\nPnw4JkyYAL1ejzp16mDcuHFo2bIlunfvDgAICQlBTEwMEhMTsWzZMgghkJiYiF69ehk1jERERER0\nh87WE7jbwoULMWDAAIwePRrNmzfH+PHjMXLkSMycOVMdM2HCBLz00ksYPXo02rVrh/z8fGzbtg3u\n7u7qmEWLFqFPnz4YMGAAOnXqhJo1a+Lzzz83yj1mZGSgZcuWePzxxxETE4PWrVtj7dq1lVqvPbv3\ntIYsWLdcWLdcWLdcZK1bS3Z1pNHd3R3z5s3DvHnzKhw3bdo0TJs2rdz7nZycsHjxYixevLjcMV5e\nXmwSiYiIiCxkV5lGe8RMIxERkXUx06gdaT57moiIiIjsE5tGMknWLAjrlgvrlgvrlousdWuJTSMR\nERERmcVMoxnMNBIREVkXM43aYaaRiIiIiGyKTSOZJGsWhHXLhXXLhXXLRda6tcSmkYiIiIjMYqbR\nDGYaiYiIrIuZRu0w00hERERENsWmkUySNQvCuuXCuuXCuuUia91asqvPniYiIqKqpzJON5PtMdNo\nBjONREREFbPHppGZRuvj6WkiIiIiMotNI5kkaxaEdcuFdcuFdctF1rq1xKaRiIiIiMxiptEMZhqJ\niIgqxkyjZZhpJCIiIqJqj00jmSRrFoR1y4V1y4V1y0XWurXEppGIiIiIzGKm0QxmGomIiCrGTKNl\nmGkkIiIiomqPTSOZJGsWhHXLhXXLhXXLRda6tcSmkYiIiIjMsijTWFJSAgBwcHAAAPzxxx/48ssv\nERISgo4dO2o7QxtjppGIiKhizDRaRopM4xNPPIG0tDQAwLVr19CuXTu88soriIiIwOrVqzWZGBER\nERHZD4uaxv3796Nr164AgE2bNsHT0xPnzp3Du+++i/nz52s6QbINWbMgrFsurFsurFsustatJYua\nxmvXrqF27doAgG3btqFPnz6oUaMGunbtit9++03TCRIRERGR7VnUNNarVw+7d+/GtWvXsHXrVkRF\nRQEALl26BDc3N00nSLYRGRlp6ynYBOuWC+uWC+uWi6x1a8nRkkEvv/wyBg8eDHd3dwQFBaFLly4A\ngG+//RYtWrTQdIJEREREZHsWHWlMTExEdnY2VqxYgT179qhXUTdu3Bj//Oc/NZ0g2YasWRDWLRfW\nLRfWLRdZ69aSRU3jmjVr8NBDD+Gpp56Ch4eHuj0qKgrHjh3TbHJEREREZB8sWqdRp9MhLy8Per3e\naPuFCxeg1+tRWlqq2QRtjes0EhERVYzrNFpGinUay/P777/Dy8vLWnMhIiIiIjtVYdMYFhaGsLAw\nAEBERIR6OywsDM2bN0enTp3QrVu3SpkoVS5ZsyCsWy6sWy6sWy6y1q2lCq+e7tu3LwDg559/Rmxs\nLNzd3dX7nJyc0KBBA3UMEREREVVfFmUaV61ahaeffhouLi6VMSe7wkwjERFRxZhptExVzzRatE7j\n0KFD1f+/fPlymQtf6tSpY9VJEREREZF9sehCmNzcXMTExMDFxQV16tSBj4+P+uXr66v1HMkGZM2C\nsG65sG65sG65yFq3liw60vjss8/i8uXLWLFiBR544AEoiqL1vIiIiIjIjliUafTw8EB2drZ6JbVM\nmGkkIiKqGDONlqnqmUaLTk8HBwejuLhYkwkQERERkf2zqGlcvHgxJk+ejF9//VXr+ZCdkDULwrrl\nwrrlwrrlImvdWrIo0xgXF4fi4mI0bdoUzs7OcHT837cpioIrV65oNkEiIiIisj2L12msyN1L8lQ3\nzDQSERFVjJlGy1T1TON9r9NIREREZO/ssaGr6srNNF66dMno/yv6oupH1iwI65YL65YL65ZLcc4p\nW0+h2in3SKOPjw/y8vKg1+vh4+NT7gMoioKSkhJNJkdERERE9qHcTGNmZiY6duyIGjVqmP0rJTIy\nUoOp2QdmGomIiCpmj5nG+/VXTk/b4ylwm2QaDY3g7du38csvvyAuLg4BAQGaTIKIiIiI7JvZdRod\nHR0xfvx43L59uzLmQ3ZC1gwM65YL65YL65YLM43WZ9Hi3h06dMD+/fu1ngsRERER2SmL1mncsGED\nJk2ahOTkZLRt2xbu7u5G9z/88MOaTdDWmGkkIiKqGDON2j3H/bL5Oo3x8fEAgJdffrnMfbx6moiI\niKj6s+j09PHjx8v9OnbsmNZzJBuQNQPDuuXCuuXCuuXCTKP1WXSkMTg4WONpEBEREZE9s+hIIwDs\n378fCQkJaNOmDdq0aYOEhARNLo75448/MGTIEOj1eri6uiI0NBTffvut0ZiUlBQEBATAzc0NXbt2\nxS+//GJ0f3FxMZKSkuDr6wsPDw/ExcXhzJkzRmMKCgqQkJAALy8veHl5YfDgwSgsLLR6PVVVdV57\nsyKsWy6sWy6sWy7OzerbegrVjkVN4/r169G+fXvk5eWhZ8+e6NmzJ/Ly8tC+fXusXbvWapO5fPky\nOnbsCEVRsHnzZuTk5CAtLQ16vV4dM2fOHCxYsABpaWnYu3cv9Ho9oqKicO3aNXXM2LFjsWnTJmzY\nsAG7du3ClStXEBsbi9LSUnVMfHw8vv/+e2zduhVbtmzBgQMHkJCQYLVaiIiIiKoTi66eDg4OxsiR\nIzF58mSj7bNnz0Z6ejpyc3OtMpnJkydj165d2LVrl8n7hRCoW7cukpOTMWnSJABAUVER9Ho95s2b\nh5EjR6KwsBB6vR6rVq3CwIEDAQCnT59GUFAQvvrqK0RHR+Pw4cMIDQ3Fnj178OijjwIA9uzZg86d\nOyMnJwcPPvig+pyyXj2dmZkp5V+nrFsurFsurFs79nj1dHHOqfs62sirp82z6Ejj+fPn0b9//zLb\n//GPf+DcuXNWm8wnn3yC9u3bY8CAAfDz80Pr1q2xZMkS9f4TJ04gPz8f0dHR6jYXFxd06dIFWVlZ\nAO6cRr9165bRmMDAQISEhCA7OxsAkJ2dDQ8PD7VhBIDw8HC4u7urY4iIiIjofyxqGiMjI7Fz584y\n27/55htERERYbTLHjx/H0qVL0bhxY2zbtg1jxozBq6++qjaOeXl5AAA/Pz+j79Pr9ep9eXl5cHBw\ngLe3t9EYPz8/ozG+vr5G9yuKYvQ4spPxr3GAdcuGdcuFdcuFmUbrs+jq6Z49e2LSpEnYt2+fenQu\nOzsbH3/8MVJSUrBp0yZ17FNPPfWXJ1NaWor27dtj5syZAICWLVvi119/xZIlSzB69OgKv1dRlArv\nl/EUMxEREVnGHk+x2xuLmsakpCQAwPLly7F8+XKj+1588UWj23dfbHK/6tati+bNmxtta9asGU6d\nurPWkr+/PwAgPz8fgYGB6pj8/Hz1Pn9/f5SUlODixYtGRxvz8/PVo6L+/v44f/680fMIIXDu3Dn1\nce42dOhQddkhLy8vtGrVSv3LzbD+VXW7bdhmL/OprNuLFi2S4v3l+33nNt9v+5gP329tbxu2af18\nhnURDUf4bH376ra9cKrvZzfzKc45hcy78qXWfH8zMzOtdn1JRSy6EKayDBo0CL///rvREjtTp07F\nxx9/jEOHDkEIgYCAACQlJRldCOPn54d58+ZhxIgRFV4Is2XLFkRFRZm8ECYrKwudOnXCkSNH0KRJ\nE/X5eSGMXFi3XFi3XFi3duzxKN39XghTGar6hTAWNY1r1qzBgAED4OzsbLT95s2b2LBhAwYPHmyV\nyezbtw/h4eFISUlB//79cfDgQYwYMQKzZ8/GCy+8AAD417/+hVmzZmHlypVo0qQJZsyYgd27d+PI\nkSPqZ2KPGjUKn3/+OVatWoU6depg3LhxKCwsxP79+9XT2D179sTp06exbNkyCCEwcuRINGzYEJ9+\n+qnxCyRp00hERGQpe2wa7ZEUTaNOp0NeXp7ReokAcOHCBej1+r91SvpemzdvxuTJk3HkyBEEBQXh\nxRdfLHMKfPr06UhPT0dBQQE6dOiAJUuWGJ3WvnnzJsaPH4+MjAzcuHED3bt3x9KlSxEQEKCOuXz5\nMpKSkvDZZ58BAOLi4pCWloaaNWsaPRebRiIiooqxabSM1E3jwYMH0a1bN1y6dEmTydkDWZtGnsaR\nC+uWC+uWC09P24+q3jRWeCFMWFiY+v8RERFwdPzf8JKSEpw8eRI9e/bUZGJEREREZD8qPNKYkpIC\nAHjjjTfw8ssvq5lBAHByckKDBg3Qt29fODk5aT5RW5H1SCMREZGl7PFIoz2q1kcaDU1jcHAwnn76\nabi4uGgyCSIiIiKybzpLBg0dOhQuLi74z3/+g7S0NCxZssTkJ8RQ9XH3+k8yYd1yYd1yYd1yMayT\nSNZj0eLeZ86cwZNPPokDBw6gbt26AICzZ8+iTZs2+OSTT9RtRERERFQ9WXT1dN++fXH27FlkZGSg\nQYMGAO58TvSgQYNQt25dbNy4UfOJ2gozjURERBVjptEy1TrTaLB9+3bs3LlTbRgBoGHDhkhNTcVj\njz2mycSIiIiIyH5YlGkEoH6SirltVD3ImoFh3XJh3XJh3XJhptH6LGoau3XrhuTkZJw69b834OTJ\nkxgzZgy6deum2eSIiIiIyD5YlGk8deoU4uLi8NNPPxldCNOiRQt8+umnqFevnuYTtRVmGomIiCrG\nTKNlpMg01q9fH/v378fXX3+Nw4cPAwBCQkIQFRWlyaSIiIiIyL5YnGnU6XSIiopCcnIykpOT2TBW\nc7JmYFi3XFi3XFi3XJhptD6Lm8YvvvgCnTt3hre3N3x8fBAREYEvv/xSy7kRERERkZ2wKNP47rvv\nYtSoURg0aBA6duwIANi9ezcyMjLw9ttvY/jw4ZpP1FaYaSQiIqoYM42WqeqZRouaxiZNmmDMmDF4\n8cUXjbanpqYiNTUVR48e1WRy9oBNIxERUcXYNFqmqjeNFp2ePnXqFGJiYspsj4mJQW5urrXnRHZA\n1gwM65YL65YL65YLM43WZ1HTWK9ePWzbtq3M9u3btyMoKMjqkyIiIiIi+2LR6en09HQkJSVh8ODB\nRpnGtWvXIjU1FYmJiZpP1FZ4epqIiKhiPD1tmap+etqidRoTExOh1+sxb948fPzxxwDurNP44Ycf\nIi4uTpOJEREREZH9KPf09BtvvIHr168D+N8nwuzZswcXL17ExYsXsXv3bjaM1ZisGRjWLRfWLRfW\nLRdmGq2v3KZx+vTpuHbtGgAgODgYFy5cqLRJEREREZF9KTfTWL9+fUycOBFPPPEEGjZsiL1798LX\n19fkg9SvX1/TSdoSM41EREQVY6bRMlU901hu07hs2TKMHj0aJSUlZidnbkxVxqaRiIioYmwaLVPV\nm8ZyT0+PHDkS586dw4EDBwAAW7Zswf/93/+V+frvf/+rycTItmTNwLBuubBuubBuuTDTaH0VXj1d\nu3Zt1K5dGytWrECXLl3g4uJSWfMiIiIiIjti0TqNMuPpaSIioorx9LRlqu3paSIiIiIiAzaNZJKs\nGRjWLRfWLRfWLRdmGq2PTSMRERERmVVuptHBwQF//PEH9Ho9nn32WSxatAg1a9as7PnZHDONRERE\nFWOm0TLVNtPo6uqKq1evAgBWrVqFoqIiTSZARERERPav3CV3wsPD0adPHzz88MMAgDFjxsDV1dVo\njBACiqJgxYoV2s6SKl1mZiYiIyNtPY1Kx7rlwrrlwrrlUpxzCs7Nqu8n1tlCuU3jmjVrMG/ePPz2\n228AgIsXL8LJyQmKoqhjDE0jEREREVVvFq3TGBwcjH379sHHx6cy5mRXmGkkIiKqGDONlqnqmcYK\nPxHGIDc3V5MnJyIiIqKqweIld7744gt07twZ3t7e8PHxQUREBL788kst50Y2JOu6XqxbLqxbLqxb\nLlyn0fosahrfffddPPXUU2jcuDHmzJmDN998Ew0aNECfPn3w73//W+s5EhEREZGNWZRpbNKkCcaM\nGYMXX3zRaHtqaipSU1Nx9OhRzSZoa8w0EhERVYyZRstU9UyjRUcaT506hZiYmDLbY2JimHckIiIi\nkoBFTWO9evWwbdu2Mtu3b9+OoKAgq0+KbE/WDAzrlgvrlgvrlgszjdZn0dXTr7zyCpKSknDgwAF0\n7NgRALB7926sXbsWqampmk6QiIiIiGzPokwjAHz88ceYN28ecnJyAAAhISF45ZVXEBcXp+kEbY2Z\nRiIiooox02iZqp5ptOhIIwD06dMHffr00WQSRERERGTfLF6nkeQiawaGdcuFdcuFdcuFmUbrY9NI\nRERERGZZnGmUFTONREREFWOm0TJVPdPII41EREREZJbZpvHmzZt45JFHcOTIkcqYD9kJWTMwrFsu\nrFsurFsuzDRan9mm0cnJCSdOnICiKJUxHyIiIiKyQxZlGsePHw9FUTB37tzKmJNdYaaRiIioYsw0\nWqaqZxotWqfxzz//xLp167B9+3a0adMG7u7uAAAhBBRFweLFizWZHBERERHZB4suhPnll1/w8MMP\nw8vLC8eOHcNPP/1k9EXVj6wZGNYtF9YtF9YtF2Yarc+iI42y7nBEREREdMd9rdN44cIFHDt2DC1b\ntoSLi4uW87IbzDQSERFVjJlGy1T1TKNFp6evXr2Kfv36Qa/XIzw8HGfPngUAPP/880hJSdFkYkRE\nRERkPyxqGidOnIgzZ87gwIEDcHV1VbfHxsZi06ZNmk2ObEfWSALrlgvrlgvrlgszjdZnUabxs88+\nw6ZNm9CqVSuj9RqbNWuG48ePazKx2bNnY8qUKRg9ejRSU1PV7SkpKVi+fDkKCgrwyCOPYMmSJWje\nvLl6f3FxMcaPH48NGzbgxo0b6NatG5YuXYqAgAB1TEFBAZKTk/H5558DAHr37o3U1FTUqlVLk1qI\niIiqCp5qpvJYdKSxoKAA3t7eZbZfvXoVDg4OVp/Ud999h+XLl6NFixZGTeqcOXOwYMECpKWlYe/e\nvdDr9YiKisK1a9fUMWPHjsWmTZuwYcMG7Nq1C1euXEFsbCxKS0vVMfHx8fj++++xdetWbNmyBQcO\nHEBCQoLV66jKIiMjbT0Fm2DdcmHdcmHdcnFuVt/WU6h2LGoa27Zti88++6zM9mXLliE8PNyqEyos\nLMQzzzyDlStXonbt2up2IQQWLVqESZMmoU+fPggNDcXq1atx9epVZGRkqN+7YsUKzJs3D926dUPr\n1q2xdu1a/Pjjj9ixYwcA4PDhw9i6dSuWLVuGRx55BB06dEB6ejq++OILHD161Kq1EBEREVUXFjWN\ns2fPxuuvv47nnnsOt27dwsKFC9G1a1esWbMGM2bMsOqERo4ciX79+iEiIsLo6p8TJ04gPz8f0dHR\n6jYXFxd06dIFWVlZAID9+/fj1q1bRmMCAwMREhKC7OxsAEB2djY8PDzw6KOPqmPCw8Ph7u6ujiF5\nMzCsWy6sWy6sWy7MNFqfRU1jeHg4srKycPPmTTRq1Ahff/01AgIC8N1336FNmzZWm8zy5ctx/Phx\ntRG9+9R0Xl4eAMDPz8/oe/R6vXpfXl4eHBwcypxK9/PzMxrj6+trdL+iKEaPQ0RERETGLLoQBgDC\nwsKwZs0azSZy5MgRTJkyBbt371ZzkkIIi9Yauru5NIXrLN4/WTMwrFsurFsurFsuzDRan8VN440b\nN5CRkYHDhw8DAEJCQhAfH2+0BM/fkZ2djQsXLiA0NFTdVlJSgl27diE9PR2HDh0CAOTn5yMwMFAd\nk5+fD39/fwCAv78/SkpKcPHiRaOjjfn5+YiIiFDHnD9/3ui5hRA4d+6c+jj3Gjp0KIKDgwEAXl5e\naNWqlfpDaDjsz9u8zdu8zdu8XR1uGxhO7xqaL97++7czMzM1eb8yMzORm5sLrVn0iTAHDhxAbGws\nbty4gbCwMAgh8PPPP8PZ2RlffPGFVU5RFxYW4syZM+ptIQSGDRuGBx98EJMnT0ZISAgCAgKQlJSE\nSZMmAQCKiorg5+eHefPmYcSIESgsLIRer8eqVaswcOBAAMDp06cRFBSELVu2ICoqCocPH0ZoaCj2\n7Nmj5hqzsrLQqVMnHDlyBE2aNDF+gST9RJi7d2yZsG65sG65sG7LVJcld4pzTtnd0caq/okwFh1p\nHDlyJDp16oSVK1fC3d0dAHD9+nU8++yzSExMxL59+/72RGrVqlVmnUQ3NzfUrl1bXYdx7NixmDVr\nFpo1a4YmTZpgxowZ8PT0RHx8vPoYw4cPx4QJE6DX61GnTh2MGzcOLVu2RPfu3QHcOUIaExODxMRE\nLFu2DEIIJCYmolevXmUaRiIiIiK6w6Ijja6urti3b5/RqWMA+Pnnn9GmTRsUFRVpMrmuXbsiLCwM\nixcvVrdNnz4d6enpKCgoQIcOHcos7n3z5k2MHz8eGRkZuHHjBrp3715mce/Lly8jKSlJXUYoLi4O\naWlpqFmzZpk5yHqkkYiI5FRdjjTao6p+pNGiprFVq1aYO3cuoqKijLbv2LEDL7/8Mn744QdNJmcP\n2DQSEZFM2DRqp6o3jbry7rh06ZL6NXPmTCQnJ+O9995Dbm4ucnNz8d5772Hs2LGYOXOmJhMj27o3\nEC0L1i0X1i0X1i0XrtNofeVmGn18fMpsGzRoUJltcXFxKCkpse6siIiIiMiulHt6+n7+MqnOV6Px\n9DQREcmEp6e1U9VPT5d7pLE6N4JEREREdH/KzTTeq7i4GAcOHMCWLVuwefNmoy+qfmTNwLBuubBu\nubBuuTDTaH0WrdP4n//8B4MGDUJ+fr7J+0tLS606KSIiIiKyLxYtudO0aVN07twZU6dOhV6vL/NZ\nzy4uLppN0NaYaSQiIpkw06idaptpvNvZs2cxefJkBAUFaTIJIiIiIrJvFmUae/TogaysLK3nQnZE\n1gwM65YL65YL65YLM43WZ9GRxvT0dAwcOBD79u1DWFgYatSoYXT/4MGDNZkcEREREdkHizKNH3zw\nAYYOHYqioiK4ubmVyTRevXpVswnaGjONREQkE2YatVPVM40WnZ4eP348Ro0ahatXr+LatWu4evWq\n0RcRERERVW8WNY2XL1/GCy+8AHd3d63nQ3ZC1gwM65YL65YL65YLM43WZ1HT+NRTT2H79u1az4WI\niIiI7JRFmcZ//vOfWLRoEWJiYtCiRYsyF8KMGzdOswnaGjONREQkE2YatVPVM40WNY3BwcFGk7nX\niRMnrDope8KmkYiIZMKmUTtVvWm06PR0bm6u+nXixIkyX1T9yJqBYd1yYd1yYd1yYabR+ixqGomI\niIhIbhadnk5KSjJ5Wtpg8eLFVp2UPeHpaSIikglPT2unqp+etugTYX766SejpvHmzZvIyclBSUkJ\nWrdurcnEiIiIiMh+WHR6OjMzEzt37lS/9uzZgzNnzqBnz54YMGCA1nMkG5A1A8O65cK65cK65cJM\no/X95Uyji4sLpkyZgpkzZ1pzPkRERERkhyzKNJbnm2++QVxcHC5fvmzNOdkVZhqJiEgmzDRqR4pM\n4/z5840yjUIInD17FuvXr0fPnj01mRgRERER2Q+LTk+npqYafS1duhR79uzBs88+i/T0dK3nSDYg\nawaGdcuFdcuFdcuFmUbrs+hIY25ursbTICIiIiJ79rcyjTJgppGIiGTCTKN2pMg0CiHw/vvv4+uv\nv8a5c+dQWlpqNLnPPvtMk8kRERERkX2wKNM4YcIEJCQk4OTJk/Dy8oK3t7fRF1U/smZgWLdcWLdc\nWLdcmGm0PouONK5ZswYZGRno16+f1vMhIiIiIjtkUabR19cX2dnZaNy4cWXMya4w00hERDJhplE7\nVT3TaNHp6REjRmDdunWaTICIiIiI7J9FTWNhYSEWLVqEjh074oUXXkBycjKSk5ORlJSE5ORkredI\nNiBrBoZ1y4V1y4V1y4WZRuuzKNP4888/o1WrVgCAnJwcdbsQwuiTYoiIiIioeuI6jWYw00hERDJh\nplE7UmQaiYiIiEhubBrJJFkzMKxbLqxbLqxbLsw0Wh+bRiIiIiIyi5lGM5hpJCIimTDTqB1mGomI\niIio2mPTSCbJmoFh3XJh3XJh3XJhptH62DQSERERkVnMNJrBTCMREcmEmUbtMNNIRERERNUem0Yy\nSdYMDOuWC+uWC+uWCzON1semkYiIiIjMYqbRDGYaiYhIJsw0aoeZRiIiIiKq9tg0kkmyZmBYt1xY\nt1xYt1yYabQ+No1EREREZBYzjWYw00hERDJhplE7zDQSERERUbXHppFMkjUDw7rlwrrlwrrlwkyj\n9SWUVVkAABpzSURBVLFpJCIiIiKzmGk0g5lGIiKSCTON2mGmkYiIiIiqPbtqGmfPno127dqhVq1a\n0Ov16N27N37++ecy41JSUhAQEAA3Nzd07doVv/zyi9H9xcXFSEpKgq+vLzw8PBAXF4czZ84YjSko\nKEBCQgK8vLzg5eWFwYMHo7CwUNP6qhJZMzCsWy6sWy6sWy7MNFqfXTWN33zzDV588UVkZ2fjP//5\nDxwdHdG9e3cUFBSoY+bMmYMFCxYgLS0Ne/fuhV6vR1RUFK5du6aOGTt2LDZt2oQNGzZg165duHLl\nCmJjY1FaWqqOiY+Px/fff4+tW7diy5YtOHDgABISEiq1XiIiIqKqwq4zjdevX0etWrXw6aef4okn\nnoAQAnXr1kVycjImTZoEACgqKoJer8e8efMwcuRIFBYWQq/XY9WqVRg4cCAA4PTp0wgKCsJXX32F\n6OhoHD58GKGhodizZw8effRRAMCePXvQuXNn5OTk4MEHH1TnwEwjERHJhJlG7TDTqKErV66gtLQU\ntWvXBgCcOHEC+fn5iI6OVse4uLigS5cuyMrKAgDs378ft27dMhoTGBiIkJAQZGdnAwCys7Ph4eGh\nNowAEB4eDnd3d3UMEREREf2PXTeNY8aMQevWrdXmLi8vDwDg5+dnNE6v16v35eXlwcHBAd7e3kZj\n/Pz8jMb4+voa3a8oitHjyE7WDAzrlgvrlgvrlgszjdbnaOsJlGfcuHHIysrC7t27oSiK2fHmxvAU\nMxEREdFfZ5dN40svvYQPPvgAO3fuRHBwsLrd398fAJCfn4/AwEB1e35+vnqfv78/SkpKcPHiRaOj\njfn5+YiIiFDHnD9/3ug5hRA4d+6c+jh3Gzp0qDoPLy8vtGrVCpGRkQD+9xccb1eP24Zt9jIf3tb2\ntmGbvcyHt7W9bdhmL/Ox19sGhiN1zs3qV8nbhm32Mp/inFOa7H+G/8/NzYXW7O5CmDFjxuDDDz/E\nzp070bRpU6P7hBAICAhAUlKS0YUwfn5+mDdvHkaMGFHhhTBbtmxBVFSUyQthsrKy0KlTJxw5cgRN\nmjRRn5MXwhARkUx4IYx2eCGMFY0ePRqrVq3C+vXrUatWLeTl5SEvLw/Xr18HcOeFGDt2LObMmYOP\nP/4Yhw4dwtChQ+Hp6Yn4+HgAQK1atTB8+HBMmDABX3/9NQ4ePIiEhAS0bNkS3bt3BwCEhIQgJiYG\niYmJ+O6775CdnY3ExET06tXLqGGU2b1/ccqCdcuFdcuFdcuFmUbrs6vT02+//TYURUG3bt2Mtqek\npOD1118HAEyYMAE3btzA6NGjUVBQgA4dOmDbtm1wd3dXxy9atAiOjo4YMGAAbty4ge7du2PdunVG\nuceMjAwkJSXh8ccfBwDExcUhLS2tEqokIiKqPP2+WgbnE1tsPQ2qBuzu9LS94elpIiKqyni62X7w\n9DQRERERVXtsGskkWTMwrFsurFsustYta7ZP1rq1xKaRiIiIiMxiptEMZhqJiKgqY6bRfjDTSERE\nRETVHptGMknW7A/rlgvrlousdcua7ZO1bi2xaSQiIiIis5hpNIOZRiIiqsqYabQfzDQSERERUbXH\nppFMkjX7w7rlwrrlImvdsmb7ZK1bS2waiYiIiMgsZhrNYKaRiIiqMmYa7QczjURERERU7bFpJJNk\nzf6wbrmwbrnIWres2T5Z69YSm0YiIiIiMouZRjOYaSQioqqMmUb7wUwjEREREVV7bBrJJFmzP6xb\nLqxbLrLWLWu2T9a6tcSmkYiIiIjMYqbRDGYaiYioKmOm0X4w00hERERE1R6bRjJJ1uwP65YL65aL\nrHXLmu2TtW4tsWkkIiIiIrOYaTSDmUYiIqrKmGm0H8w0EhEREVG1x6aRTJI1+8O65cK65SJr3bJm\n+2StW0tsGomIiIjILGYazWCmkYiIqjJmGu0HM41EREREVO2xaSSTZM3+sG65sG65yFq3rNk+WevW\nEptGIiIiIjKLmUYzmGkkIqKqjJlG+8FMIxERERFVe2waySRZsz+sWy6sWy6y1i1rtk/WurXEppGI\niIiIzGKm0QxmGomIqCpjptF+MNNIRERERNUem0YySdbsD+uWC+uWi6x1y5rtk7VuLbFpJCIiIiKz\nmGk0g5lGIiKqyphptB/MNBIRERFRtcemkUySNfvDuuXCuuUia92yZvtkrVtLbBqJiIiIyCxmGs1g\nppGIiKoyZhrtBzONRERERFTtsWkkk2TN/rBuubBuuchat6zZPlnr1hKbRiIiIiIyi5lGM5hpJCKi\nqoyZRvvBTCMRERERVXtsGskkWbM/rFsurFsustYta7ZP1rq1xKaRiIiIiMxiptEMZhqJiKgqY6bR\nfjDTSERERETVHptGMknW7A/rlgvrlousdcua7ZO1bi052noCREREZDmebiZbYabRDGYaiYjInrBp\nrLr+v717D4qqfv8A/j4HWi6LgIKwmwoolZeEEZUULAcbRJkpqJ+3ScEbWUHeMpvKTLT8apqXUctu\njkIXEmu0vICigiHCjI6sUyI4ghe8wAoGFJe4Pr8/HM54uC0gsMvZ5zXDDPs5nz37vH1QPp49Zw+f\n09iL7d69G4MHD4aNjQ3Gjh2LtLQ0Y5fEGGOMMWaSzHbRGB8fj+XLl2P16tW4dOkS/P39ERwcjNu3\nbxu7NJNgruf+cG7zwrnNi7nmNtdz+8w1d3cy20Xjtm3bsGDBAkRERGDo0KHYuXMntFotvvrqK2OX\nZhIuXbpk7BKMgnObF85tXsw1d02+3tglGIW55u5OZrlorKmpQWZmJoKCgmTjQUFBSE9PN1JVpqW0\ntNTYJRgF5zYvnNu8mGtuqqw2dglGYa65u5NZXj1dXFyM+vp6uLq6ysZdXFxQWFjYbH5VXW27960S\nLWAhmuVanDHGFKUzF5x09EIHvqiF9SZmuWjsqP9L+Lrdc9/2DsBLHl7dWE3PuHnzprFLMArObV44\nt3npidymuAisKy4zdglGYa65u5NZfuROTU0N1Go19u/fj2nTpknjb7/9Nq5cuYKUlBRp7KmnnkJe\nXp4xymSMMcYY6xBPT0/k5uZ2y77N8kijSqXCmDFjkJSUJFs0njx5EjNmzJDN7a4/eMYYY4yx3sQs\nF40AsGLFCoSHh+O5556Dv78/vv76axQWFuKtt94ydmmMMcYYYybHbBeNM2fOxIMHD7B+/XoUFBTA\ny8sLCQkJGDRokLFLY4wxxhgzOWZ5TiNjjDHGGOsYxX82TGpqKkJCQjBw4ECIoojY2FjZdr1ej/nz\n52PAgAFQq9UIDg6Wncd48+ZNiKLY4tfWrVuleSUlJQgPD4ejoyMcHR0xd+5clJUZ78qtnsrt4eHR\nbPuqVat6LGdTj5sbAO7du4c5c+ZAq9VCrVZj1KhRiIuLk81RWr+B9uVWYr/z8vLw6quvwsXFBQ4O\nDpg1axbu378vm6PEfrcntyn1e+PGjfD19YWDgwNcXFwQEhKCrKysZvPWrl2LAQMGwNbWFpMmTcKV\nK1dk26urq7FkyRL0798fdnZ2CA0Nxd27d2VzTKnfPZlbif3+9ttvMWnSJDg6OkIUReTnN79LjBL7\n3Z7cnem34heNFRUV8Pb2xo4dO2BjYwNBEKRtRIRXXnkFeXl5+P3336HT6eDu7o7AwEBUVlYCANzc\n3FBYWCj72r17NwRBwPTp06V9zZ49G5cuXcKJEydw/PhxZGZmIjw8vMfzNuqp3IIgIDo6Wjbvo48+\n6vG8jR43NwCEhYXh2rVrOHz4MLKysjB37lyEh4fj7Nmz0hyl9RtoX26l9buiogJBQUEQBAEpKSk4\nd+4campq8PLLL+PRN2GU1u/25jalfv/xxx9YvHgxMjIykJycDEtLSwQGBqKkpESas2nTJmzbtg1f\nfPEFLly4ABcXF0yePBnl5eXSnOXLl+PgwYPYv38/zp49i3/++QcvvfQSGhoapDmm1O+ezK3EfldV\nVWHq1KlYt25dq6+lxH63J3en+k1mxM7OjmJjY6XHV69eJUEQ6M8//5TGGhoayMXFhfbs2dPqfgID\nA2nKlCnS4ytXrpAgCJSeni6NpaWlkSAIdPXq1S5O0XHdlZuIyMPDg7Zs2dL1RXeBzua2s7OjmJgY\n2b7c3d1p69atRKTcfhvKTaS8fp84cYJEUaTS0lJpTllZGYmiSKdOnSIiZfa7PbmJTLvf5eXlZGFh\nQUePHiWihxk1Gg1t2LBBmlNVVUV9+vShb775hoiISktLSaVSUVxcnDTn9u3bJIoinThxgohMv9/d\nlZtIef1+1IULF0gQBLp165ZsXIn9flRruYk612/FH2lsS3X1w1sMWVlZSWOCIEClUuHcuXMtPuf6\n9etITk7GG2+8IY1lZGTAzs4Ofn5+0pi/vz/UajUyMjK6qfrO66rcjbZs2QJnZ2f4+Phgw4YNqK1t\n/x10elJbudPS0qSx4OBgxMfH4++//0ZDQwN+//13FBcXIzAwEICy+t2R3I2U0O/Gn/Pq6moIgiCb\nY2VlBVEUpTlK6ndHcjcy1X7/888/aGhoQN++fQEAN27cgF6vl90e1traGhMnTpRuD3vx4kXU1tbK\n5gwcOBDDhw+Xemnq/e7q3E1vnaukfreHEvvdER3tt1kvGocPHw43NzesWrUKJSUlqKmpwaZNm3D3\n7l0UFBS0+Jw9e/bAxcUFoaGh0lhhYSH69+8vmycIQqu3JTS2rsoNAEuXLsX+/ftx5swZLF68GNu3\nb0dUVFRPxOiwtnI/2qfY2FjU1tbC2dkZ1tbWCAsLw88//wxvb28Ayup3R3IDyul348/5+PHjYWdn\nh/feew+VlZWoqKjAypUrUV9fL81RUr87khsw7X4vW7YMPj4+0i/7xl60dXvYwsJCWFhYwMnJSTbH\n1dVVNseU+93VufV6vfRYaf1uDyX2u70602+z/cgdALC0tMTBgwcREREBJycnWFhYYPLkyQgODm5x\nfl1dHfbt24d58+bBwsKih6vtOl2Z+5133pG+HzlyJBwcHDBz5kxs3rxZ+p+RqWgrNz1yHldYWBj+\n/fdfnD59Gs7Ozjh06BDCw8ORmpoqW0D1Fl2ZWyn9btS/f3/88ssviIyMxO7duyGKImbPno3Ro0dD\n7KX3kO/K3Kba7xUrViA9PR1paWmy8zlbY2gO9ZIPEenq3E2ZS797C1Psd+/8V7ELjR49GjqdDmVl\nZSgsLERCQgKKi4sxZMiQZnOPHDkCvV6P119/XTau0WhQVFQkGyMi3L9/HxqNplvr76yuyN0SX19f\nAKZ7J53Wcnt6egIAsrOzcejQIXz33XeYNGkSvLy8sGbNGvj6+mLXrl0AlNXvjuRuSW/t96M/55Mn\nT0Zubi6Kiorw4MEDxMbG4s6dO9IcJfW7I7lbYgr9fueddxAfH4/k5GR4eHhI4429ePTIWePjxm0a\njQb19fV48OBBm3NMsd/dkbuwsLDNTL293+2hxH53Vnv6bfaLxkZ9+vSBk5MTrl27hosXLzZ7GxYA\nvvvuOwQEBOCpp56Sjfv5+aG8vFx2/kNGRgYqKirg7+/f7bU/jsfJ3ZJLly4BALRabZfX2pVay914\nJWHTo0yiKEpHI5TY7/bkbklv7/ej+vXrB3t7e5w+fRpFRUUICQkBoMx+P6q13C0xdr+XLVsm/SJ9\n5plnZNsGDx4MjUaDpKQkaey///5DWlqa1KcxY8bgiSeekM25c+cOcnJypDmm2O+eyN2S3t7v9lBi\nvzurXf3u0GUzvVB5eTnpdDrS6XRka2tLn3zyCel0OsrPzyciogMHDlBycjLl5eXRb7/9Ru7u7jR9\n+vRm+7l16xZZWFjIrj57VHBwMHl5eVFGRgalp6fTyJEjKSQkpFuztaUncmdkZNC2bdtIp9PR9evX\nKT4+ngYMGECvvPJKt+drzePmrquro+HDh9PEiRPp/PnzlJubS1u2bCFRFKWr14iU1+/25E5PT1dc\nv4mI9u7dS+np6ZSbm0s//PADOTk50cqVK2VzlNZvIsO5Te3vd1RUFNnb21NycjIVFBRIX+Xl5dKc\nTZs2kYODAx08eJD++usvmjVrFg0YMEA2JzIykgYOHEinTp2izMxMCggIIB8fH2poaJDmmFK/eyq3\nUvtdUFBAOp2OfvrpJxIEgRISEkin09Hff/8tzVFivw3l7my/Fb9oTElJIUEQSBAEEkVR+n7BggVE\nRLRz504aNGgQqVQqcnd3pzVr1lBtbW2z/axZs4acnJyourq6xdcpKSmhsLAwsre3J3t7ewoPD6ey\nsrJuzdaWnsidmZlJ48ePJ0dHR7KxsaFhw4bRunXrqKqqqtvztaYrcufl5dH06dNJo9GQWq2mUaNG\n0ffffy+bo8R+G8qt1H5/8MEHpNFoSKVS0dChQ2n79u3NXkeJ/TaU29T63TRr49e6detk89auXUta\nrZasra0pICCAsrKyZNurq6tpyZIl5OTkRLa2thQSEkJ37tyRzTGlfvdUbqX2Ozo6utnfFVEUZR9T\npcR+t5RbEAQpd2f7zbcRZIwxxhhjBvE5jYwxxhhjzCBeNDLGGGOMMYN40cgYY4wxxgziRSNjjDHG\nGDOIF42MMcYYY8wgXjQyxhhjjDGDeNHIGGOMMcYM4kUjY6zXamhowJtvvglnZ2eIoojU1FRjl9Si\ntWvXwsvLy9hlMMbYY+EP92aM9VpHjx7FtGnTkJqaisGDB6Nv37544oknHnu/AQEB8PLywq5du7qg\nSqCiogI1NTXo27ev0WpgjLHHZWnsAhhjrLNyc3Oh1Woxbtw4Y5fSooaGBgCAWq2GWq02cjVdq66u\nDpaW/CuEMXPCb08zxnql+fPnY8WKFcjPz4coihgyZAgAoLq6GsuXL4dGo4GNjQ38/Pxw7tw52XNT\nU1Mxbtw42NjYQKPRYMWKFaitrZX2m5qaii+//BKiKMLCwgL5+fk4c+YMRFHEsWPHMGrUKNjY2GDs\n2LHIzMyU9hsTE4M+ffogMTERI0eOhJWVFbKzs5u9PT1//ny8/PLL2LFjBwYOHIh+/fph4cKFqKqq\narEGURSRn5/f7M/g+++/h7OzM2pqamTjc+bMQWhoqPT4yJEjGDNmDGxsbDBkyBCsXr1aygsAP/74\nI3x9fWFvbw9XV1fMnDkT9+7dk7Y3Zk9MTMRzzz0HKysrJCUldbhnjLFerutus80YYz2nrKyMoqOj\nadCgQaTX66m4uJiIiJYuXUparZYSEhIoJyeHFi1aRHZ2dlRQUEBERHfu3CFbW1uKjIyknJwcOnr0\nKGk0Gnr33Xel/fr7+1NERATp9XrS6/VUX19PKSkpJAgCDRs2jJKSkujy5cs0Y8YM0mq1VFlZSURE\n+/btI0tLS/L396f09HS6du0a/fvvvxQdHU0jR46Uap83bx45ODjQG2+8QTk5OZSUlESOjo60cePG\nNmtoqqqqivr27UsHDhyQxkpLS8nW1pYOHz5MRETHjx8ne3t7iomJoevXr1NKSgoNHTqUVq5cKT1n\n7969lJiYSDdu3KDz58/TpEmTaOLEidL2xuze3t508uRJunHjBhUVFXVJHxljvQcvGhljvdbnn39O\nHh4e0uPy8nJSqVT0ww8/SGP19fXk6elJq1evJiKiVatW0TPPPCPbT0xMDFlZWVFVVRUREQUEBNCS\nJUtkcxoXTnFxcbLXc3R0pD179hDRw0WjIAiUmZkpe25Li0Y3NzdqaGiQxhYtWkSBgYHS45ZqaMni\nxYtp6tSp0uPdu3eTVquVFpkvvPACrV+/XvacQ4cOkZ2dXav7zM7OJkEQ6O7du7LsBw8eNFgPY0y5\n+O1pxphi5OXloba2FhMmTJDGRFGEn58fsrOzAQDZ2dkYP3687HkTJkxATU0NcnNzDb6Gn5+f9L1a\nrYaXl5e0bwCwtLTEqFGjDO5nxIgREARBeqzVanH//n2Dz2tq0aJFOHnypPR28t69ezFv3jyI4sN/\n3i9evIj169ejT58+0tecOXNQWVkJvV4PAMjMzERoaCg8PDxgb28PX19fAGj2lvjYsWM7XB9jTDn4\nLGbGmOIRkWyBRq18aMSjczqy70dZWVm1az9NLyIRBEG6cKYjvL29MXr0aOzbtw+hoaG4ePEi4uLi\nZPWtXbsWM2bMaPZcZ2dnVFRUYMqUKQgKCsKPP/4IFxcXFBUV4YUXXmh2rqTSLuZhjHUMLxoZY4rh\n6ekJlUqFtLQ0DB48GABQX1+PjIwMhIWFAXh4hO/AgQOyhWRaWhpUKhU8PT0BACqVCnV1dS2+RkZG\nBjw8PAA8/CidrKwszJ8/v8O1GlpYtlVDU4sWLcLmzZtRXFyM559/Hk8//bS0bfTo0cjOzpYuFGoq\nJycHDx48wIYNG+Du7g4AuHz5cjtTMMbMCb89zRhTDLVajcjISLz//vtITExEdnY2IiMjUVRUhKio\nKABAVFQU7t27h6ioKGRnZ+PYsWP48MMPsWTJElhbWwMAPDw8cP78edy6dQvFxcWyo4n/+9//cOrU\nKWRlZWHhwoWwsrLC7NmzO1xra0c7G7VVQ1OvvfYaCgsL8dVXXyEiIkK2bc2aNYiLi0N0dDQuX76M\nnJwc/Prrr3j//fcBAG5ubrCyssKuXbtw/fp1HDt2DB9//HGH8zDGlI8XjYyxXksQhGZH7DZt2oRZ\ns2ZhwYIF8PHxweXLl3H8+HG4uroCAJ588kkkJiZCp9PBx8cHERERmD17NjZs2CDtY+XKlVCpVBgx\nYgRcXV1x+/Ztadtnn32Gd999F2PGjEFeXh6OHj0KGxsbWU2G6myp7qZjbdXQlJ2dHWbMmAFra2vM\nnDlTti0oKAjHjh1DSkoKxo0bh3HjxmHz5s3SUcX+/fsjNjYWv/32G5599ll8+umn2L59e4v1McbM\nG98RhjHG2uHMmTN48cUXUVxcjH79+hm7nGaCg4Ph5uaGb775xtilMMYUis9pZIyxXqykpARnz57F\nyZMn8eeffxq7HMaYgvGikTHG2skU36L18fFBaWkpNm7ciBEjRhi7HMaYgvHb04wxxhhjzCC+EIYx\nxhhjjBnEi0bGGGOMMWYQLxoZY4wxxphBvGhkjDHGGGMG8aKRMcYYY4wZxItGxhhjjDFm0P8D1OIu\nzIPlR+8AAAAASUVORK5CYII=\n",
       "text": [
        "<matplotlib.figure.Figure at 0xa543a90>"
       ]
      }
     ],
     "prompt_number": 31
    },
    {
     "cell_type": "markdown",
     "metadata": {},
     "source": [
      "From the histogram, we see that years before 2005 had minimal data, so we filter out years earlier\n",
      "than 2005. We use the general_df_clean function that we created before, in it we have included a filter for screening datapoints from before 2005. A histogram of the cleaned data shows a nicer\n",
      "distribution of data across years, with thousands of entries for each year.\n"
     ]
    },
    {
     "cell_type": "code",
     "collapsed": false,
     "input": [
      "general_df = general_df_clean(thaw_general_csv())\n",
      "\n",
      "year_hist(general_df)"
     ],
     "language": "python",
     "metadata": {},
     "outputs": [
      {
       "metadata": {},
       "output_type": "display_data",
       "png": "iVBORw0KGgoAAAANSUhEUgAAAo0AAAGVCAYAAACbwMsmAAAABHNCSVQICAgIfAhkiAAAAAlwSFlz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\nRK5CYII=\n",
       "text": [
        "<matplotlib.figure.Figure at 0xa322d68>"
       ]
      }
     ],
     "prompt_number": 32
    },
    {
     "cell_type": "heading",
     "level": 2,
     "metadata": {},
     "source": [
      "3.2 How many places are the travellers going to?"
<<<<<<< HEAD
=======
     ]
    },
    {
     "cell_type": "markdown",
     "metadata": {},
     "source": [
      "(TODO: change this analysis to use the geneal_df structure)"
>>>>>>> 44364df2074fbb28dc7227ff3da273440b0714c2
     ]
    },
    {
     "cell_type": "markdown",
     "metadata": {},
     "source": [
<<<<<<< HEAD
      "(TODO: change this analysis to use the geneal_df structure)"
     ]
=======
      "Some miscellaneous functions"
     ]
    },
    {
     "cell_type": "code",
     "collapsed": false,
     "input": [
      "#misc functions to help with getting and processing of the data\n",
      "months = {'January': 1,'February': 2,'March': 3,'April': 4, 'May': 5 , 'June' : 6, 'July':7, 'August':8, 'September': 9, 'October':10, 'November':11, 'December' : 12 }\n",
      "\n",
      "def get_date(string):\n",
      "    parts = string.split()\n",
      "    month = int(months[parts[0]])\n",
      "    year = int(parts[2])\n",
      "    day = int(parts[1][:-2])\n",
      "    return datetime.datetime(year,month,day)\n",
      "\n",
      "def between_quotes(string):\n",
      "    value = string.find(\"'\")\n",
      "    if value == -1:\n",
      "        return string\n",
      "    value2 = string[value+1:].find(\"'\")\n",
      "    test = string[0:value+1]\n",
      "    a = len(test)\n",
      "    return string[value+1:value2+a]\n",
      "\n",
      "def get_city(location_path):\n",
      "    parts  = location_path.split(',')\n",
      "    if len(parts) < 4:\n",
      "        return None,None\n",
      "    else:\n",
      "        return between_quotes(parts[3]), between_quotes(parts[2])\n",
      "\n"
     ],
     "language": "python",
     "metadata": {},
     "outputs": [],
     "prompt_number": 33
    },
    {
     "cell_type": "code",
     "collapsed": false,
     "input": [
      "#get the data and process\n",
      "def get_data(filename):\n",
      "    f = open(filename, 'r')\n",
      "    f.readline() #read the header line\n",
      "    data = [line.strip() for line in f.readlines()]\n",
      "    f.close()\n",
      "    return data\n"
     ],
     "language": "python",
     "metadata": {},
     "outputs": [],
     "prompt_number": 34
>>>>>>> 44364df2074fbb28dc7227ff3da273440b0714c2
    },
    {
     "cell_type": "code",
     "collapsed": false,
     "input": [
      "#get usa data file\n",
      "usa_data = get_data(\"Travel_Blogs_USA_all.csv\")\n",
      "#mexico_data = get_data(\"Travel_Blogs_from_summaries_Mexico_all.csv\")\n",
      "print len(usa_data)"
     ],
     "language": "python",
     "metadata": {},
<<<<<<< HEAD
     "source": [
      "Some miscellaneous functions"
     ]
=======
     "outputs": [
      {
       "output_type": "stream",
       "stream": "stdout",
       "text": [
        "53217\n"
       ]
      }
     ],
     "prompt_number": 35
>>>>>>> 44364df2074fbb28dc7227ff3da273440b0714c2
    },
    {
     "cell_type": "code",
     "collapsed": false,
     "input": [
<<<<<<< HEAD
      "#misc functions to help with getting and processing of the data\n",
      "months = {'January': 1,'February': 2,'March': 3,'April': 4, 'May': 5 , 'June' : 6, 'July':7, 'August':8, 'September': 9, 'October':10, 'November':11, 'December' : 12 }\n",
      "\n",
      "def get_date(string):\n",
      "    parts = string.split()\n",
      "    month = int(months[parts[0]])\n",
      "    year = int(parts[2])\n",
      "    day = int(parts[1][:-2])\n",
      "    return datetime.datetime(year,month,day)\n",
      "\n",
      "def between_quotes(string):\n",
      "    value = string.find(\"'\")\n",
      "    if value == -1:\n",
      "        return string\n",
      "    value2 = string[value+1:].find(\"'\")\n",
      "    test = string[0:value+1]\n",
      "    a = len(test)\n",
      "    return string[value+1:value2+a]\n",
      "\n",
      "def get_city(location_path):\n",
      "    parts  = location_path.split(',')\n",
      "    if len(parts) < 4:\n",
      "        return None,None\n",
      "    else:\n",
      "        return between_quotes(parts[3]), between_quotes(parts[2])\n",
      "\n"
     ],
     "language": "python",
     "metadata": {},
     "outputs": []
=======
      "#This is me(Julius) using pandas, I am eventually going to change most of the \n",
      "#data analysis to the pandas equivalent, but this is incomplete for now. \n",
      "df = pd.read_csv('Travel_Blogs_USA_all.csv')\n",
      "df.head()"
     ],
     "language": "python",
     "metadata": {},
     "outputs": [
      {
       "html": [
        "<div style=\"max-height:1000px;max-width:1500px;overflow:auto;\">\n",
        "<table border=\"1\" class=\"dataframe\">\n",
        "  <thead>\n",
        "    <tr style=\"text-align: right;\">\n",
        "      <th></th>\n",
        "      <th>location_path</th>\n",
        "      <th>publication_date</th>\n",
        "      <th>number</th>\n",
        "      <th>blog_date</th>\n",
        "      <th>blogger</th>\n",
        "    </tr>\n",
        "  </thead>\n",
        "  <tbody>\n",
        "    <tr>\n",
        "      <th>0</th>\n",
        "      <td> [u'North-America', u'United-States', u'Arizona...</td>\n",
        "      <td>  November 3rd 2013</td>\n",
        "      <td> 814203</td>\n",
        "      <td> November 22nd 2013</td>\n",
        "      <td>         jdkinley</td>\n",
        "    </tr>\n",
        "    <tr>\n",
        "      <th>1</th>\n",
        "      <td> [u'North-America', u'United-States', u'Califor...</td>\n",
        "      <td> November 21st 2013</td>\n",
        "      <td> 816432</td>\n",
        "      <td> November 21st 2013</td>\n",
        "      <td>     travelicious</td>\n",
        "    </tr>\n",
        "    <tr>\n",
        "      <th>2</th>\n",
        "      <td> [u'North-America', u'United-States', u'Alabama...</td>\n",
        "      <td> November 21st 2013</td>\n",
        "      <td> 816499</td>\n",
        "      <td> November 21st 2013</td>\n",
        "      <td>      GregandJoan</td>\n",
        "    </tr>\n",
        "    <tr>\n",
        "      <th>3</th>\n",
        "      <td> [u'North-America', u'United-States', u'Califor...</td>\n",
        "      <td> November 20th 2013</td>\n",
        "      <td> 816392</td>\n",
        "      <td> November 20th 2013</td>\n",
        "      <td>     travelsurfer</td>\n",
        "    </tr>\n",
        "    <tr>\n",
        "      <th>4</th>\n",
        "      <td> [u'North-America', u'United-States', u'Hawaii'...</td>\n",
        "      <td> November 21st 2013</td>\n",
        "      <td> 816462</td>\n",
        "      <td> November 20th 2013</td>\n",
        "      <td> chandleygjackson</td>\n",
        "    </tr>\n",
        "  </tbody>\n",
        "</table>\n",
        "</div>"
       ],
       "metadata": {},
       "output_type": "pyout",
       "prompt_number": 36,
       "text": [
        "                                       location_path    publication_date  \\\n",
        "0  [u'North-America', u'United-States', u'Arizona...   November 3rd 2013   \n",
        "1  [u'North-America', u'United-States', u'Califor...  November 21st 2013   \n",
        "2  [u'North-America', u'United-States', u'Alabama...  November 21st 2013   \n",
        "3  [u'North-America', u'United-States', u'Califor...  November 20th 2013   \n",
        "4  [u'North-America', u'United-States', u'Hawaii'...  November 21st 2013   \n",
        "\n",
        "   number           blog_date           blogger  \n",
        "0  814203  November 22nd 2013          jdkinley  \n",
        "1  816432  November 21st 2013      travelicious  \n",
        "2  816499  November 21st 2013       GregandJoan  \n",
        "3  816392  November 20th 2013      travelsurfer  \n",
        "4  816462  November 20th 2013  chandleygjackson  "
       ]
      }
     ],
     "prompt_number": 36
    },
    {
     "cell_type": "markdown",
     "metadata": {},
     "source": [
      "### Data Structure Description\n",
      "\n",
      "To store the data, I am using the following a dictionary. \n",
      "\n",
      "From looking at the data, we see that the user ids are unique, so I figure a dictionary indexed by user ids would be a good way to go. \n",
      "\n",
      "They dicitonary is structured in the following manner:\n",
      "\n",
      "blogger_id : list of trips\n",
      "\n",
      "list of trips is a python list that has a tuple of city name, city state, and visitation date. \n",
      "\n",
      "Since we are not doing anything with the longitude and lattitude right now, I decided not to include that. \n",
      "\n",
      "The dataset is also small enough that we can run multiple analysis on the it without any problem. \n",
      "\n",
      "To Recap:\n",
      "\n",
      "key ---> value\n",
      "blogger_id ---> list of trips\n",
      "\n",
      "list of trips = [a, b, c, ...]\n",
      "\n",
      "where a = tuple(city_name, city_state, time of visitation)\n",
      "\n",
      "This way I belive we can sort the list of trips based on time and we have the particular path of a traveller, which is what we would use in the next part of our analysis. "
     ]
>>>>>>> 44364df2074fbb28dc7227ff3da273440b0714c2
    },
    {
     "cell_type": "code",
     "collapsed": false,
<<<<<<< HEAD
     "input": [
      "#get the data and process\n",
      "def get_data(filename):\n",
      "    f = open(filename, 'r')\n",
      "    f.readline() #read the header line\n",
      "    data = [line.strip() for line in f.readlines()]\n",
      "    f.close()\n",
      "    return data\n"
     ],
     "language": "python",
     "metadata": {},
     "outputs": []
=======
     "input": [],
     "language": "python",
     "metadata": {},
     "outputs": [],
     "prompt_number": 36
>>>>>>> 44364df2074fbb28dc7227ff3da273440b0714c2
    },
    {
     "cell_type": "code",
     "collapsed": false,
     "input": [
      "#get usa data file\n",
      "usa_data = get_data(\"Travel_Blogs_USA_all.csv\")\n",
      "#mexico_data = get_data(\"Travel_Blogs_from_summaries_Mexico_all.csv\")\n",
      "print len(usa_data)"
     ],
     "language": "python",
     "metadata": {},
<<<<<<< HEAD
     "outputs": []
=======
     "source": [
      "Right now, in order to make Julius' code run one has to rerun the cell with all the imports at the beginning of the notebook before running Julius' code"
     ]
>>>>>>> 44364df2074fbb28dc7227ff3da273440b0714c2
    },
    {
     "cell_type": "code",
     "collapsed": false,
     "input": [
<<<<<<< HEAD
      "df = pd.read_csv('Travel_Blogs_USA_all.csv')\n",
      "df.head()"
     ],
     "language": "python",
     "metadata": {},
     "outputs": []
=======
      "#process the data to generate the datastructure described in earlier\n",
      "\n",
      "def structure_data(data):\n",
      "    \n",
      "    structured_data = {}\n",
      "    \n",
      "    #this is to keep track of blog post number\n",
      "    #to avoid duplicates.\n",
      "    post_number = set()\n",
      "    \n",
      "    for i in xrange(len(data)):\n",
      "        line = data[i]\n",
      "        path = line[2:line.find(']')] #this gets the particular location visited\n",
      "        rest = line[line.find(']')+3:] #gets the remaining information, i.e. blog date, publication date, user id\n",
      "    \n",
      "        rem = rest.split(',') #get the different fields\n",
      "        \n",
      "        blog_entry_number = rem[1] #unique id for each blog entry\n",
      "        \n",
      "        #checks for duplicate records\n",
      "        if blog_entry_number in post_number:\n",
      "            continue #this is a duplicate, continue to the next line\n",
      "        \n",
      "        post_number.add(blog_entry_number) #keep track of the different blog post numbers\n",
      "        \n",
      "        visit_date = get_date(rem[2]) #parse the date and convert it python form using a function above\n",
      "        blogger_id = rem[3]  #get the unique blogger id\n",
      "        \n",
      "        #get city and state\n",
      "        visit_city , visit_state = get_city(path)\n",
      "        \n",
      "        #if data doesnt have city or state, then discard\n",
      "        if (visit_city == None) or (visit_state == None):\n",
      "            continue\n",
      "            \n",
      "        #check if user info has been added, if not initialize\n",
      "        if blogger_id not in structured_data.keys():\n",
      "            structured_data[blogger_id] = []\n",
      "\n",
      "        #add visit info, note, the same city can have multiple entries\n",
      "        #because users can return to the same city, dates would be\n",
      "        #different\n",
      "        city_state_time = (visit_city,visit_state,visit_date)\n",
      "        structured_data[blogger_id].append(city_state_time)\n",
      "        \n",
      "    return structured_data\n"
     ],
     "language": "python",
     "metadata": {},
     "outputs": [],
     "prompt_number": 37
>>>>>>> 44364df2074fbb28dc7227ff3da273440b0714c2
    },
    {
     "cell_type": "code",
     "collapsed": false,
     "input": [
      "#let's get the data structure for the usa data set\n",
      "usa = structure_data(usa_data)"
     ],
     "language": "python",
     "metadata": {},
<<<<<<< HEAD
     "source": [
      "#### Begin Network Centric Exploration.\n",
      "\n",
      "For this section, we perform additional exploratory analysis based on the data we have. As indicated, in class, the goal of such exploratory analysis is to further help in developing adequate models. \n",
      "\n",
      "For this section, we describe the structure of the data in the following manner:\n",
      "\n",
      "\n",
      "From looking at the data, we see that the user ids are unique, so we store each user foot prints in a dictionary indexed  by the user id. \n",
      "\n",
      "They dicitonary is structured in the following manner:\n",
      "\n",
      "user_id : list of trips\n",
      "\n",
      "list of trips is a python list that has a tuple of city name, city state, and visitation date. \n",
      "\n",
      "We focus on a network centric exploration in this phase. \n",
      "To Recap:\n",
      "\n",
      "key ---> value\n",
      "blogger_id ---> list of trips\n",
      "\n",
      "list of trips = [a, b, c, ...]\n",
      "\n",
      "where a  = tuple(city_name, city_state, time of visitation)"
     ]
=======
     "outputs": [],
     "prompt_number": 38
>>>>>>> 44364df2074fbb28dc7227ff3da273440b0714c2
    },
    {
     "cell_type": "code",
     "collapsed": false,
<<<<<<< HEAD
     "input": [],
=======
     "input": [
      "print \"There are \" + str(len(usa)) + \" unique travellers in the USA dataset\""
     ],
>>>>>>> 44364df2074fbb28dc7227ff3da273440b0714c2
     "language": "python",
     "metadata": {},
     "outputs": [
      {
       "output_type": "stream",
       "stream": "stdout",
       "text": [
        "There are 7808 unique travellers in the USA dataset\n"
       ]
      }
     ],
     "prompt_number": 39
    },
    {
<<<<<<< HEAD
     "cell_type": "code",
     "collapsed": false,
     "input": [
      "#Here we build the datastructure described above to facilitate network centric\n",
      "#exploration. \n",
      "\n",
      "geo_cities = set()\n",
      "\n",
      "def structure_data(data):\n",
      "    \n",
      "    structured_data = {}\n",
      "    \n",
      "    #this is to keep track of blog post number\n",
      "    #to avoid duplicates.\n",
      "    post_number = set()\n",
      "    \n",
      "    for i in xrange(len(data)):\n",
      "        line = data[i]\n",
      "        \n",
      "        #check to make sure it is not an empty line\n",
      "        if line == '':\n",
      "            continue\n",
      "            \n",
      "        path = line[2:line.find(']')] #this gets the particular location visited\n",
      "        rest = line[line.find(']')+3:] #gets the remaining information, i.e. blog date, publication date, user id\n",
      "    \n",
      "        #check to make sure it has the information we need. \n",
      "        if path == '' or rest == '':\n",
      "            continue\n",
      "\n",
      "        rem = rest.split(',') #get the different fields\n",
      "        \n",
      "        #check that the data has the right number of fields. \n",
      "        if len(rem) < 4:\n",
      "            continue\n",
      "    \n",
      "        blog_entry_number = rem[1] #unique id for each blog entry\n",
      "        \n",
      "        #checks for duplicate records\n",
      "        if blog_entry_number in post_number:\n",
      "            continue #this is a duplicate, continue to the next line\n",
      "        \n",
      "        post_number.add(blog_entry_number) #keep track of the different blog post numbers\n",
      "        \n",
      "        visit_date = get_date(rem[2]) #parse the date and convert it python form using a function above\n",
      "        blogger_id = rem[3]  #get the unique blogger id\n",
      "        \n",
      "        #get city and state\n",
      "        visit_city , visit_state = get_city(path)\n",
      "        \n",
      "        #if data doesnt have city or state, then discard\n",
      "        if (visit_city == None) or (visit_state == None):\n",
      "            continue\n",
      "            \n",
      "        #check if user info has been added, if not initialize\n",
      "        if blogger_id not in structured_data.keys():\n",
      "            structured_data[blogger_id] = []\n",
      "\n",
      "        #add visit info, note, the same city can have multiple entries\n",
      "        #because users can return to the same city, dates would be\n",
      "        #different, here we also add the state name to the city name because \n",
      "        #there are cities with the same name across multiple states. \n",
      "        city_parameter = visit_city + ', ' + visit_state\n",
      "        geo_cities.add(city_parameter)\n",
      "        city_state_time = (visit_city,visit_state,visit_date)\n",
      "        structured_data[blogger_id].append(city_state_time)\n",
      "        \n",
      "    return structured_data\n"
     ],
     "language": "python",
     "metadata": {},
     "outputs": []
    },
    {
     "cell_type": "code",
     "collapsed": false,
     "input": [
      "#get the data structure for the usa data set\n",
      "usa = structure_data(usa_data)"
     ],
     "language": "python",
     "metadata": {},
     "outputs": []
    },
    {
     "cell_type": "code",
     "collapsed": false,
     "input": [
      "print \"There are \" + str(len(usa)) + \" unique travellers in the USA dataset\""
     ],
     "language": "python",
     "metadata": {},
     "outputs": []
    },
    {
=======
>>>>>>> 44364df2074fbb28dc7227ff3da273440b0714c2
     "cell_type": "markdown",
     "metadata": {},
     "source": [
      "We will use the usa variable below in the section \"How many places are the travellers going to?\".  First we look at some exploration of the combined TravelBlogs data, with some early modeling\n",
      "discussion."
     ]
    },
    {
     "cell_type": "heading",
     "level": 2,
     "metadata": {},
     "source": [
      "How many places are the travellers going to?"
     ]
    },
    {
     "cell_type": "markdown",
     "metadata": {},
     "source": [
      "We start to visualize the data in some ways that will help us gain some intuition into questions of\n",
      "who's going where."
     ]
    },
    {
     "cell_type": "code",
     "collapsed": false,
     "input": [
      "city_visit_freq = {}\n",
      "no_of_unique_places_visited_per_user = []\n",
      "no_of_trips_made_per_user = []  #can have same city multiple times\n",
      "\n",
      "list_of_visited_city_set_for_each_user = [] #used to create edges among users\n",
      "\n",
      "#do histogram for city\n",
      "#how travellers are going to a particular city\n",
      "\n",
      "for person in usa.keys():\n",
      "    places = usa[person]\n",
      "    each_user_set = set()\n",
      "    \n",
      "    for place in places:\n",
      "        city_state_id = place[0] + \", \" + place[1]\n",
      "        each_user_set.add(city_state_id)\n",
      "    \n",
      "    list_of_visited_city_set_for_each_user.append(each_user_set)\n",
      "    no_of_unique_places_visited_per_user.append(len(each_user_set))\n",
      "    no_of_trips_made_per_user.append(len(places))\n",
      "    \n",
      "    #do frequency count for each city\n",
      "    for a in each_user_set:\n",
      "        if a in city_visit_freq.keys():\n",
      "            city_visit_freq[a] += 1\n",
      "        else:\n",
      "            city_visit_freq[a] = 1\n"
     ],
     "language": "python",
     "metadata": {},
     "outputs": [],
     "prompt_number": 40
    },
    {
     "cell_type": "code",
     "collapsed": false,
     "input": [
      "plt.xlabel('Number of Unique Cities Visited')\n",
      "plt.ylabel('Frequency')\n",
      "plt.title('Histogram of the number of unique cities visited per user')\n",
      "plt.grid(True)\n",
      "plt.axis([0, 50, 0, 6500])\n",
      "array = np.array(no_of_unique_places_visited_per_user)\n",
      "plt.hist(no_of_unique_places_visited_per_user, bins=len(np.unique(no_of_unique_places_visited_per_user)), facecolor='g', label='Dist Freshness')\n",
      "plt.show()\n",
      "\n",
      "print 'total number of \"trips\"/footprints (not counting repeated cities by traveler) '+str(sum(array))\n",
      "counts = np.bincount(array)\n",
      "print 'total number of travelers with three or more unique cities '+ str(sum(counts[3:]))+' out of ' + str(sum(counts))\n",
      "s=0\n",
      "for i in range(len(counts)):\n",
      "   if i >= 3:\n",
      "        s= s+ (i*counts[i]) \n",
      "moreThanN = array[array >= 3]\n",
      "# moreThanN = moreThanN[moreThanN <= 16]\n",
      "print 'total number of footprints in unique cities from travelers with more than 3 unique cities: ' + str(s)+ ' out of '+ str(sum(no_of_unique_places_visited_per_user))\n",
      "print 'Mean number of unique cities visited by travelers with 3 or more cities visited: ' + str(np.mean(moreThanN))"
     ],
     "language": "python",
     "metadata": {},
     "outputs": [
      {
       "metadata": {},
       "output_type": "display_data",
       "png": "iVBORw0KGgoAAAANSUhEUgAAAn0AAAGVCAYAAACLjEe/AAAABHNCSVQICAgIfAhkiAAAAAlwSFlz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\nIiIiIjPAoo+IiIjIDLDoIyIiIjID/wPsCJurnV1M8gAAAABJRU5ErkJggg==\n",
       "text": [
        "<matplotlib.figure.Figure at 0xf7d2198>"
       ]
      },
      {
       "output_type": "stream",
       "stream": "stdout",
       "text": [
        "total number of \"trips\"/footprints (not counting repeated cities by traveler) 24990\n",
        "total number of travelers with three or more unique cities 2234 out of 7808\n",
        "total number of footprints in unique cities from travelers with more than 3 unique cities: 18212 out of 24990\n",
        "Mean number of unique cities visited by travelers with 3 or more cities visited: 8.15219337511\n"
       ]
      }
     ],
     "prompt_number": 41
    },
    {
     "cell_type": "markdown",
     "metadata": {},
     "source": [
      "The histogram above shows that travelers from our dataset mostly visit less than 10 cities. In particular, 72% percent of these travelers visit 1-2 cities.\n",
      "\n",
      "73% of traveler footprints in our dataset belong to travelers that visited 3 or more unique cities."
     ]
    },
    {
     "cell_type": "code",
     "collapsed": false,
     "input": [
      "plt.xlabel('Total Number of Trips made')\n",
      "plt.ylabel('Frequency')\n",
      "plt.title('Histogram of the total number of trips made per user')\n",
      "plt.grid(True)\n",
      "plt.axis([0, 60, 0, 6000])\n",
      "array = np.array(no_of_trips_made_per_user)\n",
      "plt.hist(no_of_trips_made_per_user, bins=len(np.unique(no_of_trips_made_per_user)), facecolor='g', label='Trips')\n",
      "plt.show()\n",
      "\n",
      "print 'total number of travelers with three or more footprints '+ str(sum(counts[3:]))+ ' out of '+str(sum(counts))\n",
      "print 'total number of \"trips\"/footprints '+str(sum(array))\n",
      "counts = np.bincount(array)\n",
      "s=0\n",
      "for i in range(len(counts)):\n",
      "   if i >= 3:\n",
      "        s= s+ (i*counts[i]) \n",
      "moreThanN = array[array >= 3]\n",
      "print 'total number of footprints from travelers with more than 3 footprints: ' + str(s)+ ' of '+ str(sum(array))\n",
      "print 'Mean number of footprints by travelers with 3 or more footprints: ' + str(np.mean(moreThanN))"
     ],
     "language": "python",
     "metadata": {},
     "outputs": [
      {
       "metadata": {},
       "output_type": "display_data",
       "png": "iVBORw0KGgoAAAANSUhEUgAAAn0AAAGVCAYAAACLjEe/AAAABHNCSVQICAgIfAhkiAAAAAlwSFlz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\nld0AAAAASUVORK5CYII=\n",
       "text": [
        "<matplotlib.figure.Figure at 0xf7e12e8>"
       ]
      },
      {
       "output_type": "stream",
       "stream": "stdout",
       "text": [
        "total number of travelers with three or more footprints 2234 out of 7808\n",
        "total number of \"trips\"/footprints 38984\n",
        "total number of footprints from travelers with more than 3 footprints: 33045 of 38984\n",
        "Mean number of footprints by travelers with 3 or more footprints: 10.4871469375\n"
       ]
      }
     ],
     "prompt_number": 42
    },
    {
     "cell_type": "markdown",
     "metadata": {},
     "source": [
      "Both histograms show similar characteristics. \n",
      "\n",
      "We notice though that a small subset of users seem to make multiple trips to the same places. "
     ]
    },
    {
     "cell_type": "heading",
     "level": 2,
     "metadata": {},
     "source": [
      "3.3 Destination Rankings by Popularity"
     ]
    },
    {
     "cell_type": "markdown",
     "metadata": {},
     "source": [
      "let's look at the most and least visited cities in our data set"
     ]
    },
    {
     "cell_type": "code",
     "collapsed": false,
     "input": [
      "print \"There are \" + str(len(city_visit_freq)) + \" unique cities in the data set\""
     ],
     "language": "python",
     "metadata": {},
     "outputs": [
      {
       "output_type": "stream",
       "stream": "stdout",
       "text": [
        "There are 2608 unique cities in the data set\n"
       ]
      }
     ],
     "prompt_number": 43
    },
    {
     "cell_type": "heading",
     "level": 3,
     "metadata": {},
     "source": [
      "Top 40 Cities visited in the US data Set"
     ]
    },
    {
     "cell_type": "code",
     "collapsed": false,
     "input": [
      "d = sorted(city_visit_freq.iteritems(), key=operator.itemgetter(1))\n",
      "values = []\n",
      "labels = []\n",
      "new_d = []\n",
      "a = len(d)-1\n",
      "for i in range(40):\n",
      "    new_d.append(d[a])\n",
      "    a = a-1\n",
      "for a in new_d:\n",
      "    values.append(a[1])\n",
      "    labels.append(a[0])\n",
      "rcParams['figure.figsize'] = (18,6)\n",
      "ax = plt.gca()\n",
      "ax.tick_params(axis='x', colors = 'blue')\n",
      "ax.tick_params(axis='y', colors = 'red')\n",
      "s = pd.Series(values, index = labels)\n",
      "pd.Series.plot(s, kind='bar')\n",
      "\n",
      "#Set descriptions:\n",
      "plt.title(\"City-Frequency Distribution\")\n",
      "plt.ylabel('No. of Users that have visited ')    \n",
      "plt.xlabel('Cities')\n",
      "plt.show()"
     ],
     "language": "python",
     "metadata": {},
     "outputs": [
      {
       "metadata": {},
       "output_type": "display_data",
       "png": "iVBORw0KGgoAAAANSUhEUgAABDIAAAJNCAYAAADDDVUOAAAABHNCSVQICAgIfAhkiAAAAAlwSFlz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\niIiIiIiIiDiGAhkiIiIiIiIi4hj/D1FsBKDIq6/aAAAAAElFTkSuQmCC\n",
       "text": [
        "<matplotlib.figure.Figure at 0xf8358d0>"
       ]
      }
     ],
     "prompt_number": 44
    },
    {
     "cell_type": "heading",
     "level": 3,
     "metadata": {},
     "source": [
      "Bottom 70 Cities visited in the US data Set"
     ]
    },
    {
     "cell_type": "code",
     "collapsed": false,
     "input": [
      "d = sorted(city_visit_freq.iteritems(), key=operator.itemgetter(1))\n",
      "values = []\n",
      "labels = []\n",
      "new_d = []\n",
      "for i in range(70):\n",
      "    new_d.append(d[i])\n",
      "for a in new_d:\n",
      "    values.append(a[1])\n",
      "    labels.append(a[0])\n",
      "rcParams['figure.figsize'] = (18,6)\n",
      "ax = plt.gca()\n",
      "ax.tick_params(axis='x', colors = 'blue')\n",
      "ax.tick_params(axis='y', colors = 'red')\n",
      "s = pd.Series(values, index = labels)\n",
      "pd.Series.plot(s, kind='bar')\n",
      "plt.title(\"City-Frequency Distribution\")\n",
      "plt.ylabel('No of Users that have visited ')    \n",
      "plt.xlabel('Cities')\n",
      "plt.show()"
     ],
     "language": "python",
     "metadata": {},
     "outputs": [
      {
       "metadata": {},
       "output_type": "display_data",
       "png": "iVBORw0KGgoAAAANSUhEUgAABCYAAAIhCAYAAACSfru9AAAABHNCSVQICAgIfAhkiAAAAAlwSFlz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\n",
       "text": [
        "<matplotlib.figure.Figure at 0xf835d68>"
       ]
      }
     ],
     "prompt_number": 45
    },
    {
     "cell_type": "markdown",
     "metadata": {},
     "source": [
      "The bar chart above looks interesting because it consists of those cities that were only visited by one traveller in the entire travelblog dataset obtained.  \n",
      "\n",
      "This means that these cities wouldnot be connected to any other city in the city by city network of tourist flows.  "
     ]
    },
    {
     "cell_type": "code",
     "collapsed": false,
     "input": [
      "d = sorted(city_visit_freq.iteritems(), key=operator.itemgetter(1))\n",
      "freq = []\n",
      "for a in d:\n",
      "    freq.append(a[1])\n",
      "plt.xlabel('Number of Cities')\n",
      "plt.ylabel('How many travellers are visiting the city')\n",
      "plt.title('Histogram of city visitation distribution')\n",
      "plt.grid(True)\n",
      "plt.axis([0, 500, 0, 3000])\n",
      "array = np.array(freq)\n",
      "plt.hist(array, bins=len(np.unique(array)), facecolor='g', label='City Visitation')\n",
      "plt.show()\n",
      "counts = np.bincount(array)\n",
      "counts[0:10]"
     ],
     "language": "python",
     "metadata": {},
     "outputs": [
      {
       "metadata": {},
       "output_type": "display_data",
       "png": "iVBORw0KGgoAAAANSUhEUgAABD8AAAGVCAYAAAD5dlphAAAABHNCSVQICAgIfAhkiAAAAAlwSFlz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\nRK5CYII=\n",
       "text": [
        "<matplotlib.figure.Figure at 0x10bd71d0>"
       ]
      }
     ],
     "prompt_number": 46
    },
    {
     "cell_type": "markdown",
     "metadata": {},
     "source": []
    },
    {
     "cell_type": "heading",
     "level": 1,
     "metadata": {},
     "source": [
      "4. Network Analysis"
     ]
    },
    {
     "cell_type": "markdown",
     "metadata": {},
     "source": [
      "A city-by-city network of tourist flows in this dataset gives us an opportunity to by quantitative network-based analysis of the relative importance of different cities through a computation of different measures that capture various properties about the network developed. \n",
      "\n",
      "In addition, through centrality measures, we hope to better understand the relative importance of the different cities in our dataset. \n",
      "\n",
      "Finally, a cluster analysis of the network enables us to potentially segment the cities in groups helping to perhaps explain certain tourist patterns observed. For example, cities with high betweenness centrality in this dataset indicate that they are brigde locations across multiple cities. A clustering of the network can also present peculiarities about the nature of the cities themselves. \n",
      "\n",
      "Through an initial explore of various metrics on the network, we hope to better improve our predictions of a traveller future mobility trace. \n",
      "\n"
     ]
    },
    {
     "cell_type": "heading",
     "level": 2,
     "metadata": {},
     "source": [
      "4.1 Generating the Network"
     ]
    },
    {
     "cell_type": "markdown",
     "metadata": {},
     "source": [
      "To build the initial network of tourist flows, we add an edge between two cities if a user as visited both cities. As we go along, we update the weights of edges across multiple cities if they share more users. \n"
     ]
    },
    {
     "cell_type": "code",
     "collapsed": false,
     "input": [
      "#obtain longitude and latitude information for the node attributes\n",
      "#move this up into data manipulation eventually. \n",
      "infile_coord = open(\"Cities_lat_long_full_dataset\", \"r\")\n",
      "infile_coord.readline() #read the header line\n",
      "\n",
      "#build a dictionary of cities and the corresponding latitude and longitude. \n",
      "raw_lat_lon = [line.strip().split(';') for line in infile_coord.readlines()]\n",
      "city_latitude_longitude = {}\n",
      "for a in raw_lat_lon:\n",
      "    city_latitude_longitude[a[0]] = {}\n",
      "    city_latitude_longitude[a[0]]['lat'] = a[1]\n",
      "    city_latitude_longitude[a[0]]['lng'] = a[2]\n"
     ],
     "language": "python",
     "metadata": {},
     "outputs": []
    },
    {
     "cell_type": "code",
     "collapsed": false,
     "input": [
      "#create a network\n",
      "G = nx.Graph()\n",
      "\n",
      "#add all the cities/nodes to the network\n",
      "for user in usa.keys():\n",
      "    #get list of places visited for each user\n",
      "    places = usa[user]\n",
      "    #go through the list and add all the cities\n",
      "    #duplicates don't matter because networkx uses a set to store this information\n",
      "    for place in places:\n",
      "        nodeid = place[0] + ', ' + place[1] #combine the city and state name to avoid cities with similar names across states\n",
      "        G.add_node(nodeid, city = place[0], latitude = float(city_latitude_longitude[nodeid]['lat']), longitude = float(city_latitude_longitude[nodeid]['lng']), state = place[1]) \n",
      "                                               #for differentiate same name cities in different states\n",
      "#add the edges to the network\n",
      "#similar algo to the one used in class\n",
      "#Go through the set of cities a user as visited and add edges among these cities\n",
      "#updating the weights as needed\n",
      "for a in list_of_visited_city_set_for_each_user:\n",
      "    lcity = list(a)\n",
      "    edges_to_add = list(itertools.combinations(lcity,2))\n",
      "    for u in edges_to_add:\n",
      "        #check if the edges exists already and increment weight\n",
      "        if u[1] in G.neighbors(u[0]):\n",
      "            G[u[0]][u[1]]['weight'] = G[u[0]][u[1]]['weight'] + 1\n",
      "            G[u[0]][u[1]]['difference'] = 1.0/float(G[u[0]][u[1]]['weight']) #the more edges two cities have the more alike they are\n",
      "        else:\n",
      "            G.add_edge(u[0], u[1], weight = 1.0, difference = 1.0)\n"
     ],
     "language": "python",
     "metadata": {},
     "outputs": []
    },
    {
     "cell_type": "code",
     "collapsed": false,
     "input": [
      "print \"There are \" + str(len(G.nodes())) + \" nodes/cities in the network. \""
     ],
     "language": "python",
     "metadata": {},
     "outputs": []
    },
    {
     "cell_type": "markdown",
     "metadata": {},
     "source": [
      "As with any network, a degree rank plot would enable us visualize the way in which the degree of each node or city changes in the network. \n",
      "\n",
      "Let us look at the degree rank plot \n",
      "\n"
     ]
    },
    {
     "cell_type": "code",
     "collapsed": false,
     "input": [
      "degree_sequence=sorted(nx.degree(G).values(),reverse=True) # degree sequence\n",
      "#print \"Degree sequence\", degree_sequence\n",
      "dmax=max(degree_sequence)\n",
      "\n",
      "plt.loglog(degree_sequence,'b-',marker='o')\n",
      "plt.title(\"Degree rank plot\")\n",
      "plt.ylabel(\"degree\")\n",
      "plt.xlabel(\"rank\")\n"
     ],
     "language": "python",
     "metadata": {},
     "outputs": []
    },
    {
     "cell_type": "markdown",
     "metadata": {},
     "source": [
      "We see that the network has a few nodes with very high degrees and has a relatively signicant connected component which constitute most of the network. \n",
      "\n",
      "An Histogram of the result below also communicates the same story, i.e, few nodes with very high degrees and a significant portion of the nodes with low degrees in a 'power-law' like behavior. \n"
     ]
    },
    {
     "cell_type": "code",
     "collapsed": false,
     "input": [
      "plt.xlabel('Number of Cities')\n",
      "plt.ylabel('Degree')\n",
      "plt.title('Histogram of the number of cities with a particular degree')\n",
      "plt.grid(True)\n",
      "plt.axis([0, 1000, 0, 2500])\n",
      "array = np.array(degree_sequence)\n",
      "plt.hist(array)\n",
      "plt.show()"
     ],
     "language": "python",
     "metadata": {},
     "outputs": [],
     "prompt_number": 48
    },
    {
     "cell_type": "code",
     "collapsed": false,
     "input": [],
     "language": "python",
     "metadata": {},
     "outputs": []
    },
    {
     "cell_type": "code",
     "collapsed": false,
     "input": [],
     "language": "python",
     "metadata": {},
     "outputs": []
    },
    {
     "cell_type": "code",
     "collapsed": false,
     "input": [],
     "language": "python",
     "metadata": {},
     "outputs": []
    },
    {
     "cell_type": "heading",
     "level": 2,
     "metadata": {},
     "source": [
      "4.2 Network Visualization"
     ]
    },
    {
     "cell_type": "markdown",
     "metadata": {},
     "source": [
      " A critical component of a network based approach or even any data analysis approach is \n",
      " to find ways in which to visualize the data so as to better inform the development of \n",
      " models regarding the behaviour being studied. \n",
      "\n",
      "Given such approach we explore different network visualization software and approaches, \n",
      "so as to better understand our data. \n",
      "\n",
      "As shown in class, when the network size is bigger than 100, it starts to become difficult \n",
      "to visualize the network, particularly in networkx. Given this situation, we looked to other\n",
      "alternatives to visualize our networks. Here we present a visual exploration of the city-by-city\n",
      "network of tourist flows in Gephi, processing, and D3js. \n",
      "    "
     ]
    },
    {
     "cell_type": "code",
     "collapsed": false,
     "input": [
      "#let's preprocess the network and get it in gephi.  \n",
      "nx.write_gexf(G, 'Full_City_By_City_Network_With_All_Nodes.gexf')"
     ],
     "language": "python",
     "metadata": {},
     "outputs": []
    },
    {
     "cell_type": "code",
     "collapsed": false,
     "input": [
      "#let us now aggregate nodes with no edges\n",
      "print \"There are \" + str(len(G.nodes())) + \" Nodes in the network \"\n",
      "Nodes_With_No_Edges = []\n",
      "Nodes_With_No_Edges = []\n",
      "#remove all the nodes that have no edges\n",
      "for a in G.nodes():\n",
      "    if len(G.neighbors(a)) == 0:\n",
      "        G.remove_node(a)\n",
      "        Nodes_With_No_Edges.append(a)\n",
      "print \"There are \" +  str(len(Nodes_With_No_Edges))+ \" Nodes with no connections, leaving \" + str(len(G.nodes())) + \" Nodes.\""
     ],
     "language": "python",
     "metadata": {},
     "outputs": []
    },
    {
     "cell_type": "code",
     "collapsed": false,
     "input": [
      "#save a list of nodes with no edges\n",
      "out_file = open(\"List_of_Nodes_With_No_Connection\", \"w\")\n",
      "for a in Nodes_With_No_Edges:\n",
      "    out_file.write(a + \"\\n\")\n",
      "    \n",
      "#preprocess a gephi network with just the nodes that are connected to one another\n",
      "nx.write_gexf(G, 'Cities_Network_With_Only_Nodes_With_Edges.gexf')\n"
     ],
     "language": "python",
     "metadata": {},
     "outputs": []
    },
    {
     "cell_type": "heading",
     "level": 4,
     "metadata": {},
     "source": [
      "Analysis in Gephi"
     ]
    },
    {
     "cell_type": "markdown",
     "metadata": {},
     "source": [
      "As seen in class, gephi is a network exploratory and visualization tool. Gephi provides different layouts that can be applied to a network further giving it meaning. In our case, given the geo-spatial nature of the data, we can look at the distribution of nodes across on geo-spatial layout. \n",
      "\n",
      "The mixture of the network on a geo-spatial layout allows us to futher make sense of the network and see how the nodes are distributed across a particular area. "
     ]
    },
    {
     "cell_type": "code",
     "collapsed": false,
     "input": [
      "\n"
     ],
     "language": "python",
     "metadata": {},
     "outputs": []
    },
    {
     "cell_type": "code",
     "collapsed": false,
     "input": [],
     "language": "python",
     "metadata": {},
     "outputs": []
    },
    {
     "cell_type": "code",
     "collapsed": false,
     "input": [],
     "language": "python",
     "metadata": {},
     "outputs": []
    },
    {
     "cell_type": "markdown",
     "metadata": {},
     "source": []
    },
    {
     "cell_type": "heading",
     "level": 2,
     "metadata": {},
     "source": [
      "4.3 Network Analysis"
     ]
    },
    {
     "cell_type": "markdown",
     "metadata": {},
     "source": [
      "(brief description of the analysis to be performed)"
     ]
    },
    {
     "cell_type": "heading",
     "level": 3,
     "metadata": {},
     "source": [
      "4.3.1 Node Statistics and Rankings"
     ]
    },
    {
     "cell_type": "heading",
     "level": 3,
     "metadata": {},
     "source": [
      "Edge Weight as Indicator of Transportation Demand"
     ]
    },
    {
     "cell_type": "markdown",
     "metadata": {},
     "source": [
      "Edge weight in our network represents the connection of two touristic destinations in terms of the number of common travelers that visited them. Hence, a ranking of pairwise edges can serve as an adequate source of information for uncovering transportation demand among destinations. Such a ranking can then be campared with the existing transportation infrastructure as means to identifying transportation gaps, relevant to both policy makers and businesses in the touristic and transportation industries.\n",
      "\n",
      "In this section we will rank pairwise edges, but will restrict ourselves to those connecting destinations at __x__ or more kms of distance (we will need latitutde and longitude of destinations). We will screen in such a way with the purpose of using our ranking as proxy for traveler demand for direct flights connecting touristic destinations."
     ]
    },
    {
     "cell_type": "code",
     "collapsed": false,
     "input": [],
     "language": "python",
     "metadata": {},
     "outputs": [],
     "prompt_number": 48
    },
    {
     "cell_type": "code",
     "collapsed": false,
     "input": [],
     "language": "python",
     "metadata": {},
     "outputs": [],
     "prompt_number": 48
    },
    {
     "cell_type": "code",
     "collapsed": false,
     "input": [],
     "language": "python",
     "metadata": {},
     "outputs": [],
     "prompt_number": 48
    },
    {
     "cell_type": "heading",
     "level": 3,
     "metadata": {},
     "source": [
      "Pagerank Centrality of the City-by-City Network"
     ]
    },
    {
     "cell_type": "code",
     "collapsed": false,
     "input": [
      "#closeness centrality, pagerank, and degree.\n",
      "#(distribute this code over the different measures calculated?)\n",
      "\n",
      "close_centrality = nx.closeness_centrality(G, u=None, distance='difference', normalized=True)\n",
      "\n",
      "page_rank = nx.pagerank_numpy(G, alpha=0.85, personalization=None, weight='weight')\n",
      "\n",
      "degree = G.degree()\n"
     ],
     "language": "python",
     "metadata": {},
     "outputs": [],
     "prompt_number": 16
    },
    {
     "cell_type": "code",
     "collapsed": false,
     "input": [
      "print type(close_centrality)\n",
      "print type(page_rank)\n",
      "print type(degree)"
     ],
     "language": "python",
     "metadata": {},
     "outputs": [
      {
       "output_type": "stream",
       "stream": "stdout",
       "text": [
        "<type 'dict'>\n",
        "<type 'dict'>\n",
        "<type 'dict'>\n"
       ]
      }
     ],
     "prompt_number": 17
    },
    {
     "cell_type": "code",
     "collapsed": false,
     "input": [],
     "language": "python",
     "metadata": {},
     "outputs": [],
     "prompt_number": 17
    },
    {
     "cell_type": "code",
     "collapsed": false,
     "input": [
      "#parameters = dictionary, top, bottom\n",
      "def get_top_bottom_values(dictionary,top, bottom):\n",
      "    d = sorted(dictionary.iteritems(), key=operator.itemgetter(1))\n",
      "    values = []\n",
      "    labels = []\n",
      "    for a in d:\n",
      "        values.append(a[1])\n",
      "        labels.append(a[0])\n",
      "        \n",
      "    print len(values)\n",
      "    \n",
      "    top_values = []\n",
      "    top_labels = []\n",
      "    bot_values = []\n",
      "    bot_labels = []\n",
      "\n",
      "    #get the top values\n",
      "    a = len(values)-1\n",
      "    for i in xrange(top):\n",
      "        top_values.append(values[a])\n",
      "        top_labels.append(labels[a])\n",
      "        a = a-1\n",
      "        \n",
      "    #get the bottom values\n",
      "    for i in xrange(bottom):\n",
      "        bot_values.append(values[i])\n",
      "        bot_labels.append(labels[i])\n",
      "    \n",
      "    top = [top_values,top_labels]\n",
      "    bottom = [bot_values,bot_labels]\n",
      "    \n",
      "    return top, bottom\n",
      "    "
     ],
     "language": "python",
     "metadata": {},
     "outputs": [],
     "prompt_number": 18
    },
    {
     "cell_type": "code",
     "collapsed": false,
     "input": [],
     "language": "python",
     "metadata": {},
     "outputs": [],
     "prompt_number": 18
    },
    {
     "cell_type": "code",
     "collapsed": false,
     "input": [
      "t_pr, b_pr =  get_top_bottom_values(page_rank,40, 40)"
     ],
     "language": "python",
     "metadata": {},
     "outputs": [
      {
       "ename": "IndexError",
       "evalue": "list index out of range",
       "output_type": "pyerr",
       "traceback": [
        "\u001b[1;31m---------------------------------------------------------------------------\u001b[0m\n\u001b[1;31mIndexError\u001b[0m                                Traceback (most recent call last)",
        "\u001b[1;32m<ipython-input-19-53f0c4ddf203>\u001b[0m in \u001b[0;36m<module>\u001b[1;34m()\u001b[0m\n\u001b[1;32m----> 1\u001b[1;33m \u001b[0mt_pr\u001b[0m\u001b[1;33m,\u001b[0m \u001b[0mb_pr\u001b[0m \u001b[1;33m=\u001b[0m  \u001b[0mget_top_bottom_values\u001b[0m\u001b[1;33m(\u001b[0m\u001b[0mpage_rank\u001b[0m\u001b[1;33m,\u001b[0m\u001b[1;36m40\u001b[0m\u001b[1;33m,\u001b[0m \u001b[1;36m40\u001b[0m\u001b[1;33m)\u001b[0m\u001b[1;33m\u001b[0m\u001b[0m\n\u001b[0m",
        "\u001b[1;32m<ipython-input-18-c14f615cd1b5>\u001b[0m in \u001b[0;36mget_top_bottom_values\u001b[1;34m(dictionary, top, bottom)\u001b[0m\n\u001b[0;32m     18\u001b[0m     \u001b[0ma\u001b[0m \u001b[1;33m=\u001b[0m \u001b[0mlen\u001b[0m\u001b[1;33m(\u001b[0m\u001b[0mvalues\u001b[0m\u001b[1;33m)\u001b[0m\u001b[1;33m-\u001b[0m\u001b[1;36m1\u001b[0m\u001b[1;33m\u001b[0m\u001b[0m\n\u001b[0;32m     19\u001b[0m     \u001b[1;32mfor\u001b[0m \u001b[0mi\u001b[0m \u001b[1;32min\u001b[0m \u001b[0mxrange\u001b[0m\u001b[1;33m(\u001b[0m\u001b[0mtop\u001b[0m\u001b[1;33m)\u001b[0m\u001b[1;33m:\u001b[0m\u001b[1;33m\u001b[0m\u001b[0m\n\u001b[1;32m---> 20\u001b[1;33m         \u001b[0mtop_values\u001b[0m\u001b[1;33m.\u001b[0m\u001b[0mappend\u001b[0m\u001b[1;33m(\u001b[0m\u001b[0mvalues\u001b[0m\u001b[1;33m[\u001b[0m\u001b[0ma\u001b[0m\u001b[1;33m]\u001b[0m\u001b[1;33m)\u001b[0m\u001b[1;33m\u001b[0m\u001b[0m\n\u001b[0m\u001b[0;32m     21\u001b[0m         \u001b[0mtop_labels\u001b[0m\u001b[1;33m.\u001b[0m\u001b[0mappend\u001b[0m\u001b[1;33m(\u001b[0m\u001b[0mlabels\u001b[0m\u001b[1;33m[\u001b[0m\u001b[0ma\u001b[0m\u001b[1;33m]\u001b[0m\u001b[1;33m)\u001b[0m\u001b[1;33m\u001b[0m\u001b[0m\n\u001b[0;32m     22\u001b[0m         \u001b[0ma\u001b[0m \u001b[1;33m=\u001b[0m \u001b[0ma\u001b[0m\u001b[1;33m-\u001b[0m\u001b[1;36m1\u001b[0m\u001b[1;33m\u001b[0m\u001b[0m\n",
        "\u001b[1;31mIndexError\u001b[0m: list index out of range"
       ]
      },
      {
       "output_type": "stream",
       "stream": "stdout",
       "text": [
        "0\n"
       ]
      }
     ],
     "prompt_number": 19
    },
    {
     "cell_type": "code",
     "collapsed": false,
     "input": [
      "#Set descriptions:\n",
      "plt.title(\"Top 40: PageRank Centrality for the Cities\")\n",
      "plt.ylabel('PageRank Centrality Score')\n",
      "plt.xlabel('Cities')\n",
      "\n",
      "s = pd.Series(t_pr[0], index = t_pr[1])\n",
      "pd.Series.plot(s, kind='bar')\n",
      "plt.show()"
     ],
     "language": "python",
     "metadata": {},
     "outputs": []
    },
    {
     "cell_type": "markdown",
     "metadata": {},
     "source": [
      "Top 40 cities by pagerank centrality. "
     ]
    },
    {
     "cell_type": "code",
     "collapsed": false,
     "input": [
      "#Set descriptions:\n",
      "plt.title(\"Bottom 40: PageRank Centrality for the Cities\")\n",
      "plt.ylabel('PageRank Centrality Score')\n",
      "plt.xlabel('Cities')\n",
      "\n",
      "s = pd.Series(b_pr[0], index = b_pr[1])\n",
      "pd.Series.plot(s, kind='bar')\n",
      "plt.show()"
     ],
     "language": "python",
     "metadata": {},
     "outputs": []
    },
    {
     "cell_type": "code",
     "collapsed": false,
     "input": [],
     "language": "python",
     "metadata": {},
     "outputs": []
    },
    {
     "cell_type": "heading",
     "level": 3,
     "metadata": {},
     "source": [
      "Closeness Centrality of the City-by-City Network"
     ]
    },
    {
     "cell_type": "markdown",
     "metadata": {},
     "source": [
      "Now let's look at closeness centrality for the overall network. Top 40 cities bottom 40 cities"
     ]
    },
    {
     "cell_type": "code",
     "collapsed": false,
     "input": [
      "t_cc, b_cc =  get_top_bottom_values(close_centrality,70, 70)"
     ],
     "language": "python",
     "metadata": {},
     "outputs": []
    },
    {
     "cell_type": "code",
     "collapsed": false,
     "input": [
      "#Set descriptions:\n",
      "#t_cc, b_cc\n",
      "plt.title(\"Top 70: Closeness Centrality for the Cities\")\n",
      "plt.ylabel('Closeness Centrality Score')\n",
      "plt.xlabel('Cities')\n",
      "\n",
      "s = pd.Series(t_cc[0], index = t_cc[1])\n",
      "pd.Series.plot(s, kind='bar')\n",
      "plt.show()"
     ],
     "language": "python",
     "metadata": {},
     "outputs": []
    },
    {
     "cell_type": "code",
     "collapsed": false,
     "input": [],
     "language": "python",
     "metadata": {},
     "outputs": []
    },
    {
     "cell_type": "code",
     "collapsed": false,
     "input": [],
     "language": "python",
     "metadata": {},
     "outputs": []
    },
    {
     "cell_type": "code",
     "collapsed": false,
     "input": [
      "#Set descriptions:\n",
      "#t_cc, b_cc\n",
      "plt.title(\"Bottom 70: Closeness Centrality for the Cities\")\n",
      "plt.ylabel('Closeness Centrality Score')\n",
      "plt.xlabel('Cities')\n",
      "\n",
      "s = pd.Series(b_cc[0], index = b_cc[1])\n",
      "pd.Series.plot(s, kind='bar')\n",
      "plt.show()"
     ],
     "language": "python",
     "metadata": {},
     "outputs": []
    },
    {
     "cell_type": "code",
     "collapsed": false,
     "input": [],
     "language": "python",
     "metadata": {},
     "outputs": []
    },
    {
     "cell_type": "code",
     "collapsed": false,
     "input": [
      "G.neighbors('McLean')\n",
      "G.neighbors('Savage')"
     ],
     "language": "python",
     "metadata": {},
     "outputs": []
    },
    {
     "cell_type": "code",
     "collapsed": false,
     "input": [],
     "language": "python",
     "metadata": {},
     "outputs": []
    },
    {
     "cell_type": "markdown",
     "metadata": {},
     "source": [
      "The graph is empty because these are the nodes that have no connections in the graphs. \n",
      "Note: We might want to filter this out before"
     ]
    },
    {
     "cell_type": "code",
     "collapsed": false,
     "input": [],
     "language": "python",
     "metadata": {},
     "outputs": []
    },
    {
     "cell_type": "heading",
     "level": 3,
     "metadata": {},
     "source": [
      "Degree of the City-by-City Network"
     ]
    },
    {
     "cell_type": "markdown",
     "metadata": {},
     "source": [
      "Let's start by looking at the degree distribution of the network. "
     ]
    },
    {
     "cell_type": "heading",
     "level": 4,
     "metadata": {},
     "source": [
      "Degree Distribution"
     ]
    },
    {
     "cell_type": "code",
     "collapsed": false,
     "input": [
      "degree_sequence=sorted(nx.degree(G).values(),reverse=True) # degree sequence\n",
      "#print \"Degree sequence\", degree_sequence\n",
      "dmax=max(degree_sequence)\n",
      "\n",
      "plt.loglog(degree_sequence,'b-',marker='o')\n",
      "plt.title(\"Degree rank plot\")\n",
      "plt.ylabel(\"degree\")\n",
      "plt.xlabel(\"rank\")"
     ],
     "language": "python",
     "metadata": {},
     "outputs": []
    },
    {
     "cell_type": "code",
     "collapsed": false,
     "input": [],
     "language": "python",
     "metadata": {},
     "outputs": []
    },
    {
     "cell_type": "markdown",
     "metadata": {},
     "source": [
      "There are very few nodes wit high degree and most nodes seem to have between 15-500 degrees. \n",
      "\n",
      "You see a few one with up to 10^3 degrees making it seem like a power law behavior. "
     ]
    },
    {
     "cell_type": "code",
     "collapsed": false,
     "input": [],
     "language": "python",
     "metadata": {},
     "outputs": []
    },
    {
     "cell_type": "markdown",
     "metadata": {},
     "source": [
      "Histogram that communicates the same result"
     ]
    },
    {
     "cell_type": "code",
     "collapsed": false,
     "input": [
      "plt.xlabel('Number of Cities')\n",
      "plt.ylabel('Degree')\n",
      "plt.title('Histogram of the number of cities with a particular degree')\n",
      "plt.grid(True)\n",
      "plt.axis([0, 1000, 0, 2500])\n",
      "array = np.array(degree_sequence)\n",
      "plt.hist(array)\n",
      "plt.show()"
     ],
     "language": "python",
     "metadata": {},
     "outputs": []
    },
    {
     "cell_type": "code",
     "collapsed": false,
     "input": [],
     "language": "python",
     "metadata": {},
     "outputs": []
    },
    {
     "cell_type": "markdown",
     "metadata": {},
     "source": [
      "Let's look at the cities with the most and least connections. "
     ]
    },
    {
     "cell_type": "code",
     "collapsed": false,
     "input": [],
     "language": "python",
     "metadata": {},
     "outputs": []
    },
    {
     "cell_type": "code",
     "collapsed": false,
     "input": [
      "t_deg, b_deg =  get_top_bottom_values(degree,70, 70)"
     ],
     "language": "python",
     "metadata": {},
     "outputs": []
    },
    {
     "cell_type": "code",
     "collapsed": false,
     "input": [],
     "language": "python",
     "metadata": {},
     "outputs": []
    },
    {
     "cell_type": "code",
     "collapsed": false,
     "input": [
      "#Set descriptions:\n",
      "#t_cc, b_cc\n",
      "plt.title(\"Top 40: Degree for the Cities\")\n",
      "plt.ylabel('No of edges')\n",
      "plt.xlabel('Cities')\n",
      "\n",
      "s = pd.Series(t_deg[0], index = t_deg[1])\n",
      "pd.Series.plot(s, kind='bar')\n",
      "plt.show()"
     ],
     "language": "python",
     "metadata": {},
     "outputs": []
    },
    {
     "cell_type": "code",
     "collapsed": false,
     "input": [],
     "language": "python",
     "metadata": {},
     "outputs": []
    },
    {
     "cell_type": "code",
     "collapsed": false,
     "input": [
      "plt.title(\"Bottom 70: Degree for the Cities\")\n",
      "plt.ylabel('No of edges')\n",
      "plt.xlabel('Cities')\n",
      "\n",
      "s = pd.Series(b_deg[0], index = b_deg[1])\n",
      "pd.Series.plot(s, kind='bar')\n",
      "plt.show()"
     ],
     "language": "python",
     "metadata": {},
     "outputs": []
    },
    {
     "cell_type": "code",
     "collapsed": false,
     "input": [],
     "language": "python",
     "metadata": {},
     "outputs": []
    },
    {
     "cell_type": "markdown",
     "metadata": {},
     "source": [
      "Again, these are the nodes with no edges. Now we see why they have no closeness centrality. "
     ]
    },
    {
     "cell_type": "code",
     "collapsed": false,
     "input": [],
     "language": "python",
     "metadata": {},
     "outputs": []
    },
    {
     "cell_type": "heading",
     "level": 4,
     "metadata": {},
     "source": [
      "Remove nodes/cities with no edges from the graph"
     ]
    },
    {
     "cell_type": "code",
     "collapsed": false,
     "input": [
      "#remove nodes/cities with no edges from the graph\n",
      "isolated_cities = []\n",
      "\n",
      "for city in G.nodes():\n",
      "    if len(G.neighbors(city)) == 0:\n",
      "        isolated_cities.append(city)\n",
      "        G.remove_node(city)\n",
      "\n",
      "print \"There are \" + str(len(isolated_cities)) + \" Cities with no edges to other cities\"\n",
      "\n",
      "print \"The new network has \" + str(len(G.nodes())) + \" Cities with no edges to other cities\""
     ],
     "language": "python",
     "metadata": {},
     "outputs": []
    },
    {
     "cell_type": "heading",
     "level": 2,
     "metadata": {},
     "source": [
      "4.3.2 Network Clustering"
     ]
    },
    {
     "cell_type": "markdown",
     "metadata": {},
     "source": [
      "(\n",
      "\n",
      "Explain the **meaning** of network clustering in the context of our network: communities of destinations with high internal traveler flows but low external traveler flows\n",
      "\n",
      "Explain the **relevance** of such a classification:\n",
      "\n",
      "- Relevance for **understanding demand** of transportation infrastructure and demand for integrated touristic services and packages.\n",
      "- Identification of potential **synergies and cooperation** among destinations. \n",
      "- Relevance for making **inferences of traveler \"next steps\"** using the cluster classification of the \"first steps\".\n",
      "\n",
      ")"
     ]
    },
    {
     "cell_type": "code",
     "collapsed": false,
     "input": [],
     "language": "python",
     "metadata": {},
     "outputs": []
    },
    {
     "cell_type": "code",
     "collapsed": false,
     "input": [],
     "language": "python",
     "metadata": {},
     "outputs": []
    },
    {
     "cell_type": "code",
     "collapsed": false,
     "input": [],
     "language": "python",
     "metadata": {},
     "outputs": []
    },
    {
     "cell_type": "heading",
     "level": 1,
     "metadata": {},
     "source": [
      "5. Supervised Learning: Inference of Travelers Next Steps"
     ]
    },
    {
     "cell_type": "markdown",
     "metadata": {},
     "source": [
<<<<<<< HEAD
      "TODO: **Let's separate** what's the data structure code from what is a particular model or model run(s) in different sections:\n",
      "\n",
      "- 5.1 Data Structure\n",
      "- 5.2 Markov Chains\n",
      "- 5.3 Bayesian Classifier"
=======
      "So far in this project, we have collected and analyzed useful information regarding the geo-located network of turistic traces in the U.S. In this section we move forward to use the network and its data to make inferences regarding the next steps that a tourist will take in his/her travel within the U.S.\n",
      "\n",
      "Real-time estimations on the likelihood of the next destinations that tourists will visit would enable applications such as:\n",
      "\n",
      "- Providing tourists with personalized relevant information regarding transportation, acommodation, entertainment and food services.\n",
      "- Optimization of personalized and trip-aware marketing and advertisement strategies (tailored advertisement, revenue/price management, etc).\n",
      "- Provision of timely short-term demand predictions for touristic and destinations' local authorities."
     ]
    },
    {
     "cell_type": "markdown",
     "metadata": {},
     "source": [
      "Hence, our aim is to be able to generate estimates of the likelihood of a particular tourist visiting a particular destination, i.e.,   **$ P(\\text{Vij}|X)$**\n",
      "\n",
      "where:\n",
      "\n",
      "- **$Vij$** is the probability of turist $i$ visiting destination $j$; \n",
      "- and **$X$** is the vector of all available information regarding:\n",
      "    - prior visit/footprints that tourist $i$ has made in his/her trip in the U.S.\n",
      "    - destination $j$, \n",
      "    - tourist $i$, \n"
>>>>>>> 44364df2074fbb28dc7227ff3da273440b0714c2
     ]
    },
    {
     "cell_type": "heading",
     "level": 2,
     "metadata": {},
     "source": [
      "5.1 Data Structure for Supervised Learning"
     ]
    },
    {
     "cell_type": "markdown",
     "metadata": {},
     "source": [
      "TODO: Explain that in order to conduct the supervised learning analysis, we need to generate data structrures adequate for feeding inputs to the learning models (Markov Chains and bayesian classifier). Thus, the Big Table(s).\n"
     ]
    },
    {
     "cell_type": "heading",
     "level": 2,
     "metadata": {},
     "source": [
      "The Big Table, Part II (and a first predictive model)"
     ]
    },
    {
     "cell_type": "markdown",
     "metadata": {},
     "source": [
      "We resume our discussion of the Big Table, and explore construction of a Big Table for the\n",
      "purposes of supervised learning.\n",
      "\n",
      "Part of the reason we started saying \"Big Table\" is because we knew that to perform supervised\n",
      "learning, we would need to have many columns.\n",
      "\n",
      "But our question of what problem our Big Table seeks to solve is still not answered, because we\n",
      "do not yet have an appropriate supervised learning model.\n",
      "\n",
      "We return to our main question, where is a traveler going to go next.  There is potentially an\n",
      "implicit additional assumption to the question which we could make explicit by asking \"Where is\n",
      "a traveler going to go next, *and when*?\"  We make the simplifying assumption in our first model\n",
      "that we are only interested in *where* the traveler is going next.\n",
      "\n",
      "For our first model, we also make the simplifying assumption, based on the fact that most\n",
      "travelers go to a very\n",
      "small number of places, that we will not attempt to break a traveler's trails into trips.\n",
      "Each traveler has a single trail.  Because we only collected blog entries, all of which\n",
      "necessarily include a place, every traveler's trail has at least one entry.\n",
      "\n",
      "We start by thinking of each blogger's trail as a vector $v=(f_1,f_2,\\ldots,f_n)$, where $f_i$ is\n",
      "a footprint and $n$ is the length of the longest blogger trail.  We can therefore think of each\n",
      "blogger's trail as a vector in some kind of an $n$ dimensional vector space.\n",
      "This vector space does not have the necessary operations of distance, vector\n",
      "addition and subtraction, so it is not a proper vector space, but we can still think of the trails\n",
      "as $n$ dimensional vectors for the purposes of understanding our representation.\n",
      "Each $f_i$ is the set of  per-footprint columns (location path, publication date, etc.).\n",
      "\n",
      "*Null columns*. As a result of this representation, there will be at\n",
      "minimum $nk$ columns, where $k$ is the number of columns per footprint.\n",
      "Let $B_i$ be blogger $i$, and let $L(B_i)$ be\n",
      "the trail length of $B_i$.  Let $f_i[k]$ be the $k$th footprint for traveler $B_i$. For those\n",
      "travelers $B_i$ whose trail length $L(B_i) $ is shorter than $n$, we will need to devise special\n",
      "\"null\" column values for $f_i[k]$, where $L(B_i)<k<n$.  Null is a problematic and dirty concept,\n",
      "but our representation forces us into it.\n",
      "\n",
      "In order to make null column values, we will need to do something about the \"id\" type columns\n",
      "(`loc_id`, `blogger_id`, `publication_date_dt_id`, `blog_date_dt_id`) that we generated in our\n",
      "`generalize-combined-csv.py` script.  \"id\" type columns are series that start at 0.  We make\n",
      "a change to the script to start `id` numbers at 1 instead of 0, and regenerate the data.\n",
      "\n",
      "This will be the first Big Table that we create to start looking at supervised learning.  "
     ]
    },
    {
     "cell_type": "code",
     "collapsed": false,
     "input": [
      "from collections import defaultdict\n",
      "\n",
      "def mk_big_table_1():\n",
      "    \"\"\"Create the first type of big table and return it.  This big table has one user\n",
      "    per row, and one column group for every footprint.\n",
      "    \"\"\"\n",
      "    df = get_combined_raw_data()\n",
      "    \n",
      "    bloggerdict = defaultdict(list)\n",
      "    \n",
      "    df = df.sort('pub_ts', ascending=True)\n",
      "    \n",
      "    # We will be building a data frame with one user per row.  Each footprint will result\n",
      "    # in another set of columns, so that we will have location_path1, publication_date1,\n",
      "    # ..., location_path2, publication_date2, ...., location_pathn, publication_daten\n",
      "    # where n is the length of the longest trail in the dataset.\n",
      "    columns = df.columns.tolist()\n",
      "    \n",
      "    for k in ['bloggername', 'blogger_id']:\n",
      "        columns.remove(k)\n",
      "    \n",
      "    for blogger, row in df.iterrows():\n",
      "        for k in columns:\n",
      "            if len(bloggerdict[row['blogger_id']]) == 0:\n",
      "                bloggerdict[row['blogger_id']] = [row['bloggername'], row['blogger_id']]\n",
      "            bloggerdict[row['blogger_id']].append(row[k])\n",
      "    # print bloggerdict.keys()\n",
      "    \n",
      "    footprint_columns = ['location_path', 'publication_date', 'blog_number', 'blog_date',\n",
      "                         'latitude', 'longitude', 'pub_ts', 'blog_ts', 'loc_id',\n",
      "                         'publication_date_id', 'blog_date_id']\n",
      "    \n",
      "    datetime_columns = ['publication_date', 'blog_date' ]\n",
      "    empty_string_columns = ['location_path', 'blog_number' ]\n",
      "    id_columns = ['loc_id', 'publication_date_id', 'blog_date_id']\n",
      "    zero_columns = ['latitude', 'longitude', 'pub_ts', 'blog_ts' ]\n",
      "\n",
      "    defaults = {}\n",
      "    for k in id_columns:\n",
      "        defaults[k] = 0\n",
      "        \n",
      "    for k in zero_columns:\n",
      "        defaults[k] = 0\n",
      "        \n",
      "    for k in empty_string_columns:\n",
      "        defaults[k] = \"\"\n",
      "\n",
      "    for k in datetime_columns:\n",
      "        defaults[k] = datetime.datetime(1970,1,1)\n",
      "        \n",
      "    # We should now have in bloggerdict a bunch of arrays of variable length.  We now\n",
      "    # normalize them by padding out the remainder with \"null\" columns.\n",
      "    \n",
      "    unique_bloggers = set(df['blogger_id'].tolist())\n",
      "    blogger_footprints = {}\n",
      "    max_footprints = 0\n",
      "    for blogger_id in unique_bloggers:\n",
      "        blogger_footprints[blogger_id] = len(df[df['blogger_id'] == blogger_id])\n",
      "        if blogger_footprints[blogger_id] > max_footprints:\n",
      "            max_footprints = blogger_footprints[blogger_id]\n",
      "        \n",
      "    for blogger_id in unique_bloggers:\n",
      "        num_nulls = max_footprints - blogger_footprints[blogger_id]\n",
      "        for i in xrange(num_nulls):\n",
      "            for k in footprint_columns:\n",
      "                bloggerdict[blogger_id].append(defaults[k])\n",
      "                \n",
      "    # assert that the lengths are all the same\n",
      "    stdlen = None\n",
      "    for k,v in bloggerdict.iteritems():\n",
      "        if stdlen is None:\n",
      "            stdlen = len(v)\n",
      "        else:\n",
      "            assert(stdlen == len(v))\n",
      "            \n",
      "    # We now create our column names array.\n",
      "    colnames = ['bloggername', 'blogger_id']\n",
      "    \n",
      "    for i in xrange(max_footprints):\n",
      "        footprint_num = i+1\n",
      "        for k in footprint_columns:\n",
      "            colnames.append('{}_{}'.format(k, footprint_num))\n",
      "    # Now we just \"transpose\" and create the new df\n",
      "    \n",
      "    newdict = defaultdict(list)\n",
      "    \n",
      "    row_order = bloggerdict.keys()\n",
      "    \n",
      "    # print row_order\n",
      "    \n",
      "    for i, colname in enumerate(colnames):\n",
      "        newdict[colname] = map(lambda x: bloggerdict[x][i], row_order)\n",
      "        \n",
      "    newdf = pd.DataFrame(newdict)\n",
      "            \n",
      "    assert(stdlen == len(colnames))\n",
      "    \n",
      "    newdf = newdf[colnames]\n",
      "\n",
      "    return newdf\n",
      "\n",
      "def create_big_table_1_csv(fnam):\n",
      "    \"\"\"Create a big table and write it to csv.\"\"\"\n",
      "    mk_big_table_1().to_csv(fnam)\n",
      "\n",
      "bt1_csv_fnam = \"big_table_1.csv\"\n",
      "# Uncomment to generate big_table_1_csv.\n",
      "\n",
      "if not os.path.exists(bt1_csv_fnam):\n",
      "    create_big_table_1_csv(bt1_csv_fnam)\n",
      "\n",
      "def thaw_big_table_1(fnam):\n",
      "    import re\n",
      "    df = pd.read_csv(fnam)\n",
      "    p = re.compile('^(publication|blog)_date_\\d+$')\n",
      "    \n",
      "    for colname in df.columns:\n",
      "        if p.match(colname):\n",
      "            df[colname] = pd.to_datetime(df[colname])\n",
      "            \n",
      "    # Get rid of redundant or unneeded columns.\n",
      "    redundant_columns = ['Unnamed: 0']\n",
      "    df = df.drop(redundant_columns, axis=1)\n",
      " \n",
      "    return df\n",
      "\n",
      "bt1_df = thaw_big_table_1(bt1_csv_fnam)\n",
      "\n"
     ],
     "language": "python",
     "metadata": {},
     "outputs": []
    },
    {
     "cell_type": "code",
     "collapsed": false,
     "input": [
      "# Try some experiments on bt1_df here\n",
      "bt1_df.columns\n",
      "print \"OK\"\n"
     ],
     "language": "python",
     "metadata": {},
     "outputs": []
    },
    {
     "cell_type": "heading",
     "level": 2,
     "metadata": {},
     "source": [
      "5.2 Benchmark Inference Model"
     ]
    },
    {
     "cell_type": "markdown",
     "metadata": {},
     "source": [
      "TODO (description): \n",
      "\n",
      "- explain why we introduce a benchmark\n",
      "- explain the benchmark we will use"
     ]
    },
    {
     "cell_type": "markdown",
     "metadata": {},
     "source": [
      "TODO (development):\n",
      "\n",
      "- Filter the database to get only tourists with 3 or more footprints.\n",
      "- Divide the sample into the training set and the test set.\n",
      "- Generate the vector $Yij$ : a 0|1 vector describing, for each (tourist i, destination) pair whether tourist $i$ in fact visited destination $j$\n",
      "- Generate a list of city popularities based on raw frequencies of tourist visits.\n",
      "- Make predictions on tourists' next $n$ destinations to visit based on the popularity rankings.\n",
      "- Evaluate the model performance (cross-validation).\n",
      "\n",
      "Note 1:\n",
      "In this *section 5.2* we'll introduce and construct the functions for standardized: database division into training and test sets, model performance evaluation, and cross-validation. All of which will be used in the following section(s).\n",
      "\n",
      "\n",
      "Note 2: I know have a clear idea on how to define and evaluate the precision of the models in a standardized manner, consistent with the objectives set forth in *section 5.0*. Let\u00b4s talk that on the phone."
     ]
    },
    {
     "cell_type": "heading",
     "level": 2,
     "metadata": {},
     "source": [
      "5.2 Bayesian Classifier"
     ]
    },
    {
     "cell_type": "markdown",
     "metadata": {},
     "source": [
      "In this section we will use a Naive Bayesian Classifier to estimate which destinations are the most likely to be visited next by a given tourist, based on the $P(\\text{Vij}|X)$ estimates to be generated. The following is the overall description of the process to be followed:\n",
      "\n",
      "- Filter the database to get only tourists with 3 or more footprints.\n",
      "- Divide the sample into the training set and the test set.\n",
      "- Generate the vector $Yij$ : a 0|1 vector describing, for each (tourist i, destination) pair whether tourist $i$ in fact visited destination $j$\n",
      "\n",
      " \n",
      "- Generate the corresponding table $X$, containing in each row the explanatory variables for each entry in $Yij$:\n",
      "    - prior visit/footprints that tourist $i$ has made in his/her trip in the U.S.\n",
      "    - destination $j$, \n",
      "    - tourist $i$, \n",
      "\n",
      "- Train the Naive Bayesian Classifier with $Yij$ and $X$.\n",
      "- Use the resulting model parameters for obtaining the $ P(\\text{Vij}|X)$\n",
      "- Evaluate the model performance\n",
      "\n",
      " \n",
      "- Identify key parameters and perform optimization search over them, with the cross-validated performance as objective function"
     ]
    },
    {
     "cell_type": "markdown",
     "metadata": {},
     "source": [
      "NOTE: take a look at : http://scikit-learn.org/stable/modules/naive_bayes.html\n",
      "\n",
      "particularly at the #gaussian-naive-bayes\n",
      "\n",
      "In HW3 we used the MultinomialNB which is used mainly for text analysis (where variables xi are the frequency of a certain word in the text), our case is somewhat different because we'll be using various xi's, e.g.: destination ID of previous footprints, network cluster they belong to, their time of the year, etc."
     ]
    },
    {
     "cell_type": "markdown",
     "metadata": {},
     "source": [
      "TODO: Explain the Naive Bayes and its formulas (based on the description in http://scikit-learn.org/stable/modules/naive_bayes.html)"
     ]
    },
    {
     "cell_type": "code",
     "collapsed": false,
     "input": [],
     "language": "python",
     "metadata": {},
     "outputs": []
    },
    {
     "cell_type": "heading",
     "level": 2,
     "metadata": {},
     "source": [
      "5.3 Building a Markov Chain transition matrix"
     ]
    },
    {
     "cell_type": "markdown",
     "metadata": {},
     "source": [
      "Returning to our previous Markov Chain discussion, we construct a\n",
      "simple Markov Chain transition matrix $M(y,\\Theta)$ in order to\n",
      "predict where a traveller will go next.  We will use this as a\n",
      "baseline to evaluate results from Supervised Learning.\n",
      "\n",
      "$$\n",
      "P(\\text{next city is }\\Theta|\\text{Current city is }y)=\n",
      "\\frac{\\text{# of times $\\Theta$ follows $y$}}\n",
      "{\\text{# of times anything follows $y$}}\n",
      "$$\n",
      "\n",
      "To construct this transition matrix $M$, which is $p\\times p$ where $p$ is\n",
      "the total number of locations, we first build a set of all\n",
      "trails.  We then take all subsequences $xy$ of length 2 and\n",
      "partition into sets by the value of $x$.  Then using this data partitioning,\n",
      "we will populate $M(x,y)$ for each pair $(x,y)$:\n",
      "\n",
      "$$M(x,y) = \\frac{|\\{ab:a=x \\text{ and } b=y\\}|}{|\\{ab:a=x\\}|}$$\n",
      "\n",
      "With Big Table 1, the initial construction of all trails is simple.  If we\n",
      "think like a C programmer, we could view Big Table 1 as an array of char\n",
      "arrays of the same allocated length, but null-terminated at different\n",
      "indices.  Each row is a blogger's trail, so to construct the trails, we\n",
      "just iterate through the rows and extract the sequence of footprints\n",
      "up to, but not including, the first null footprint (see discussion of\n",
      "null values above).\n",
      "\n",
      "The first tool we create to perform this calculation takes a big table\n",
      "and turns it into a map of blogger names to location id sequences."
     ]
    },
    {
     "cell_type": "code",
     "collapsed": false,
     "input": [
      "def bt_to_trails(df):\n",
      "    \"\"\"Return a dictionary mapping bloggernames to trails, given a big table.\"\"\"\n",
      "    d = defaultdict(list)\n",
      "    colnames = set(df.columns)\n",
      "    for _, row in df.iterrows():\n",
      "        bloggername = row['bloggername']\n",
      "        for i in itertools.count(1):\n",
      "            colname = 'loc_id_{}'.format(i)\n",
      "            # The only time we will see this true \n",
      "            if colname not in colnames:\n",
      "                break\n",
      "            curr_loc_id = row[colname]\n",
      "            # We have constructed our IDs so that they start with 1, giving us a \"null id\"\n",
      "            # value of 0.  See discussion of nulls above.  We here use the null location\n",
      "            # id as our \"trail terminator\".\n",
      "            if curr_loc_id == 0:\n",
      "                break\n",
      "            d[bloggername].append(curr_loc_id)\n",
      "    return d"
     ],
     "language": "python",
     "metadata": {},
     "outputs": []
    },
    {
     "cell_type": "markdown",
     "metadata": {},
     "source": [
      "We take the opportunity to exploit the iterative nature of the Data Science process by going\n",
      "back to do a little more exploration to confirm and revisit some of our earlier results.\n",
      "\n",
      "We use our new function to make a histogram of trail lengths, which\n",
      "we create with a utility.  We expect to see the same histogram\n",
      "\"Total number of trips made per user\" above, and we see that this is the case. "
     ]
    },
    {
     "cell_type": "code",
     "collapsed": false,
     "input": [
      "def dict_of_lists_to_list_len_hist(dict_of_lists, xlabel, ylabel, title,\n",
      "                                   cutoff_len_hi=None, bins=None):\n",
      "    \"\"\"Given a dictionary of lists, show a histogram of the list lengths.\"\"\"\n",
      "    lengths = map(len, dict_of_lists.values())\n",
      "    \n",
      "    if bins is None:\n",
      "        bins = len(set(lengths))\n",
      "    \n",
      "    if cutoff_len_hi is not None:\n",
      "        lengths = filter(lambda x: x < cutoff_len_hi, lengths)\n",
      "\n",
      "    plt.xlabel(xlabel)\n",
      "    plt.ylabel(ylabel)\n",
      "    plt.title(title)\n",
      "    \n",
      "    plt.hist(lengths, bins)\n",
      "    \n",
      "trails_dict = bt_to_trails(bt1_df)\n",
      "    \n",
      "dict_of_lists_to_list_len_hist(trails_dict, \"trail length\", \"number of trails\",\n",
      "                               \"Histogram of per-user trail lengths\")"
     ],
     "language": "python",
     "metadata": {},
     "outputs": []
    },
    {
     "cell_type": "markdown",
     "metadata": {},
     "source": [
      "We already knew that very few users make more than 50 trips.  In order to get a more detailed\n",
      "view of the histogram of those users who make 50 trips or fewer, we draw another histogram.\n",
      "We add a parameter 'cutoff_len_hi' to our function to support this new use case, and making\n",
      "another helper."
     ]
    },
    {
     "cell_type": "code",
     "collapsed": false,
     "input": [
      "def explore_trail_lengths_cutoff(trails_dict, cutoff=None, bins=None):\n",
      "    dict_of_lists_to_list_len_hist(trails_dict, \"trail length\", \"number of trails\",\n",
      "                                   \"Histogram of per-user trail lengths < {}\".format(cutoff),\n",
      "                                   cutoff_len_hi = cutoff)\n",
      "    \n",
      "explore_trail_lengths_cutoff(trails_dict, cutoff=50)"
     ],
     "language": "python",
     "metadata": {},
     "outputs": []
    },
    {
     "cell_type": "markdown",
     "metadata": {},
     "source": [
      "By setting our cutoff even further, we get an even better idea of the distribution in the low end."
     ]
    },
    {
     "cell_type": "code",
     "collapsed": false,
     "input": [
      "explore_trail_lengths_cutoff(trails_dict, cutoff=10)"
     ],
     "language": "python",
     "metadata": {},
     "outputs": []
    },
    {
     "cell_type": "heading",
     "level": 3,
     "metadata": {},
     "source": [
      "Virtual source and sink locations"
     ]
    },
    {
     "cell_type": "markdown",
     "metadata": {},
     "source": [
      "In our group calls, we discussed the issue that we don't know where travelers are starting\n",
      "from because we don't know their home town.  But we can form a simplifying assumption that\n",
      "all trails start from the same location, some specially designated location node $source$.\n",
      "This gives us a way to model entry into the Markov matrix, as well as allowing all of the travelers\n",
      "with only one destination to fully participate in the model.  We also need a way to model a\n",
      "user not going\n",
      "anywhere else (terminating their trail).  We designate a special sink node $sink$ for that,\n",
      "with $M(sink,p)=1$ for $p=sink$ and $0$ for $p\\ne sink$.\n",
      "\n",
      "We will use the null location id (0) to model the sink $sink$, and `1+max(loc_id)`\n",
      "to model the origin node $start$.\n",
      "\n",
      "First we set up some helper functions to convert back and forth between ID numbers and\n",
      "strings for both locations and bloggers."
     ]
    },
    {
     "cell_type": "code",
     "collapsed": false,
     "input": [
      "# Set up some lookup tables, with some special nodes for source and sink.\n",
      "\n",
      "# We do a lot here to work around not having a relational database.  Relational\n",
      "# database practitioners would say that we should be using a relational database,\n",
      "# but we decided as a team to stay with a paradigm we are all familiar with.\n",
      "\n",
      "_loc_id_to_location_path = {}\n",
      "_location_path_to_loc_id = {}\n",
      "_bloggername_to_blogger_id = {}\n",
      "_blogger_id_to_bloggername = {}\n",
      "\n",
      "def load_idmaps():\n",
      "    \"\"\"Populate the lookup tables.\"\"\"\n",
      "    if any(_loc_id_to_location_path):\n",
      "        return True\n",
      "    df = thaw_general_csv()\n",
      "    for _, row in df.iterrows():\n",
      "        _loc_id_to_location_path[row['loc_id']] = row['location_path']\n",
      "        _location_path_to_loc_id[row['location_path']] = row['loc_id']\n",
      "        _bloggername_to_blogger_id[row['bloggername']] = row['blogger_id']\n",
      "        _blogger_id_to_bloggername[row['blogger_id']] = row['bloggername']\n",
      "\n",
      "    assert(\"SOURCE\" not in _location_path_to_loc_id)\n",
      "    assert(\"SINK\" not in _location_path_to_loc_id) \n",
      "    assert(0 not in _loc_id_to_location_path)\n",
      "    source_id = df['loc_id'].max() + 1\n",
      "    assert(source_id not in _loc_id_to_location_path)\n",
      "\n",
      "    _loc_id_to_location_path[source_id] = \"SOURCE\"\n",
      "    _loc_id_to_location_path[0] = \"SINK\"\n",
      "    _location_path_to_loc_id[\"SOURCE\"] = source_id\n",
      "    _location_path_to_loc_id[\"SINK\"] = 0\n",
      "    \n",
      "    return True\n",
      "\n",
      "def loc_id_to_location_path(loc_id):\n",
      "    load_idmaps()\n",
      "    return _loc_id_to_location_path[loc_id]\n",
      "\n",
      "def location_path_to_loc_id(location_path):\n",
      "    load_idmaps()\n",
      "    return _location_path_to_loc_id[location_path]\n",
      "\n",
      "def bloggername_to_blogger_id(bloggername):\n",
      "    load_idmaps()\n",
      "    return _bloggername_to_blogger_id[bloggername]\n",
      "\n",
      "def blogger_id_to_bloggername(blogger_id):\n",
      "    load_idmaps()\n",
      "    return _blogger_id_to_bloggername[blogger_id]"
     ],
     "language": "python",
     "metadata": {},
     "outputs": []
    },
    {
     "cell_type": "markdown",
     "metadata": {},
     "source": [
      "Now we build our actual Markov transition matrix.  It will be a 2D array, $n+2$ by $n+2$, one\n",
      "entry for each location plus our two special source and sink nodes.\n",
      "\n",
      "We iterate through every pair of locations $a$ and $b$ such that some traveler has gone from $a$ to\n",
      "$b$, and build up a map structure.  We then sum the relevant number of occurrences, and construct\n",
      "the Markov matrix.  In the function that builds the transition matrix, we sanity check the\n",
      "transition probabilities to make sure it is actually a Markov matrix."
     ]
    },
    {
     "cell_type": "code",
     "collapsed": false,
     "input": [
      "def locid_colname(i):\n",
      "    return 'loc_id_{}'.format(i)\n",
      "\n",
      "def get_sinkid():\n",
      "    return location_path_to_loc_id(\"SINK\")\n",
      "\n",
      "\n",
      "def build_transition_dict(df):\n",
      "    \"\"\"Build a transition dict from a big table.\"\"\"\n",
      "    \n",
      "    def second_level_dict():\n",
      "        return defaultdict(int)\n",
      "    \n",
      "    tdict = defaultdict(second_level_dict)\n",
      "    \n",
      "    colnames = set(df.columns)\n",
      "    \n",
      "    sink_locid = get_sinkid()\n",
      "    source_locid = location_path_to_loc_id(\"SOURCE\")\n",
      "    \n",
      "    for _, row in df.iterrows():\n",
      "        for i in itertools.count(1):\n",
      "            \n",
      "            colname = locid_colname(i)\n",
      "            prev_colname = locid_colname(i-1)\n",
      "            \n",
      "            # 3 possibilities.  First is that we have \"run off the end\".  This\n",
      "            # will only happen if we are processing the user with the longest\n",
      "            # trail.  We add one from the last location to the sink node.\n",
      "            if colname not in colnames:\n",
      "                tdict[row[prev_colname]][sink_locid] += 1\n",
      "                break\n",
      "            # Second possibility is that we are at the beginning.  We add one from\n",
      "            # the source node to the current location.\n",
      "            elif i == 1:\n",
      "                tdict[source_locid][row[colname]] += 1\n",
      "            # Third possibility is that we are in a \"normal\" footprint or have reached\n",
      "            # the end, as signaled by the sink node (which is ID 0).  In either case\n",
      "            # we add one to the appropriate counter, and if we are at the end, we\n",
      "            # break.\n",
      "            else:\n",
      "                tdict[row[prev_colname]][row[colname]] += 1\n",
      "                if row[colname] == sink_locid:\n",
      "                    break\n",
      "    return tdict\n",
      "        \n",
      "def bt_to_trails(df):\n",
      "    \"\"\"Return a dictionary mapping bloggernames to trails, given a big table.\"\"\"\n",
      "    d = defaultdict(list)\n",
      "    colnames = set(df.columns)\n",
      "    for _, row in df.iterrows():\n",
      "        bloggername = row['bloggername']\n",
      "        for i in itertools.count(1):\n",
      "            colname = 'loc_id_{}'.format(i)\n",
      "            # The only time we will see this true \n",
      "            if colname not in colnames:\n",
      "                break\n",
      "            curr_loc_id = row[colname]\n",
      "            # We have constructed our IDs so that they start with 1, giving us a \"null id\"\n",
      "            # value of 0.  See discussion of nulls above.  We here use the null location\n",
      "            # id as our \"trail terminator\".\n",
      "            if curr_loc_id == 0:\n",
      "                break\n",
      "            d[bloggername].append(curr_loc_id)\n",
      "    return d\n",
      "\n",
      "def build_transition_table(tdict):\n",
      "    # We rely on the fact that the sink id is 0 and the source id is the highest ID.\n",
      "    # We instantiate a 2D array of dimen source_id+1 by source_id+1\n",
      "    source_id = location_path_to_loc_id(\"SOURCE\")\n",
      "    dimen = source_id+1\n",
      "    \n",
      "    m = np.zeros((dimen, dimen))\n",
      "    \n",
      "    for i in xrange(dimen):\n",
      "        idict = tdict[i]\n",
      "        tot_idict = float(sum(tdict[i].values()))\n",
      "        \n",
      "        for j in xrange(dimen):\n",
      "            if tot_idict == 0:\n",
      "                p = 0\n",
      "            else:\n",
      "                p = tdict[i][j] / tot_idict\n",
      "            m[i][j] = p\n",
      "            \n",
      "        m[0][0] = 1\n",
      "        \n",
      "    sinkid = get_sinkid()\n",
      "        \n",
      "    for i in xrange(dimen):\n",
      "        s = np.sum(m[i])\n",
      "        assert(s < 1.00001)\n",
      "        if s <= 0.99999:\n",
      "            # There are some location IDs for places that got thrown out (such as\n",
      "            # blog entries from before the cutoff date whose places are not represented\n",
      "            # in later entries).  Give them a transition probability of 1 to the\n",
      "            # sink.  Uncomment the following line to see what these places are.\n",
      "            # print loc_id_to_location_path(i)\n",
      "            assert(s == 0.0)\n",
      "            m[i][sinkid] = 1\n",
      "            continue\n",
      "        assert(s > 0.99999)\n",
      "            \n",
      "    return m\n",
      "\n",
      "transition_dict = build_transition_dict(bt1_df)\n",
      "\n",
      "markov_table = build_transition_table(transition_dict)"
     ],
     "language": "python",
     "metadata": {},
     "outputs": []
    },
    {
     "cell_type": "heading",
     "level": 2,
     "metadata": {},
     "source": [
      "Adding features to footprints in preparation for supervised learning"
     ]
    },
    {
     "cell_type": "markdown",
     "metadata": {},
     "source": [
      "One of the topics we discussed at length in our group calls was how to proceed with the supervised\n",
      "learning portion, in particular what we wanted to predict and how we would measure success.\n",
      "We decided that we wanted to use a Bayesian classifier to predict transition\n",
      "probabilities for next locations.  For a benchmark comparison, we could measure that set of\n",
      "probabilities against the Markov matrix generated above, and see which would perform better\n",
      "for yielding something closer to the actual observed value.  In order to perform better than\n",
      "the Markov matrix on an individual prediction, the probability for the actual value would need\n",
      "to be greater than that given by the Markov transition probability.\n",
      "\n",
      "One of the other topics we discussed was the need to add more features to the big table, so that\n",
      "the classifier would have more information to use during the training phase.  We decided to add\n",
      "columns for year and month of footprint, as well as boolean features for destinations, such as National Park (T/F) or City (T/F).  We considered other features, such as whether or not a\n",
      "destination is considered a cultural destination, but due to time constraints we were not able\n",
      "to add such features.\n",
      "\n",
      "To avoid as much as possible the hand-editing of boolean features, we print the unique destination\n",
      "names and their IDs below, and use some creativity with Python to avoid hand-maintaining a csv file.\n"
     ]
    },
    {
     "cell_type": "code",
     "collapsed": false,
     "input": [
      "def real_head(df, num_rows):\n",
      "    \"\"\"Actually print the number of rows specified (for looking at a lot of rows).\"\"\"\n",
      "    options = ['display.height', 'display.max_rows']\n",
      "    current = map(pd.get_option, options)\n",
      "    map(lambda x: pd.set_option(x, num_rows), options)\n",
      "    return df.head(num_rows)\n",
      "    # map(lambda x: pd.set_option(x[0], x[1]), zip(options, current))\n",
      "\n",
      "def unique_rows_from_df(df, columns):\n",
      "    # Stack Overflow 9758450\n",
      "    subset = df[columns]\n",
      "    tuples = sorted(list(set([tuple(x) for x in subset.values])))\n",
      "    return pd.DataFrame(tuples, columns=columns)\n",
      "\n",
      "locations_df = unique_rows_from_df(bt1_df, ['location_path_1', 'loc_id_1'])\n",
      "locations_df.location_path_1 = locations_df.location_path_1.apply(lambda x: eval(x)[-2:])\n",
      "real_head(locations_df, 10)"
     ],
     "language": "python",
     "metadata": {},
     "outputs": []
    },
    {
     "cell_type": "markdown",
     "metadata": {},
     "source": [
      "Unfortunately, we can see that we have too many unique locations (more than 1440) to comb through in the remaining time.  We\n",
      "will need to make the most out of features that can be programmatically added in a time-efficient manner, such as the month\n",
      "and year."
     ]
    },
    {
     "cell_type": "code",
     "collapsed": false,
     "input": [
      "print len(locations_df)"
     ],
     "language": "python",
     "metadata": {},
     "outputs": []
    },
    {
     "cell_type": "heading",
     "level": 1,
     "metadata": {},
     "source": [
      "6. Concluding Remarks"
     ]
    },
    {
     "cell_type": "code",
     "collapsed": false,
     "input": [],
     "language": "python",
     "metadata": {},
     "outputs": []
    },
    {
     "cell_type": "code",
     "collapsed": false,
     "input": [],
     "language": "python",
     "metadata": {},
     "outputs": []
    },
    {
     "cell_type": "code",
     "collapsed": false,
     "input": [],
     "language": "python",
     "metadata": {},
     "outputs": []
    },
    {
     "cell_type": "code",
     "collapsed": false,
     "input": [],
     "language": "python",
     "metadata": {},
     "outputs": []
    },
    {
     "cell_type": "code",
     "collapsed": false,
     "input": [],
     "language": "python",
     "metadata": {},
     "outputs": []
    },
    {
     "cell_type": "code",
     "collapsed": false,
     "input": [],
     "language": "python",
     "metadata": {},
     "outputs": []
    },
    {
     "cell_type": "code",
     "collapsed": false,
     "input": [],
     "language": "python",
     "metadata": {},
     "outputs": []
    },
    {
     "cell_type": "code",
     "collapsed": false,
     "input": [],
     "language": "python",
     "metadata": {},
     "outputs": []
    },
    {
     "cell_type": "code",
     "collapsed": false,
     "input": [],
     "language": "python",
     "metadata": {},
     "outputs": []
    },
    {
     "cell_type": "code",
     "collapsed": false,
     "input": [],
     "language": "python",
     "metadata": {},
     "outputs": []
    },
    {
     "cell_type": "code",
     "collapsed": false,
     "input": [],
     "language": "python",
     "metadata": {},
     "outputs": []
    },
    {
     "cell_type": "code",
     "collapsed": false,
     "input": [],
     "language": "python",
     "metadata": {},
     "outputs": []
    },
    {
     "cell_type": "code",
     "collapsed": false,
     "input": [],
     "language": "python",
     "metadata": {},
     "outputs": []
    },
    {
     "cell_type": "code",
     "collapsed": false,
     "input": [],
     "language": "python",
     "metadata": {},
     "outputs": []
    }
   ],
   "metadata": {}
  }
 ]
}